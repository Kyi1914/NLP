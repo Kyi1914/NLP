{
 "cells": [
  {
   "cell_type": "markdown",
   "metadata": {},
   "source": [
    "## DL - LSTM"
   ]
  },
  {
   "cell_type": "markdown",
   "metadata": {},
   "source": [
    "## BiLSTM"
   ]
  },
  {
   "cell_type": "markdown",
   "metadata": {},
   "source": [
    "$$ (h_t, c_t) = LSTM (x_t, h_{t-1},c_{t-1}) $$\n",
    "\n",
    "where\n",
    "\n",
    "$$ i_t = \\sigma (W_{ii}x_{t} + b_{ii} + W_{hi}h_{h-1} + b_{hi}) $$\n",
    "$$ f_t = \\sigma (W_{if})x_{t} $$"
   ]
  },
  {
   "cell_type": "markdown",
   "metadata": {},
   "source": [
    "Note:\n",
    "input to LSTM:\n",
    "- input itself $$ x_t $$ \n",
    "- the previous heading stage $$ h_{t-1} $$\n",
    "- the previous cell stage $$ c_{t-1} $$"
   ]
  },
  {
   "cell_type": "code",
   "execution_count": null,
   "metadata": {},
   "outputs": [],
   "source": []
  },
  {
   "cell_type": "code",
   "execution_count": null,
   "metadata": {},
   "outputs": [],
   "source": []
  }
 ],
 "metadata": {
  "language_info": {
   "name": "python"
  }
 },
 "nbformat": 4,
 "nbformat_minor": 2
}
