{
 "cells": [
  {
   "cell_type": "markdown",
   "metadata": {},
   "source": [
    "# A4: Resume Parser"
   ]
  },
  {
   "cell_type": "markdown",
   "metadata": {},
   "source": [
    "## 1. Load data"
   ]
  },
  {
   "cell_type": "code",
   "execution_count": 1,
   "metadata": {},
   "outputs": [],
   "source": [
    "import numpy as np \n",
    "import pandas as pd\n",
    "import spacy"
   ]
  },
  {
   "cell_type": "code",
   "execution_count": 2,
   "metadata": {},
   "outputs": [],
   "source": [
    "df_resume = pd.read_csv('data/Resume.csv')"
   ]
  },
  {
   "cell_type": "code",
   "execution_count": 3,
   "metadata": {},
   "outputs": [
    {
     "data": {
      "text/html": [
       "<div>\n",
       "<style scoped>\n",
       "    .dataframe tbody tr th:only-of-type {\n",
       "        vertical-align: middle;\n",
       "    }\n",
       "\n",
       "    .dataframe tbody tr th {\n",
       "        vertical-align: top;\n",
       "    }\n",
       "\n",
       "    .dataframe thead th {\n",
       "        text-align: right;\n",
       "    }\n",
       "</style>\n",
       "<table border=\"1\" class=\"dataframe\">\n",
       "  <thead>\n",
       "    <tr style=\"text-align: right;\">\n",
       "      <th></th>\n",
       "      <th>ID</th>\n",
       "      <th>Resume_str</th>\n",
       "      <th>Resume_html</th>\n",
       "      <th>Category</th>\n",
       "    </tr>\n",
       "  </thead>\n",
       "  <tbody>\n",
       "    <tr>\n",
       "      <th>0</th>\n",
       "      <td>16852973</td>\n",
       "      <td>HR ADMINISTRATOR/MARKETING ASSOCIATE\\...</td>\n",
       "      <td>&lt;div class=\"fontsize fontface vmargins hmargin...</td>\n",
       "      <td>HR</td>\n",
       "    </tr>\n",
       "    <tr>\n",
       "      <th>1</th>\n",
       "      <td>22323967</td>\n",
       "      <td>HR SPECIALIST, US HR OPERATIONS      ...</td>\n",
       "      <td>&lt;div class=\"fontsize fontface vmargins hmargin...</td>\n",
       "      <td>HR</td>\n",
       "    </tr>\n",
       "    <tr>\n",
       "      <th>2</th>\n",
       "      <td>33176873</td>\n",
       "      <td>HR DIRECTOR       Summary      Over 2...</td>\n",
       "      <td>&lt;div class=\"fontsize fontface vmargins hmargin...</td>\n",
       "      <td>HR</td>\n",
       "    </tr>\n",
       "    <tr>\n",
       "      <th>3</th>\n",
       "      <td>27018550</td>\n",
       "      <td>HR SPECIALIST       Summary    Dedica...</td>\n",
       "      <td>&lt;div class=\"fontsize fontface vmargins hmargin...</td>\n",
       "      <td>HR</td>\n",
       "    </tr>\n",
       "    <tr>\n",
       "      <th>4</th>\n",
       "      <td>17812897</td>\n",
       "      <td>HR MANAGER         Skill Highlights  ...</td>\n",
       "      <td>&lt;div class=\"fontsize fontface vmargins hmargin...</td>\n",
       "      <td>HR</td>\n",
       "    </tr>\n",
       "  </tbody>\n",
       "</table>\n",
       "</div>"
      ],
      "text/plain": [
       "         ID                                         Resume_str  \\\n",
       "0  16852973           HR ADMINISTRATOR/MARKETING ASSOCIATE\\...   \n",
       "1  22323967           HR SPECIALIST, US HR OPERATIONS      ...   \n",
       "2  33176873           HR DIRECTOR       Summary      Over 2...   \n",
       "3  27018550           HR SPECIALIST       Summary    Dedica...   \n",
       "4  17812897           HR MANAGER         Skill Highlights  ...   \n",
       "\n",
       "                                         Resume_html Category  \n",
       "0  <div class=\"fontsize fontface vmargins hmargin...       HR  \n",
       "1  <div class=\"fontsize fontface vmargins hmargin...       HR  \n",
       "2  <div class=\"fontsize fontface vmargins hmargin...       HR  \n",
       "3  <div class=\"fontsize fontface vmargins hmargin...       HR  \n",
       "4  <div class=\"fontsize fontface vmargins hmargin...       HR  "
      ]
     },
     "execution_count": 3,
     "metadata": {},
     "output_type": "execute_result"
    }
   ],
   "source": [
    "df_resume.head(5)"
   ]
  },
  {
   "cell_type": "code",
   "execution_count": 4,
   "metadata": {},
   "outputs": [
    {
     "data": {
      "text/plain": [
       "array(['HR', 'DESIGNER', 'INFORMATION-TECHNOLOGY', 'TEACHER', 'ADVOCATE',\n",
       "       'BUSINESS-DEVELOPMENT', 'HEALTHCARE', 'FITNESS', 'AGRICULTURE',\n",
       "       'BPO', 'SALES', 'CONSULTANT', 'DIGITAL-MEDIA', 'AUTOMOBILE',\n",
       "       'CHEF', 'FINANCE', 'APPAREL', 'ENGINEERING', 'ACCOUNTANT',\n",
       "       'CONSTRUCTION', 'PUBLIC-RELATIONS', 'BANKING', 'ARTS', 'AVIATION'],\n",
       "      dtype=object)"
      ]
     },
     "execution_count": 4,
     "metadata": {},
     "output_type": "execute_result"
    }
   ],
   "source": [
    "df_resume.Category.unique()"
   ]
  },
  {
   "cell_type": "code",
   "execution_count": 5,
   "metadata": {},
   "outputs": [
    {
     "data": {
      "text/plain": [
       "(1000, 4)"
      ]
     },
     "execution_count": 5,
     "metadata": {},
     "output_type": "execute_result"
    }
   ],
   "source": [
    "df_resume = df_resume.reindex(np.random.permutation(df_resume.index))\n",
    "df_resume = df_resume.copy().iloc[:1000,]\n",
    "df_resume.shape"
   ]
  },
  {
   "cell_type": "code",
   "execution_count": 6,
   "metadata": {},
   "outputs": [
    {
     "data": {
      "text/plain": [
       "array([\"         CLINICAL STUDY COORDINATOR II           Professional Background    Clinical professional with the proven ability to work with diverse clients and staff. Recognized for capacity to learn and willingness to take on new challenges and responsibilities. Interested in advancing myself personally and professionally in the Clinical Research field.      Skill Highlights        Microsoft Office applications Proficiency in multiple CTMS, eCRF, EDC, IWRS/IXRS platforms              Professional Experience      Clinical Study Coordinator II    October 2015   to   Current     Company Name   －   City  ,   State      Coordinate clinical trials for the Surgical Research department with a primary focus in Cardiovascular and Vascular device related studies. Communicate closely with surgical staff, pharmaceutical companies, surgical device manufacturers and contract research organizations.\\xa0  Author informed patient consent forms for clinical trials, in accordance with Internal Review Board (IRB) and trial sponsor standards. Monitor studies to ensure continued compliance with federal and IRB regulations. Author IRB clinical trial submission, planned changed, continuation and end of study forms.\\xa0  Collect data from patient medical records, examinations and procedures, prepare and complete sponsor's clinical report forms. Monitor and document for AE and SAE occurence for submission to appropriate entities.\\xa0  Responsible for device and drug accountability for each study. Communicate closely with hospital pharmaceutical service and ensure adherence to all pharmacy ans sponsor protocols.\\xa0  Introduced department to more efficient and improved patient payment process. Created department wide documents to improve trial efficiency including AE and SAE monitoring source documents, proof of patient payment forms, temperature monitoring logs for drug/device storage. Assisted and trained fellow staff with use of Epic EHR/EMR systems.\\xa0          Clinical Research Coordinator I    November 2014   to   October 2015     Company Name   －   City  ,   State      Coordinated pharmaceutical Phase II, III, and IV clinical trials across multiple therapeutic areas, collaborating closely with physicians and staff, representatives from pharmaceutical companies, contract research organizations and academic institutions.  Developed materials and tools necessary to appropriately carry out study procedures including source document development, study timelines and study related procedure strategies and execution plans.\\xa0  Interviewed and recruited patients for studies following protocols established jointly by study staff and project sponsors.\\xa0Ensured all materials for each clinical trial protocol are available for subject enrollment and properly maintained.  Maintained extensive patient contact, via telephone and written correspondence. Monitored patients to track follow-up visits, record AE and SAE's and patient outcomes. Performeded specimen collection, processing and shipment of biological specimens.  Experience in multiple therapeutic areas including: Asthma, COPD, Women's Health, Hyperlipidemia, Gastrointestinal, Gout, Diabetes, Immunology and Vaccine trial studies.          Exercise Specialist    July 2013   to   October 2014     Company Name   －   City  ,   State      Supervised exercise sessions for phase II and III cardiac rehabilitation patients, including monitoring of cardiac telemetry unit, response to exercise, patient safety.  Conducted patient orientations, prescribe cardiovascular and strength training exercise tailored to individual needs of patient.\\xa0 Provided and developed educational services and materials.   Oversaw student internship program, develop educational materials, assess student learning.  Performed clerical duties including billing, insurance verification and patient registration.          Cardiovascular Medical Technician    July 2013   to   March 2014     Company Name   －   City  ,   State      Conducted noninvasive cardiovascular testing procedures including; exercise and pharmacologic stress echos, exercise and pharmacologic nuclear stress tests and tilt table testing.  Prepared patients for 24-hour holter and 30-day event monitor services, conducted inpatient and outpatient ECGs.          Exercise Specialist    May 2013   to   October 2013     Company Name   －   City  ,   State      Consulted patients on exercise and health promoting behavior.  Designed customized training programs that addressed health problems, risk factor modification, specific injuries/physical limitations, and fitness goals.  Performed and analyzed DEXA body composition scans.          Fitness Specialist    January 2013   to   May 2013     Company Name   －   City  ,   State      Taught group exercise classes to senior independent, assisted, and Alzheimer/dementia residents to promote functional, aerobic, strength and flexibility benefits.  Provided individualized exercise instruction as requested by residents based on goals and needs.  Monitored wellness center and promoted and participated in resident activity department events.          Fitness Specialist    December 2012   to   August 2013     Company Name   －   City  ,   State      Measured clients' fitness by completing comprehensive fitness evaluations and acquiring physician clearances based on risk stratification when needed.  Designed customized client programs to meet individual fitness needs.  Served as a point of reference for fitness expertise within the facility.          Clinical Exercise Physiologist Intern    July 2012   to   January 2013     Company Name   －   City  ,   State            Clinical Exercise Physiologist Intern    September 2010   to   November 2010     Company Name   －   City  ,   State            Group Exercise Class Coordinator/Instructor    April 2010   to   June 2011     Company Name   －   City  ,   State      In charge of overall efficiency of class procedures including: instructor replacement and training, class scheduling and cancellation, emergency procedures, and documentation and organization of paperwork and class supplies.  Led exercise to groups of 40 or more participants aged 50 years and older; Educated participants on proper exercise form health benefits; Endorsed local community health promotion programs.          Education and Training      Master of Science   :   Clinical Exercise Physiology  ,   June 2012    Ohio University   －   City  ,   State       Clinical Exercise Physiology Graduate Recruitment Scholarship Recipient  Student Exercise Physiologist for O'Bleness Memorial Hospital Heartworks Cardiac Rehab   Student Fitness Specialist for Ohio University WellWorks Fitness Center WellWorks Risk Reduction Program Health Coach/Personal Trainer         Bachelor of Science   :   Kinesiology  ,   May 2011    Michigan State University   －   City  ,   State       Specializations in Health Promotion and Bioethics and Humanities   Member of Phi Epsilon Kappa, Academic Fraternity of Kinesiology Students  Student Teaching Assistant for Cadaver Anatomy Lab 2011-2012         Certifications     BLS for the Healthcare Provider   Completion of Phlebotomy Skills for the Healthcare Professional Course   CITI GCP Certified   IATA Certified       Skills    Academic, administrative support, agency, back-up, benefits, billing, Cancer, clerical, clinical research, Coach, Oral, community health, client, clients, data collection, Diabetes, documentation, educational materials, functional, GCP, HR, Immunology, instruction, instructor, insurance, managing, Market, materials, Microsoft Office applications, Page, patient safety, Phlebotomy, Physiologist, prescribe, processes, promotion, protocols, Recruitment, rehabilitation, Safety, scheduling, specimen collection, Surgery, telemetry, Therapy, Trainer, training programs, Vaccine, composition   \",\n",
       "       \"         FINANCE ASSISTANT           Summary    Accurate, Alert, Ambitious, Analytical, Articulate, Efficient, Dependable, Responsible, People-Oriented, Honest, Independent and Hardworking. Integrity, Competence, Honesty, Growth, Family, Decisiveness, Stability and Leadership      Accomplishments    Awards\\t:Most Improved Employee for the Year Year\\t:2008 Company: MBS Accounting Services cc Awards\\t:Emerald Award for hard work and Dedication to my work Year\\t:2010, (first quarter) Company: Anglo American GSS (EMEA) Accounting Services Awards\\t:Amber Award for hard work and Dedication to my work Year\\t:2010, (last quarter) Company: Anglo American GSS (EMEA) Accounting Services Personal Strengths & Profile      Professional Experience      Finance Assistant    January 2015   to   December 2015     Company Name   －   City  ,   State      Receive purchase request forms, Processing & Issuing of purchase orders to suppliers, Send through the Purchase orders to Suppliers, Submit Supplier Invoices for payment, Follow up on delivery (goods received vouchers - GRV's), Corresponding with suppliers to get Tax Invoices for payment, Processing quotations & invoices on system, Submit all transactions & documents to line manager for approval Daily follow up on outstanding Invoices, Submitting supplier forms to line manager Maintaining Asset Register, Reconciliations per creditor Ensure that we receive Statements from Suppliers, Print proof of payments Send Proof of payments to Suppliers, To ensure there is enough funds available for the invoices that has to be paid.  Monitoring the Funds Available, Assisting with the Audit information Monthly processing/capturing of payroll Debtors: Receipt of invoice request forms, Request line manager to create customers on system Ensuring allocations are correct, Processing sales order on system Forward original invoice to the requestor, Corresponding with Commercial Venture staff regarding payments Outstanding debtor follow up - weekly, Handover of outstanding debt Liaising with Attorneys, Monthly debtor reconciliations Cash Management: Capture payments on FNB Business banking (Daily), Capture payments on Nedbank Business banking (Daily) Ensure that there are two signatories to approve payments, Weekly bank reconciliations.  Nedbank Procurement & Credit Cards: Ensure reminder of slips are send out on a weekly basis, Nedbank bank statements distributed to collect all slips Allocate slips to the correct account, Receive slips for all procurement & credit cards Compile all slips on statements, Process on Pastel Cashbook Processing Journals, Ensure Recon for Statements is signed off by the 15th of each month.  Ad hoc Tasks: Answer the Telephones/Take messages, Creating New Files when needed Filling, Assisting other Staff with Office Administration, Monthly reconciliations of all sub-systems Financial Statements: Prepare financial statements of all University of Johannesburg companies on CaseWare.  35 companies).  Fixed Asset Management       Reason for looking:  This is a temporary contract for 6 months          Management Accountant    August 2013   to   January 2015     Company Name   －   City  ,   State      General Ledger System Management, Perform Month-end Procedures to finalise accounts, Produce Monthly Budget Variance Report, Perform Month-end Reconciliations for all Balance Sheet Accounts, Prepare Monthly Management Reports and Distribute to Management, Participate in Budgeting and Forecasting processes, Participate in 3 Year Plan Process, Assist in the preparation and running of the Audit, Prepare Annual Tax Returns, Monthly expenses analysis compared to the budget, Calculate monthly incentives for store staff, Allocate expense lines to all stores, Liaise with store managers in case of over spending, Managing rental expenses, making sure that all landlords are paid each month, Invoicing to MTN, Cell C, Vodacom and other cellular providers for monthly cellular income, Following up on all unpaid invoices, Management of all credit cards and petrol cards,   Calculating of margin and making sure it agrees to merchandise and cellular department KPIs.        Reason for leaving : Had to raise my son until he is at least 1 year.          Senior Accounts Assistant    September 2009   to   August 2013     Company Name   －   City  ,   State      Transitioning Fixed Assets duties of all business units within the Anglo American Group into a Global Shared Service environment, Managing the Fixed Asset Registers of the Anglo American group, from calculating Depreciation, posting and reconciling it.  Disposing of Assets and all other transactions that involve fixed assets.  Analysing depreciation.  I also help with project management at Anglo Coal.        Reason for leaving : Looking for exposure in other Accounting fields and growth in my career.          Trainee Accountant - SAICA Trainee    September 2007   to   September 2009     Company Name   －   City  ,   State      Cashbooks, VAT returns, Manual IRP5's, IT3 (a)'s and IT14's, EMP501's, Bank Reconciliation,.  Finalizing VAT, Advising Clients, Preparing the Financial statements,.  Debtors Reconciliation, Creditors Recon, Fixed Asset Register.        Reason for leaving : Looking for better opportunities and growth.          Education and Professional Training      National Diploma   :   Internal Auditing  ,   2005    Walter Sisulu University of Technology   －   City  ,   State  ,   South Africa    Internal Auditing        Matric   :   Standard 10  ,   2000    Thubalethu Senior Secondary School   －   City  ,   State  ,   South Africa            B com   :   Internal Auditing      University of South Africa   －   City  ,   State  ,   South Africa    Not complete, 8 modules in 3rd year are still outstanding.        Languages      English  IsiXhosa  IsiZulu  SeSotho        Personal Information      ID\\xa0Details: 8209030804081    Family and marital status: Married   Nationality: South African   Date of Birth - 1982-09-03         Skills    Accounting, General Accounting, Accountant, Articulate, Balance, Balance Sheet, bank reconciliations, Bank Reconciliation, banking, Bookkeeping, Budgeting, Budgets, Budget, C, CaseWare, Cash Management, Com, Credit, creditor, Clients, delivery, Dependable, English, Filling, Finance, Financial Management, Financial Statements, Prepare financial statements, Fixed Asset Register, Fixed Assets, Forecasting, forms, Funds, General Ledger, Hyperion, Invoicing, Leadership, Managing, Excel, Outlook, PowerPoint, Word, Office Administration, Organizing, Problem Solving, processes, process\\nManagement, project management, reconciling, Reporting, Retail, SAP, Shared Service, Statistics, Take messages, Tax, Tax Returns, Team Player, Telephones, Type, VAT Returns   \",\n",
       "       '         ENGINEERING MANAGER       Profile     Dedicated Engineering Manager with excellent technical, analytical and communication skills demonstrated by over 25 years of experience.       Skills          Windows XP Professional (Word Excel and Outlook) and Internet.       Project management  Process improvement            Accomplishments      Testing, Evaluation and Analysis: \\xa0   Tested equipment to ensure compliance.  Analyzed data and provided recommendations which resulted in adoption of new cost-saving equipment.    Project Management \\xa0   Supervised project production efforts to ensure projects were completed to company standards, on time and within budget constraints.         Professional Experience      Engineering Manager   11/2010   to   02/2016     Company Name   City  ,   State       Directed the installation, testing, operation, maintenance, and repairs of equipment.  Trained mechanics on standard operating procedures and coordinate preventive maintenance programs.  Responsible for remodeling  projects, making detailed plans to accomplish goals and direct the integration of technical activities.  Worked closely with management, front desk, food & beverage, security, and housekeeping staff  in regards to room and common areas activities and issues.  Responsible for safety, health, fire, and emergency systems to comply with municipal and federal regulations.  Managed numerous projects simultaneously within budgetary restrictions.  Prepared accurate specifications for purchase of materials and equipment for  purchasing department.  Collaborated with the Director of Engineering regarding design parameters for  projects.  Resolved part and assembly discrepancies.          Assistant Superintendent   04/2003   to   10/2010     Company Name   City  ,   State       Responsible for the maintenance and repairs of 600 residential units.  Assisted the Superintendent in maintaining the physical integrity of the building.  Involved in ensuring a safe, secure and comfortable living environment for residents.  Handled the daily building inspections for damages and cleanliness.  Performed electrical and plumbing work as needed.  Conducted preventive maintenance of low-pressure oil boiler and ancillary equipment.  Supervised a staff of nine (doormen and porters) in the evenings.  Repaired or replaced defective equipment, components or wiring of window air conditioning units and 3-tons systems.  Prepared estimates for work orders and request material required to complete jobs.  Ensured that adequate supplies are in stock for emergency repairs and preventive maintenance.  Completed daily reports of work performed, problems, unusual occurrences, materials expended for billing and recordkeeping purposes.          Suite Attendant   12/1994   to   03/2003     Company Name   City  ,   State       Served eighty-nine luxury suites during Knicks, Rangers, concerts, circus and private events.  Acted as the liaison between Madison Square Garden Club Suites Service Department and guests.  Assisted in the coordination of corporate parties.          Assistant Superintendent   10/1990   to   09/2000     Company Name   City  ,   State       Assisted in the maintenance of 47 residential units.  Repaired all physical damages to apartments.  Responsible for conducting all plumbing and electrical wiring.          Education and Training      Type your own     2016       Trade School     Coursework in [Course Name]         Languages    Fluent in Spanish        Skills     Billing, blueprints, carpentry, detail-oriented, electrical wiring, engineer, HVAC, materials, Excel, Outlook, window, Windows XP, Word, Oil, painting, Plumbing, read, repairs, safety, Soldering, Fluent in Spanish, Welding, wiring    ',\n",
       "       '         VP OF FINANCE       Executive Profile     Ambitious Chief Executive Officer who creates strategic alliances with organization leaders to effectively align with and support key business initiatives. Builds and retains high performance teams by hiring, developing and motivating skilled professionals.       Skill Highlights          Small business development  Project management  Leadership/communication skills  Self-motivated      Product development  Product line expansion  Business operations organization  Business operations organization            Core Accomplishments      Increased sales by [Number]% by rolling out a revamped social media marketing initiative.  Increased annual revenue from $[Amount] to $[Amount] in just [Number] years.  Grew business from [Number] employees to [Number] employees in [Number] years.  Garnered more than [Number] excellent performance reviews and testimonials from clients.        Professional Experience      VP of Finance   01/2014   to   Current     Company Name   City  ,   State       Direct the accounting, finance and administrative functions of this newly formed hospitality management company currently overseeing 8 hotels.  Delegate with all aspect of monthly forecasting and budget planning for $16M in annual revenues Facilitate Tax Credits & other related incentives for new hotel development with mixed-use developers Assist President of the company to build a experienced hospitality executive team to further relationship with exclusive brands such as Hilton, Marriott and Starwood Hotels Establish new relationships with experienced personnel for efficiency, to increase revenue by 20% per hotel Propose feasibility report to alter strategic initiatives to assist newly acquire assets and distressed assets Reduce average payable liability by $1.2M annually by analyzing exceptions in the procure-to-pay payment process.          Managing Partner   06/2012   to   12/2013     Company Name   City  ,   State       Managed all departments of the newly $5M built hotel on Lake Texoma.  Established a business strategy for the ramp up period to optimize revenue to 90% of initial projections.  Achieved $1M (76%) in revenue during the first fiscal based on initial projection of a Tier 3 market.  Hired and trained 15 new employees of day-to-day 24/7 operation and managed payroll to maximize profitability.  Developed new relationship with local business, chamber of commerce, and city officials to help promote tourism within the area.  Established strategic rate levels to accommodate different business segments (Corporate, Leisure &Walk-ins) Executed a market plan to create awareness within 30 miles radius to reach casino visitors in nearby city Improved guest satisfaction scores to meet brand standard and achieve 3 star rating with AAA.          VP of Finance / Controller   05/2010   to   10/2012     Company Name   City  ,   State       Direct the accounting, financial planning and analysis, information technology and risk management functions of this $250M privately-held quick service franchise restaurant enterprise with over 200 stores.  Utilized financial tools for accounting procedures to understand the business for improvements resulting in new cash management increasing revenue by 27% and reallocation of support resources Eliminated company liability by 65% by using the GAAP freeing up cash flow to invest in infrastructure and brand Implemented a new cloud base technology platform to reduce technology cost by 75% with new vendor partnership Defined the Which Wich business model with ROI and profit maximization to ensure franchisee are setup for success Proposed new strategies and ideas to increase sales that can facilitate extra growth for the company allowing a international expansion plans.          Director of Business Operations   04/2005   to   12/2009     Company Name   City  ,   State       Managed all operational activities of a single hotel location.  Established a pricing strategy which gave a competitive advantage over other competitors increasing portfolio revenue by 31% over a span of 3 years Decreased operating expenses by 17% through using resources efficiently and eliminating non-resourceful positions in the staff Expanded sales and marketing efforts to reach a greater demand in the market place Reached a 99.7% customer satisfaction rating by providing additional amenities and services through the hotel Achieved a 95% average occupancy annually for 3 consecutive years.          Education      MBA  :   Project, Engineering & Business Management    University of Dallas   City  ,   State               Bachelor of Science  :   Finance, Accounting & Information Management    University of Texas at Dallas   City  ,   State               Skills     accounting, administrative, budget planning, business strategy, cash flow, cash management, competitive, customer satisfaction, finance, financial, financial planning and analysis, forecasting, information technology, marketing, market, enterprise, payroll, personnel, pricing, profit, quick, risk management, sales, strategy, strategic, Tax    ',\n",
       "       \"         INTERNSHIP           Professional Overview     experiences collecting and analyzing data with statistical methods, familiar with R and SAS programing, great knowledge of experiment design, sampling techniques and documents management. strong skills in communication, group-working and work-planning.        Core Qualifications          Strong knowledge of SAS, R and SSPS programming  Excellent research skills  Microsoft Word, Excel, PowerPoint  Excellent quantitative skills      Team leadership  Organizational planning  Leadership/communication skills  Customer-oriented            Education      University of Missouri     2015       Master of Science  :   Statistics    City  ,   State  ,   The United States     President of Chinese students' and scholars' association  3.7 GPA  Coursework in practical statistical models, data analysis 1, 2, 3, statistical software and data analysis, introduction of probability theory, statistical inference, time series analysis, survival analysis, experimental design, current development in statistics.  SAS advanced license         Thesis/Dissertation     Projects:  A.  Time: from 2014 January to 2014 Match   Title: the relationship between the mathematical grade of the seventh grade and grades from primary school.  Brief process: use linear model to fit transformed variables from the data after getting rid of useless columns, choose the most significant variables to form the final model based on persuasive diagnostic values.  Achievements from the project:the mathematical grade of the seventh grade is significantly influenced by the reading, counting and logistic ability at the first and second grade in the primary school.   B.  Time: from 2014 May to 2014 August  Title:bike rental prediction  Brief process: construct the regression model use different statistical method, find the most powerful model decided by finding the least error rate, and decide which variables significantly enough to build the model.  Achievements from the project: use Lasso to make the regression, it gives the least error rate and use the almost original data set, it saves a lot of time to deal with the original data set.  C.  Time:from 2014 September to October  Title: Classify Song Release Period  Brief process: construct the classification model to classify a specific song into the year before or after the year 1986 based on 90 attributes of a single song and 6480 songs.  Achievements from the project: use the Multivariate adaptive regression splines to build the model and based on the final classification model, we can conclude that if the song is from before or after on 1986 depends mostly on the artists who create them, secondly on properties they tagged by famous music website and finally on properties of their track.  D.  Time: from 2014 November to 2014 December  Title: predict the lightening strikes in July based on the records from January to June.  Brief process: first cluster the original data based on the lightening strike records and the moisture records with the method of K-mean and Hierarchical method. Second use different statistical method like Boosting, Random Forest, Ridge, Lasso, NNET, CART, SVM to find the best model to predict the strikes will happen.  Achievements from the project: we use the K-mean clustering method and based on the moisture data to form the cluster and use the neural network is a better way for our prediction to get a smaller MSE, and lightning strike have direct relationship with the soil moisture level and the climate indices.  E.  Time: from 2014 November to 2014 December  Title: predict the daily stock price of Netflix Inc. Based on historical daily price records.  Brief process: use GARCH model to fit the transformed data and finally choose the GARCH plus ARMAR model to make the forecasting.  Achievements from the project: from the model we can find that there is a up trend in the future about this stock and this is a appropriate time to buy this piece of stock.       Experience      Company Name     May 2014   to   August 2014     internship   City  ,   State      Main tasks of this job: \\xa0  1.Collect, enter and analyze stock prices: collect useful data and enter them into the database in a correct classification way, use statistical methods to analyze them based on R programming.  2.Predict the future trend of different stocks and divide them into different category: use time series methods to predict the trend  3.Write summary report: use statistical methods to analyze data with R and write the performance evaluation report based on quantitative facts.  4.Customer service: answer the phone call and solve customers' problems and do the reception job at the front table. Also offer the instruction about stocks and how to choose them to new clients.  5.design the questionnaire and the get the feedback         Company Name     May 2013   to   August 2013     internship   City  ,   State      Main tasks about the job: \\xa0  1.data collection and entering: collect financial data and classify them into the correct table and items.  2.Write summary report: use statistical methods to analyze data with R and write the performance evaluation report based on quantitative facts.  3.Customer service: answer the phone call and solve customers' problems and do the reception job at the front table.  4.inventory control: keep record of the number of materials and keep track of the way they out and in.  5.arrangement the business trip: book the hotel, arrange the schedules for each day, keep track of the budget of the business trip.         Company Name     November 2012   to   March 2013     internship   City  ,   State      Main tasks about the job: \\xa0  1.data collection and entering: collect financial data and classify them into the correct table and items.  2.Write summary report: use statistical methods to analyze data with R and write the performance evaluation report based on quantitative facts.  3.Customer service: answer the phone call and solve customers' problems and do the reception job at the front table.  4.Meeting preparation: prepare documents need in the meeting, make sure all the participants can come, prepare PowerPoint slides and arrange the meeting room.  5.Introduce production to customers: introduce financial products which the most suitable to the client and persuade them to buy.         Fellowships and Awards     1.merit of certificate award for excellent grade which is top 10%  Time: the spring semester of 2014  2.merit of certificate award for excellent performance in the position of the leader of executive department of the Chinese students and scholars association in the university of Missouri.  Time: the Fall semester of 2014  3.merit of certificate award for excellent performance in the position of vice president of the Chinese students and scholars association in the university of Missouri.  time: the Fall semester of 2014-2015  4.Merit of certificate award for excellent performance in the position of president of the Chinese students and scholars association in the university of Missouri.  time: the spring semester of 2015    \",\n",
       "       \"         MORTGAGE BANKING DOCUMENT MORTGAGE BANKING DOC OPS SPECIALIST           Summary    Ability to organize and multi-task in a fast paced environment; possess ability to prioritize workload and operate effectively and efficiently with minimal supervision.\\nAbility to think analytically and creatively in response to problem \\nKnowledge of commercial loan pricing, credit policies, procedures, practices, and documentation.  \\nAbility and willingness to train and present to small and large audiences of varying sophistication complex concepts in a manner that are easily understood.      Highlights        SAP, Lotus Notes, Team Leader and Administrative support in communications and training, Research, Reporting, Negotiation Skills, Organization and Interpersonal skills, team work and dedication.\\nProficient and strong PC skills in scheduling software, Windows XP, Microsoft Word, Excel, Access, and PowerPoint, Excellent interpersonal, oral/written communication and partnering skills.            Experience      Mortgage Banking Document Mortgage Banking Doc Ops Specialist    March 2009   to   Current     Company Name   -   City  ,   State      Update procedures as needed and support all team lead functions and reporting.  Monitor documents daily for mortgage banking customers.  Preparation of paid mortgage files for updating identified pay off tracking system, research websites, and internal systems, along with performing daily functions displaying professionalism, time management skills, and organizational skills.  Create and maintain productivity reports for tracking databases.  Test new reporting and tracking systems.  Work closely with department channels, management, and automation to resolve a multitude of complex issues and provide testing results.  Monitor reports and queues for Lien Release Customer Care Workbench inbox and the manual add accounts in the payoff tracing system.  Provide training to peers on new functions and processes.          Workforce Management Analyst    July 2007   to   August 2008     Company Name   -   City  ,   State      Responsible for entering and reporting Customer Care Professional schedule and exception activity.  Communicated information to the Call Service team in regards to the company's and department news, policies, procedures, and new initiatives.  Analyzed test results on calls and forecasting for scheduling purposes.  Partnered with various management teams to share responsibility for meeting service level and response time objectives across all contact channels; utilizes scheduling software and tools for managing workforce-related tasks and ensuring effective and efficient utilization of such resources.  Responsible for assisting management with business unit productivity goals by providing accurate forecasting, staff calculations, staff schedules and management reports.  Assist management in monitoring adherence, staffing activity and updating the system as needed.  Provided training to peers on new functions and processes.  Developed and maintained employee work schedules based on capacity requirements for all Sales and Service or Loss Reporting Unit phone and processing staff.  Produced weekly schedules for 100+ Customer Service Representatives based on forecasted volume and workload to ensure adequate staffing levels for phone, email and chat contacts.  Managed call outs, paid time off and overtime to hit labor budgets.          Officer Manager    December 2006   to   March 2009     Company Name   -   City  ,   State      Certified trainer on income tax preparation through H&R Block.  Advised employees of updated annual changes received from the IRS.  Answered customer calls.  Worked directly with lenders concerning income tax return checks and fees.  Thoroughly examined and analyzed financial records of individual and businesses and advised the best way to file state and federal taxes; Tax preparer when needed.          Containment Quality Inspector    January 1999   to   April 2007     Company Name   -   City  ,   State      Separated non-conforming parts to ensure the guidelines for quality guidelines are met.  In support of and under the direction of quality engineers, supervisors, or technicians, used the proven techniques to evaluate hardware documentation, performs laboratory procedures, inspected products, measures process performance, records data, and prepares formal reports.  Produced forward automotive lighting and training to peers on new operation functions.          Education      Bachelors of Business Administration   :   Computer Information Systems      Northeast Louisiana University          Computer Information Systems        Master of Business Administration   :   Human Resource Management      University of Phoenix   -   City  ,   State      Human Resource Management        Associate of Applied Science   :   Process Technology      Louisiana Delta Community College   -   City  ,   State      Process Technology        Skills    Administrative support, automation, automotive, banking, budgets, interpersonal, Interpersonal skills, oral, hardware, Customer Service, Customer Care, databases, direction, documentation, email, financial, forecasting, laboratory procedures, team lead, Team Leader, lighting, Lotus Notes, managing, Access, Excel, PowerPoint, Windows XP, Microsoft Word, Negotiation, organizational skills, PC skills, policies, processes, quality, reporting, Research, Sales, SAP, scheduling, staffing, tax, taxes, Tax preparer, tax preparation, team work, phone, time management, trainer, websites, Workbench, written communication   \",\n",
       "       \"         CONSTRUCTION ESTIMATOR       Summary      Energetic Construction Manager consistently involved in all facets of building construction. Specialty in commercial structures and municipal bridges.  Proactive Project Manager experienced in managing a variety of construction teams and projects. Successful in creating effective communication between personnel, general contractors and the management team.  Analytical [Job Title] skilled at predicting construction project duration and managing tight deadlines.  Results-oriented Construction Manager specializing in industrial and commercial projects. Demonstrated expertise in permitting and building code, seismic retrofitting and construction planning.  Dependable and self motivated professional with 6+ years' progressively responsible experience in the construction estimation field. Track record of identifying labor, material, and time requirements by studying proposals, specifications, construction plans, and associated documents. Possess thorough understanding of fundamental construction principles.        Skills      In depth knowledge of residential construction materials, methods, and systems    Highly skilled in  obtaining bids from suppliers, negotiating prices, calculating cost factors and prepares estimates   Highly skilled in problem solving, and time and resource management    Proficient in MS Office, AutoCAD, and PlanSwift e stimating software   Honest, hardworking, confident, and patient individual, a bility to work independently with minimum supervision or in a team based environment   Comfortable to spend extra time and efforts to meet the job requirements        Experience     12/2012   -   Current     Company Name   －   City  ,   State    Construction Estimator        Qualified competitive subcontractor bids prior to execution of contracts.  Carefully coordinated plans and specs using marketing programming standards.  Educated general contractor personnel on the quality standards throughout the construction process.  Managed a team of [Number] onsite general contractors for [Number] months.  Reviewed and investigated Proposed Change Order Requests (PCOR).  Assigned projects and tasks to employees based on their competencies and specialties.  Followed through with competent execution of project plans by providing proper tools and equipment to all construction personnel.  Performed construction site pre-inspections and coordinated post-construction audits.  Accurately provided status information on project progress to the project management.  Efficiently recorded and rejected incorrect deliveries of material to site.  Led and managed resolution of all issues during project construction and commissioning phases.  .Led the planning, budgeting and direction of all construction projects.  Assisted the project manager with bidding new jobs and projects.  Managed a project budget of $[Amount].  Defined project deliverables and monitored status of tasks.  Drafted action plans and led meetings with department executives to review project status and proposed changes.  Collaborated with cross-functional teams to draft project schedules and plans.  Monitored costs, timescales and resources used to achieve [Goal].  Served as the single point of contact for project scheduling and changes.  Updated and managed [Number] project databases.  Audited [Number] work plans per [Time period] and offered recommendations for improvements.  Troubleshooted electrical and mechanical defects for residential, commercial and industrial sites.  Assisted in implementation of operations, maintenance and capital programs.  Counted and verified orders picked to ensure accuracy.  Ensured customer satisfaction by providing highest quality of products by ensuring all equipment was  properly installed and working correctly.  Planned work and determined appropriate tools and equipment.  Processed work orders and prioritized jobs.  Provided equipment installations for a developing residential community of 40 units, working successfully according to project plans and quality standards.  Reviewed project drawings to perform installation activities according to specifications.  Assisted in management of business operations by maintaining records and files, preparing cost and inventory reports, and ordering supplies.  Managed work with little supervision.  Drafted detailed drawings of structures, specifying dimensions and materials needed.  Developed and monitored internal financial budgets.  Reported on status of design process and cost analysis to project manager.  Drafted technical write-ups for proposals and projects.  Reviewed completed reports, plans, estimates and calculations for accuracy.         12/2009   -   06/2012     Company Name   －   City  ,   State    Construction Manager        Qualified competitive subcontractor bids prior to execution of contracts.  Carefully coordinated plans and specs using marketing programming standards.  Facilitated processing of RFI's, submittal and samples among the general contractor, the owner and the owners consultants.  Managed the rights of way, easement and dedication processes.  Educated general contractor personnel on the quality standards throughout the construction process.  Obtained notices of completion and compliance certifications from all of the construction administration consultants.  Acted as the liaison between landscape architects and the general contractors.  Submitted all project closeout documents in accordance with the contract.  Assigned projects and tasks to employees based on their competencies and specialties.  Followed through with competent execution of project plans by providing proper tools and equipment to all construction personnel.  Performed construction site pre-inspections and coordinated post-construction audits.  Accurately provided status information on project progress to the project management.Led and managed resolution of all issues during project construction and commissioning phases.  Assisted the project manager with bidding new jobs and projects.         07/2008   -   12/2009     Company Name   －   City  ,   State    Pre-Production Manager        Carefully coordinated plans and specs using marketing programming standards.  Acted as the liaison between landscape architects and the general contractors.  Developed highly empathetic client relationships and earned reputation for exceeding sales goals.  Computed accurate sales prices for purchase transactions.  Performed construction site pre-inspections and coordinated post-construction audits.  Defined project deliverables and monitored status of tasks.  Drafted action plans and led meetings with department executives to review project status and proposed changes.  Served as the single point of contact for project scheduling and changes.  Addressed customer questions and concerns regarding products, prices and availability.  Developed slideshows and other forms of media to present project progress to the executive team.  Trained sales teams on educational products at seminars and special events.  Answered customers' questions about products prices, availability, uses and credit terms.  Determined the cost and pricing of proposals and bids.Estimated and quoted prices, credit and contract terms, warranties and delivery dates.         03/2006   -   11/2008     Company Name   －   City  ,   State    Real Estate Agent        Counseled customers on market current status for residential and land markets.  Guided home buyers and sellers through the process of short sales.  Educated clients on the current real estate market and answered any questions they had.  Developed an excellent rapport with custom builders to expand opportunities for growth.  Wrote contract documents, purchase agreements and closing statements.  Assisted in developing marketing material for properties.         05/2003   -   11/2008     Company Name   －   City  ,   State    Executive Assistant Manager        Qualified competitive subcontractor bids prior to execution of contracts..  Carefully coordinated plans and specs using marketing programming standards.  Drafted meeting agendas, supplied advance materials and executed follow-up for meetings and team conferences.  Cleaned all construction areas to avoid hazards.  Performed heavy labor such as ditch digging, paving and hauling.  Continually cleaned work areas and equipment.  Discussed design standards and procedures with the directors of design and architecture.  Created oral and written presentations for project designs and proposals.  Defined project deliverables and monitored status of tasks.Updated and managed project databases.         05/2008   -   06/2008     Company Name   －   City  ,   State    Sales Associate        Counseled customers on market current status for residential and land markets.  Coordinated appointments with prospective buyers to showcase houses and plots.  Wrote contract documents, purchase agreements and closing statements.  Assisted in developing marketing material for properties.  Actively follow-up with prospects and hot leads.  Followed up with prospects throughout the sales process.  Gathered, distributed and maintained all the materials for marketing plans.          Education     2004     Gettysburg College   －   City  ,   State  ,   US    Bachelor of Arts  :   Business Management     Coursework in Economics  Coursework in Computer Science      \",\n",
       "       \"         ELECTRICAL ENGINEER       Summary     Seasoned Electrical Engineer successful at coordinating diverse projects, improving departmental processes and increasing revenue.  Electrical Engineer proficient in power and control engineering. Designs power grids as well as control systems for oil and gas industry.  Seasoned Electrical Engineer offering\\xa0 5  years experience developing HMI controlled equipment for testing and production. Strong project management background.  .         Highlights          Engineering Software: AutoCAD, Eagle, MATlab, Solidworks Standard, Solidworks Enterprise PDM, Solidworks Electrical  Microsoft Office 2016: Word, Visio, PowerPoint, Excel, OneNote, Outlook  Microsoft Dynamics GP, Team Gantt, Allen Bradley RSLogix Software  Computer Language: Microsoft Visual C and C++  Project Management Skills         Complex problem solver  Project management  Operational analysis expert  Technical writing  Data collection  Strong decision maker  Analog and digital hardware and firmware design  FEA and failure analysis  3D design and simulation software?                  Experience      Electrical Engineer   04/2014   -   02/2016     Company Name     City  ,   State       Practical application of Electrical Engineering   Critical thinking that involves the use of logic and reasoning to identify the strengths and weaknesses of alternative solutions to problems   Prepared and studied technical schematics and P&ID drawings and specifications of electrical/electromechanical systems to ensure that installations and operations conform to standards and customer requirements     Diverse knowledge of frac pump components and assembly   Instrumentation and controls applications   Proficient in the design codes and standards of the SAE, NEC, NEMA, IEEE and ANSI Designed custom enclosures, consoles and cable/harnesses per UL and NEMA Standards   Designed power DCS systems for frac fleet in compliance with SAE, IEEE, NEMA and ANSI standards and codes   Created cable schedule spreadsheets, requirements documents and operations manuals for product/project transparency   Created BOM's and routings in Microsoft Dynamics GP for development of manufacturing build orders   Implemented NEC guidelines on electrical designs and schematics and created assembly instructions and testing procedures in compliance to HSE and OSHA Standards   Managed assembly and field tech personnel during project phases and established reliable and competitive vendor/contractor relationships for project commissioning achieving a margin of 30% savings in company spending   Managed Chemical 6 (C6) Unit Project from inception to completion for C&J Energy Services frac fleet and reduced downtime by 40%   Managed Hydration Unit Project from inception to completion for C&J Energy Services frac fleet and reduced downtime by 20%   Managed Dual Fluid Pumper (DFP) Unit Project from inception to completion for NITRO Drilling Services frac fleet and increased revenue potential by 100%   Managed the R&D Frac Pump Testing facility project for the High Pressure and Low Pressure Loop cells from inception to completion for Weir SPM and increased testing efficiency from 40% to 100%           Manufacturing Engineer   06/2011   -   04/2014     Company Name     City  ,   State       Implemented pump test design changes that eliminated downtown by 80% and increase test output efficiency by 86%   Implemented pump testing set up and break-down procedures that effectively resulted in a 20% decrease in LTI's (Lost Time Incident)   Designed MCC for control of 7500 hp WEG motor and vfd that resulted in a 50% output increase of tested pumps   Designed power distribution and control for medium and high voltage motors and vfd's for hydraulic lube circuits: supply and cooling loops   Designed power distribution and control for medium and high voltage motors and vfd's for water circuits: supply and cooling loops   Designed new tooling for Autofrettage, Pump Assembly and Pump Test that was more ergonomically efficient for operators and mechanics that\\xa0resulted in a decrease of\\xa0process bottleneck of 10%   Managed frac pump testing facility with essential upgrades to allow company to effectively test 250 pumps per month with no equipment downtime or failure increasing output efficiency to 86%   Designed tooling fixtures and had ergonomically efficient equipment installed to LEAN Pump Assembly, Pump Paint and Autofrettage areas averaging a 10% increase in work output for all areas combined   Managed the Williston Service Center Frac Pump Testing facility project for the High Pressure Loop cell from inception to completion reducing testing cost by $10k per test per month maintenance           Maintenance Mechanic MPE-9   08/2005   -   09/2013     Company Name     City  ,   State       Troubleshot and repaired mail processing equipment that consisted of vfd's, SLC500 PLC's, Baldor motors, Eaton gearboxes and MCC panels by aid of multi-meter and/or RS Logix software.  Performed periodic maintenance tasks on all mail processing equipment.  Operated SCADA systems that controlled mail processing equipment.             Aviation Electrician Petty Officer 3rd Class   06/1996   -   08/1999     Company Name     City  ,   State       Aircraft handler duties consisting of taxing, securing and preparing aircraft for launch from aircraft carrier(USS Nimitz CVN-68).  Troubleshot and repaired electrical circuit boards, gyros, joysticks, control panel instrumentation for all onboard aircraft consisting of F-18 Hornet, F-16 Tomcat, EA6B Prowler and H60 Helicopter to ensure operational readiness for ship and crew.  Navy Pistol Marksmanship Ribbon, Armed Forces Expeditionary Medal, Navy Sea Service Deployment Ribbon, Navy Good Conduct Medal/Ribbon.  Broadened Opportunity for Officer Selection and Training (BOOST) Program.          Education       2010     University of Texas at Arlington   -   Electrical Engneering    City  ,   State  ,   United States    GPA:   GPA: 3.0      Coursework in Electro-technology, Thermodynamics and Electronics     Complete course load of 129 credits and maintained            1999   Certificate of Completion  :  Officer Candidate School (BOOST)   -   Officer Training/College Prep    City  ,   State  ,   United States    Coursework in Officer duties/management. GPA 3.0        Skills    Armed Forces, AutoCAD, C, C++, cable, competitive, Critical thinking, documentation, Electrical Engineering, electrician, hp, logic, manufacturing engineer, MATlab, mechanic, Microsoft Dynamics, Excel, mail, Microsoft Office, Outlook, PowerPoint, Microsoft Visual C, Word, mpe9, multi-meter, Navy, NEC, Enterprise, oil, Paint, PDM, personnel, PLC, power distribution, Project Management, SCADA, schematics, Solidworks, spreadsheets, Time management, Tomcat, upgrades, Visio, SAE, aircraft, OHSA, HSE, IEEE, NEMA, UL, cable harness, MRP, ANSI, oil, gas, flow, calculations, design, procedures   \",\n",
       "       \"         ASSISTANT DIRECTOR OF FINANCE       Professional Overview    Skilled accounting professioanl      Skill Highlights          Budgeting and forecasting  Analytical skills  Organizational skills\\xa0  Self-motivated professional\\xa0      Team leadership  Hyperion  Oracle  CPA            Professional Experience     05/2013   to   Current     Assistant Director of Finance    Company Name   －   City  ,   State      Assist in oversight of the month end close for the Select Managed hotels and the Genpact team, including validation of the payroll journal and other areas.  Review and assist hotel General Managers with preparation of annual budgets.  Manage the relationship with the owner of 10 of our managed hotels, including reporting, forecasting and month end close related questions.  Responsible for monthly and quarterly reconciliations.  Main point of contact for Select Hotel Hyperion needs from the other Assistant Directors of Finance, the Select RVPs, the HSS team and the General Managers.  Build reports and tools to help the General Managers in their duties.  Created reports to roll up data for review by the Director of Finance and other Assistant Directors of Finance.  Streamlined monthly Health and Welfare journal entries booked for the Full Service hotels our team oversees.  Assisted in the preparation of documents in the sale of 50+ hotels.  Provided feedback and performed testing in Phase I and Phase II of the change in our financial systems.  Participated in training of our General Managers upon the rollout of the new financial systems.         09/2010   to   05/2013     Planning and Analysis Manager    Company Name   －   City  ,   State      Maintained and updated a Daily Revenue report for the Select Managed and Franchised hotels.  Created a weekly and monthly roll up of Smith Travel data for all North America Full Service and Select Service hotels.  Loaded monthly Full Service and Select Service Franchise actuals data during month end to Hyperion.  Reviewed financials during month end for Select Service Managed hotels.  Prepared annual budget for the Full Service and Select Service Franchise hotels.  Assisted in review and preparation of the Select Service Managed hotel budgets.  Converted data for 22 acquired hotels to be formatted and loaded into our systems.  Provided support for Select Operations teams: F&B, Rooms, Revenue Management, Sales.  Created analytical reports for Select Operations for their use.  Prepared monthly/quarterly owner reporting packages.         06/2008   to   09/2010     Senior Analyst    Company Name   －   City  ,   State      Assisted in preparation of the Corporate Management Review package.  Prepared monthly Balance Sheet and P&L analysis\\xa0on the Lodging Segment for the Consolidations team.  Assisted in training sessions, data gathering, data input and budget review with the corporate department heads of the Business Unit during the annual budget process.  Reviewed Management Agreements for new hotels to identify possible financial impacts that would need to be accounted for.  Worked closely with the Corporate Accounting team to manage the close and review of monthly financials.  Worked with RVPs on finalizing pre-opening budgets and spend on Full Service hotels.         01/2006   to   07/2008     Senior Consolidations Accountant    Company Name   －   City  ,   State      Consolidations contact person for regional offices that head operations in EAME, ASPAC and Latin America.  Responsible for the coordination and clean up of the international entities' consolidations processes.  Coordinate the project of setting up over twenty international entities' ledgers to automatically feed into the Hyperion.  Prepare various stand-alone financial statements and related footnotes for individual hotels and companies.  Assist in the preparation and review of the quarterly and year-end financial statements.         05/2003   to   01/2006     General Ledger Accountant    Company Name   －   City  ,   State      Responsible for monthly billings to all Domestic hotels for various expenses paid by the parent company.  Reconcile outstanding unbilled balances and coordinate with appropriate individuals for the preparation of hotel allocations of the expenses paid on their behalf.  Complete monthly reconciliations and wires for various benefits accounts for all North America hotels as well as the Corporate Office.  Responsible for allocating costs and expenses to all departments and affiliates that benefit from the shared office functions of the Human Resources, Financial Systems Support, Dining Room and Computer Information Systems departments.  Accumulate the data and set up the cost allocation drivers of department headcount and department square footage to allocate the shared office functions' costs and expenses.          Education     Jun. 2002     Bachelor of Science  :   Accounting    DePaul University   －   City  ,   State              Skills    Balance Sheet analysis, Budgeting, Forecasting, Hyperion, Excel,\\xa0PowerPoint, Word, Oracle   \",\n",
       "       \"         MICHAEL'S ARTS AND CRAFTS STORE           Summary    I am a determined, hard-working individual with the zeal to accomplish any task or challenge I'm given, seeking to exceed expectations. In the next year, I plan to achieve a bachelor's degree in Environmental Technology and Management, and attain a job in the field of sustainable design and technologies.      Experience      Michael's Arts and Crafts Store    March 2017   to   Current     Company Name   －   City  ,   State     \\xa0(Capital Blvd. location)   Aid Store Manager, Assistant Store Manager, Full-Time Replenishment Manager in day to day operations and planning; unload and stock store merchandise.  Train new Replenishment associates.  Employee of the Month (July)             February 2016   to   March 2017     Company Name   －   City  ,   State      Provide customer service on the sales floor, manage day/night-time associates and store operations.  Train and assess new associates.   (Assumed position at Brier Creek, Raleigh, NC location in October 2015)            June 2015   to   February 2016     Company Name   －   City  ,   State     (Brier Creek Location)  Support Specialist:   Prepare cash registers, count money, and prepare documentation for the bank deposit.  Manage cashiers in the morning.   Sales Associate/Cashier:   Offer customer service and efficiently run a cash register.          Knowledge and Certifications          ArcGIS Program  Water Quality Testing  Stream Assessment  Tree Inventory      OSHA 40 Hour HAZWOPER Certification            Education and Training      Associate of Science   :   Liberal Arts Science and Mathematics  ,   2015    SUNY Adirondack   －   City  ,   State       Dean's List  Graduated Cum Laude          Bachelor of Science   :   Environmental Technology and Management  ,   2018    North Carolina State University   －   City  ,   State       Projects: Richard R. Lee Estate (Clayton, NC) Phase III Environmental Site Assessment          Skills      Customer Service  Management  Inventory Management  Communication     \"],\n",
       "      dtype=object)"
      ]
     },
     "execution_count": 6,
     "metadata": {},
     "output_type": "execute_result"
    }
   ],
   "source": [
    "df_resume.Resume_str.values[:10]"
   ]
  },
  {
   "cell_type": "markdown",
   "metadata": {},
   "source": [
    "## 2. Load skill data (need to load others: experiences and certification, contact information)"
   ]
  },
  {
   "cell_type": "code",
   "execution_count": 7,
   "metadata": {},
   "outputs": [],
   "source": [
    "from spacy.matcher import Matcher\n",
    "\n",
    "nlp = spacy.load('en_core_web_md')"
   ]
  },
  {
   "cell_type": "code",
   "execution_count": 8,
   "metadata": {},
   "outputs": [
    {
     "data": {
      "text/plain": [
       "['tok2vec', 'tagger', 'parser', 'attribute_ruler', 'lemmatizer', 'ner']"
      ]
     },
     "execution_count": 8,
     "metadata": {},
     "output_type": "execute_result"
    }
   ],
   "source": [
    "nlp.pipe_names"
   ]
  },
  {
   "cell_type": "markdown",
   "metadata": {},
   "source": [
    "### add skill data"
   ]
  },
  {
   "cell_type": "code",
   "execution_count": 9,
   "metadata": {},
   "outputs": [],
   "source": [
    "skill_path = 'data/skills.jsonl'"
   ]
  },
  {
   "cell_type": "code",
   "execution_count": 10,
   "metadata": {},
   "outputs": [
    {
     "data": {
      "text/plain": [
       "list"
      ]
     },
     "execution_count": 10,
     "metadata": {},
     "output_type": "execute_result"
    }
   ],
   "source": [
    "# Load skills from JSONL file\n",
    "with open(skill_path, \"r\") as file:\n",
    "    skills_data = [line.strip() for line in file]\n",
    "\n",
    "skills = list(set(skills_data))\n",
    "type(skills)"
   ]
  },
  {
   "cell_type": "code",
   "execution_count": 11,
   "metadata": {},
   "outputs": [],
   "source": [
    "matcher = Matcher(nlp.vocab)\n",
    "\n",
    "skill_pattern = [{\"LOWER\": {\"IN\": skills}}]\n",
    "education_pattern = [{\"POS\": \"PROPN\", \"IS_TITLE\": True}, {\"POS\": \"PROPN\", \"IS_TITLE\": True, \"OP\": \"?\"}, {\"LOWER\": {\"IN\": [\"at\", \"in\"]}, \"OP\": \"?\"}, {\"POS\": {\"IN\": [\"PROPN\", \"NUM\"]}}]\n",
    "experience_pattern = [{\"POS\": \"PROPN\", \"IS_TITLE\": True}, {\"POS\": \"PROPN\", \"IS_TITLE\": True, \"OP\": \"?\"}, {\"LOWER\": {\"IN\": [\"at\", \"in\"]}, \"OP\": \"?\"}, {\"POS\": {\"IN\": [\"PROPN\", \"NUM\"]}}]\n",
    "\n",
    "matcher.add(\"Skill\", [skill_pattern])\n",
    "matcher.add(\"Education\", [education_pattern])\n",
    "matcher.add(\"Experience\", [experience_pattern])\n"
   ]
  },
  {
   "cell_type": "code",
   "execution_count": 12,
   "metadata": {},
   "outputs": [
    {
     "ename": "KeyError",
     "evalue": "'text'",
     "output_type": "error",
     "traceback": [
      "\u001b[0;31m---------------------------------------------------------------------------\u001b[0m",
      "\u001b[0;31mKeyError\u001b[0m                                  Traceback (most recent call last)",
      "File \u001b[0;32m/Library/Frameworks/Python.framework/Versions/3.11/lib/python3.11/site-packages/pandas/core/indexes/base.py:3802\u001b[0m, in \u001b[0;36mIndex.get_loc\u001b[0;34m(self, key, method, tolerance)\u001b[0m\n\u001b[1;32m   3801\u001b[0m \u001b[38;5;28;01mtry\u001b[39;00m:\n\u001b[0;32m-> 3802\u001b[0m     \u001b[38;5;28;01mreturn\u001b[39;00m \u001b[38;5;28;43mself\u001b[39;49m\u001b[38;5;241;43m.\u001b[39;49m\u001b[43m_engine\u001b[49m\u001b[38;5;241;43m.\u001b[39;49m\u001b[43mget_loc\u001b[49m\u001b[43m(\u001b[49m\u001b[43mcasted_key\u001b[49m\u001b[43m)\u001b[49m\n\u001b[1;32m   3803\u001b[0m \u001b[38;5;28;01mexcept\u001b[39;00m \u001b[38;5;167;01mKeyError\u001b[39;00m \u001b[38;5;28;01mas\u001b[39;00m err:\n",
      "File \u001b[0;32m/Library/Frameworks/Python.framework/Versions/3.11/lib/python3.11/site-packages/pandas/_libs/index.pyx:138\u001b[0m, in \u001b[0;36mpandas._libs.index.IndexEngine.get_loc\u001b[0;34m()\u001b[0m\n",
      "File \u001b[0;32m/Library/Frameworks/Python.framework/Versions/3.11/lib/python3.11/site-packages/pandas/_libs/index.pyx:165\u001b[0m, in \u001b[0;36mpandas._libs.index.IndexEngine.get_loc\u001b[0;34m()\u001b[0m\n",
      "File \u001b[0;32mpandas/_libs/hashtable_class_helper.pxi:5745\u001b[0m, in \u001b[0;36mpandas._libs.hashtable.PyObjectHashTable.get_item\u001b[0;34m()\u001b[0m\n",
      "File \u001b[0;32mpandas/_libs/hashtable_class_helper.pxi:5753\u001b[0m, in \u001b[0;36mpandas._libs.hashtable.PyObjectHashTable.get_item\u001b[0;34m()\u001b[0m\n",
      "\u001b[0;31mKeyError\u001b[0m: 'text'",
      "\nThe above exception was the direct cause of the following exception:\n",
      "\u001b[0;31mKeyError\u001b[0m                                  Traceback (most recent call last)",
      "Cell \u001b[0;32mIn[12], line 4\u001b[0m\n\u001b[1;32m      1\u001b[0m \u001b[38;5;66;03m# df_resume = pd.read_csv(\"resume.csv\")\u001b[39;00m\n\u001b[1;32m      3\u001b[0m \u001b[38;5;28;01mfor\u001b[39;00m index, row \u001b[38;5;129;01min\u001b[39;00m df_resume\u001b[38;5;241m.\u001b[39miterrows():\n\u001b[0;32m----> 4\u001b[0m     resume_text \u001b[38;5;241m=\u001b[39m \u001b[43mrow\u001b[49m\u001b[43m[\u001b[49m\u001b[38;5;124;43m\"\u001b[39;49m\u001b[38;5;124;43mtext\u001b[39;49m\u001b[38;5;124;43m\"\u001b[39;49m\u001b[43m]\u001b[49m\n\u001b[1;32m      5\u001b[0m     doc \u001b[38;5;241m=\u001b[39m nlp(resume_text)\n\u001b[1;32m      6\u001b[0m     matches \u001b[38;5;241m=\u001b[39m matcher(doc)\n",
      "File \u001b[0;32m/Library/Frameworks/Python.framework/Versions/3.11/lib/python3.11/site-packages/pandas/core/series.py:981\u001b[0m, in \u001b[0;36mSeries.__getitem__\u001b[0;34m(self, key)\u001b[0m\n\u001b[1;32m    978\u001b[0m     \u001b[38;5;28;01mreturn\u001b[39;00m \u001b[38;5;28mself\u001b[39m\u001b[38;5;241m.\u001b[39m_values[key]\n\u001b[1;32m    980\u001b[0m \u001b[38;5;28;01melif\u001b[39;00m key_is_scalar:\n\u001b[0;32m--> 981\u001b[0m     \u001b[38;5;28;01mreturn\u001b[39;00m \u001b[38;5;28;43mself\u001b[39;49m\u001b[38;5;241;43m.\u001b[39;49m\u001b[43m_get_value\u001b[49m\u001b[43m(\u001b[49m\u001b[43mkey\u001b[49m\u001b[43m)\u001b[49m\n\u001b[1;32m    983\u001b[0m \u001b[38;5;28;01mif\u001b[39;00m is_hashable(key):\n\u001b[1;32m    984\u001b[0m     \u001b[38;5;66;03m# Otherwise index.get_value will raise InvalidIndexError\u001b[39;00m\n\u001b[1;32m    985\u001b[0m     \u001b[38;5;28;01mtry\u001b[39;00m:\n\u001b[1;32m    986\u001b[0m         \u001b[38;5;66;03m# For labels that don't resolve as scalars like tuples and frozensets\u001b[39;00m\n",
      "File \u001b[0;32m/Library/Frameworks/Python.framework/Versions/3.11/lib/python3.11/site-packages/pandas/core/series.py:1089\u001b[0m, in \u001b[0;36mSeries._get_value\u001b[0;34m(self, label, takeable)\u001b[0m\n\u001b[1;32m   1086\u001b[0m     \u001b[38;5;28;01mreturn\u001b[39;00m \u001b[38;5;28mself\u001b[39m\u001b[38;5;241m.\u001b[39m_values[label]\n\u001b[1;32m   1088\u001b[0m \u001b[38;5;66;03m# Similar to Index.get_value, but we do not fall back to positional\u001b[39;00m\n\u001b[0;32m-> 1089\u001b[0m loc \u001b[38;5;241m=\u001b[39m \u001b[38;5;28;43mself\u001b[39;49m\u001b[38;5;241;43m.\u001b[39;49m\u001b[43mindex\u001b[49m\u001b[38;5;241;43m.\u001b[39;49m\u001b[43mget_loc\u001b[49m\u001b[43m(\u001b[49m\u001b[43mlabel\u001b[49m\u001b[43m)\u001b[49m\n\u001b[1;32m   1090\u001b[0m \u001b[38;5;28;01mreturn\u001b[39;00m \u001b[38;5;28mself\u001b[39m\u001b[38;5;241m.\u001b[39mindex\u001b[38;5;241m.\u001b[39m_get_values_for_loc(\u001b[38;5;28mself\u001b[39m, loc, label)\n",
      "File \u001b[0;32m/Library/Frameworks/Python.framework/Versions/3.11/lib/python3.11/site-packages/pandas/core/indexes/base.py:3804\u001b[0m, in \u001b[0;36mIndex.get_loc\u001b[0;34m(self, key, method, tolerance)\u001b[0m\n\u001b[1;32m   3802\u001b[0m     \u001b[38;5;28;01mreturn\u001b[39;00m \u001b[38;5;28mself\u001b[39m\u001b[38;5;241m.\u001b[39m_engine\u001b[38;5;241m.\u001b[39mget_loc(casted_key)\n\u001b[1;32m   3803\u001b[0m \u001b[38;5;28;01mexcept\u001b[39;00m \u001b[38;5;167;01mKeyError\u001b[39;00m \u001b[38;5;28;01mas\u001b[39;00m err:\n\u001b[0;32m-> 3804\u001b[0m     \u001b[38;5;28;01mraise\u001b[39;00m \u001b[38;5;167;01mKeyError\u001b[39;00m(key) \u001b[38;5;28;01mfrom\u001b[39;00m \u001b[38;5;21;01merr\u001b[39;00m\n\u001b[1;32m   3805\u001b[0m \u001b[38;5;28;01mexcept\u001b[39;00m \u001b[38;5;167;01mTypeError\u001b[39;00m:\n\u001b[1;32m   3806\u001b[0m     \u001b[38;5;66;03m# If we have a listlike key, _check_indexing_error will raise\u001b[39;00m\n\u001b[1;32m   3807\u001b[0m     \u001b[38;5;66;03m#  InvalidIndexError. Otherwise we fall through and re-raise\u001b[39;00m\n\u001b[1;32m   3808\u001b[0m     \u001b[38;5;66;03m#  the TypeError.\u001b[39;00m\n\u001b[1;32m   3809\u001b[0m     \u001b[38;5;28mself\u001b[39m\u001b[38;5;241m.\u001b[39m_check_indexing_error(key)\n",
      "\u001b[0;31mKeyError\u001b[0m: 'text'"
     ]
    }
   ],
   "source": [
    "# df_resume = pd.read_csv(\"resume.csv\")\n",
    "\n",
    "for index, row in df_resume.iterrows():\n",
    "    resume_text = row[\"text\"]\n",
    "    doc = nlp(resume_text)\n",
    "    matches = matcher(doc)\n",
    "\n",
    "    skills_found = [doc[start:end].text for _, start, end in matches if nlp.vocab.strings[_] == \"Skill\"]\n",
    "    education_found = [doc[start:end].text for _, start, end in matches if nlp.vocab.strings[_] == \"Education\"]\n",
    "    experience_found = [doc[start:end].text for _, start, end in matches if nlp.vocab.strings[_] == \"Experience\"]\n",
    "\n",
    "    print(f\"Skills: {skills_found}\")\n",
    "    print(f\"Education: {education_found}\")\n",
    "    print(f\"Experience: {experience_found}\")\n"
   ]
  },
  {
   "cell_type": "markdown",
   "metadata": {},
   "source": [
    "## 3. Cleaning Text"
   ]
  },
  {
   "cell_type": "markdown",
   "metadata": {},
   "source": [
    "clean the dataset in a few steps:\n",
    "- remove hyperlinks, special characters, or punctuations\n",
    "- lowering text\n",
    "- lemmatizing text to its base form for normalization\n",
    "- removing english stopwords"
   ]
  },
  {
   "cell_type": "code",
   "execution_count": null,
   "metadata": {},
   "outputs": [],
   "source": [
    "# remove hyperlinks\n",
    "\n",
    "import re\n",
    "\n",
    "def remove_hyperlinks(sentence):\n",
    "    \n",
    "    #just in case there is hyperlink....\n",
    "    sentence = re.sub(\n",
    "        '(@[A-Za-z0-9]+)|([^0-9A-Za-z \\t])|(\\w+:\\/\\/\\S+)|^rt|http.+?\"',\n",
    "        \" \",\n",
    "        sentence\n",
    "    )\n",
    "    \n",
    "    return sentence"
   ]
  },
  {
   "cell_type": "code",
   "execution_count": null,
   "metadata": {},
   "outputs": [],
   "source": [
    "# clean the data\n",
    "from spacy.lang.en.stop_words import STOP_WORDS\n",
    "\n",
    "def preprocessing(sentence):\n",
    "    \n",
    "    # remove hyperlink\n",
    "    sentence = remove_hyperlinks(sentence)\n",
    "    \n",
    "    stopwords    = list(STOP_WORDS)\n",
    "    doc          = nlp(sentence)\n",
    "    clean_tokens = []\n",
    "    \n",
    "    for token in doc:\n",
    "        if token.text not in stopwords and token.pos_ != 'PUNCT' and \\\n",
    "            token.pos_ != 'SYM' and token.pos_ != 'SPACE':\n",
    "            clean_tokens.append(token.lemma_.lower().strip())\n",
    "    \n",
    "    return \" \".join(clean_tokens)"
   ]
  },
  {
   "cell_type": "code",
   "execution_count": null,
   "metadata": {},
   "outputs": [],
   "source": [
    "df_resume.Resume_str"
   ]
  },
  {
   "cell_type": "code",
   "execution_count": null,
   "metadata": {},
   "outputs": [],
   "source": [
    "for i, row in df_resume.iterrows():\n",
    "    clean_text = preprocessing(row.Resume_str)\n",
    "    df_resume.at[i, 'Clean_resume'] = clean_text"
   ]
  },
  {
   "cell_type": "markdown",
   "metadata": {},
   "source": [
    "## 4. Extract Information"
   ]
  },
  {
   "cell_type": "markdown",
   "metadata": {},
   "source": [
    "### extract skills \n",
    "- extract skills, create a column called skills and append the unique skills to our dataset.\n",
    "this is done for visualization."
   ]
  },
  {
   "cell_type": "code",
   "execution_count": null,
   "metadata": {},
   "outputs": [],
   "source": [
    "# extract skills\n",
    "def get_skills(text):\n",
    "    doc = nlp(text)\n",
    "    \n",
    "    skills = []\n",
    "    \n",
    "    for ent in doc.ents:\n",
    "        if ent.label_ == 'SKILL':\n",
    "            skills.append(ent.text)\n",
    "    \n",
    "    return skills"
   ]
  },
  {
   "cell_type": "code",
   "execution_count": null,
   "metadata": {},
   "outputs": [],
   "source": [
    "# get the unique skills\n",
    "def unique_skills(x):\n",
    "    return list(set(x))\n",
    "\n",
    "# def unique_skills(x):\n",
    "#     return list(set(x))"
   ]
  },
  {
   "cell_type": "code",
   "execution_count": null,
   "metadata": {},
   "outputs": [],
   "source": [
    "# df_resume['Skills'] = df_resume.Clean_resume.apply(get_skills)\n",
    "# df_resume['Skills'] = df_resume.Skills.apply(unique_skills)"
   ]
  },
  {
   "cell_type": "code",
   "execution_count": null,
   "metadata": {},
   "outputs": [],
   "source": [
    "df_resume[\"skills\"] = df_resume.Clean_resume.apply(get_skills)\n",
    "df_resume[\"skills\"] = df_resume.skills.apply(unique_skills)\n",
    "df_resume.head()"
   ]
  },
  {
   "cell_type": "markdown",
   "metadata": {},
   "source": [
    "## 5. Visualization"
   ]
  },
  {
   "cell_type": "code",
   "execution_count": null,
   "metadata": {},
   "outputs": [],
   "source": [
    "!pip3 install plotly"
   ]
  },
  {
   "cell_type": "code",
   "execution_count": null,
   "metadata": {},
   "outputs": [],
   "source": [
    "import plotly.express as px\n",
    "\n",
    "fig = px.histogram(\n",
    "    df_resume, x=\"Category\", title=\"Distribution of Jobs Categories\"\n",
    ").update_xaxes(categoryorder=\"total descending\")\n",
    "fig.show()"
   ]
  },
  {
   "cell_type": "markdown",
   "metadata": {},
   "source": [
    "## 6. Name Entity Recognition"
   ]
  },
  {
   "cell_type": "markdown",
   "metadata": {},
   "source": [
    "## 7. load the PDF"
   ]
  },
  {
   "cell_type": "markdown",
   "metadata": {},
   "source": []
  }
 ],
 "metadata": {
  "kernelspec": {
   "display_name": "Python 3",
   "language": "python",
   "name": "python3"
  },
  "language_info": {
   "codemirror_mode": {
    "name": "ipython",
    "version": 3
   },
   "file_extension": ".py",
   "mimetype": "text/x-python",
   "name": "python",
   "nbconvert_exporter": "python",
   "pygments_lexer": "ipython3",
   "version": "3.11.4"
  }
 },
 "nbformat": 4,
 "nbformat_minor": 2
}
