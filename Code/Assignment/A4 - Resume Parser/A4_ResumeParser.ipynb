{
 "cells": [
  {
   "cell_type": "markdown",
   "metadata": {},
   "source": [
    "# A4: Resume Parser"
   ]
  },
  {
   "cell_type": "markdown",
   "metadata": {},
   "source": [
    "## 1. Load data"
   ]
  },
  {
   "cell_type": "code",
   "execution_count": 1,
   "metadata": {},
   "outputs": [],
   "source": [
    "import numpy as np \n",
    "import pandas as pd\n",
    "import spacy"
   ]
  },
  {
   "cell_type": "code",
   "execution_count": 2,
   "metadata": {},
   "outputs": [],
   "source": [
    "df_resume = pd.read_csv('data/Resume.csv')"
   ]
  },
  {
   "cell_type": "code",
   "execution_count": 3,
   "metadata": {},
   "outputs": [
    {
     "data": {
      "text/html": [
       "<div>\n",
       "<style scoped>\n",
       "    .dataframe tbody tr th:only-of-type {\n",
       "        vertical-align: middle;\n",
       "    }\n",
       "\n",
       "    .dataframe tbody tr th {\n",
       "        vertical-align: top;\n",
       "    }\n",
       "\n",
       "    .dataframe thead th {\n",
       "        text-align: right;\n",
       "    }\n",
       "</style>\n",
       "<table border=\"1\" class=\"dataframe\">\n",
       "  <thead>\n",
       "    <tr style=\"text-align: right;\">\n",
       "      <th></th>\n",
       "      <th>ID</th>\n",
       "      <th>Resume_str</th>\n",
       "      <th>Resume_html</th>\n",
       "      <th>Category</th>\n",
       "    </tr>\n",
       "  </thead>\n",
       "  <tbody>\n",
       "    <tr>\n",
       "      <th>0</th>\n",
       "      <td>16852973</td>\n",
       "      <td>HR ADMINISTRATOR/MARKETING ASSOCIATE\\...</td>\n",
       "      <td>&lt;div class=\"fontsize fontface vmargins hmargin...</td>\n",
       "      <td>HR</td>\n",
       "    </tr>\n",
       "    <tr>\n",
       "      <th>1</th>\n",
       "      <td>22323967</td>\n",
       "      <td>HR SPECIALIST, US HR OPERATIONS      ...</td>\n",
       "      <td>&lt;div class=\"fontsize fontface vmargins hmargin...</td>\n",
       "      <td>HR</td>\n",
       "    </tr>\n",
       "    <tr>\n",
       "      <th>2</th>\n",
       "      <td>33176873</td>\n",
       "      <td>HR DIRECTOR       Summary      Over 2...</td>\n",
       "      <td>&lt;div class=\"fontsize fontface vmargins hmargin...</td>\n",
       "      <td>HR</td>\n",
       "    </tr>\n",
       "    <tr>\n",
       "      <th>3</th>\n",
       "      <td>27018550</td>\n",
       "      <td>HR SPECIALIST       Summary    Dedica...</td>\n",
       "      <td>&lt;div class=\"fontsize fontface vmargins hmargin...</td>\n",
       "      <td>HR</td>\n",
       "    </tr>\n",
       "    <tr>\n",
       "      <th>4</th>\n",
       "      <td>17812897</td>\n",
       "      <td>HR MANAGER         Skill Highlights  ...</td>\n",
       "      <td>&lt;div class=\"fontsize fontface vmargins hmargin...</td>\n",
       "      <td>HR</td>\n",
       "    </tr>\n",
       "  </tbody>\n",
       "</table>\n",
       "</div>"
      ],
      "text/plain": [
       "         ID                                         Resume_str  \\\n",
       "0  16852973           HR ADMINISTRATOR/MARKETING ASSOCIATE\\...   \n",
       "1  22323967           HR SPECIALIST, US HR OPERATIONS      ...   \n",
       "2  33176873           HR DIRECTOR       Summary      Over 2...   \n",
       "3  27018550           HR SPECIALIST       Summary    Dedica...   \n",
       "4  17812897           HR MANAGER         Skill Highlights  ...   \n",
       "\n",
       "                                         Resume_html Category  \n",
       "0  <div class=\"fontsize fontface vmargins hmargin...       HR  \n",
       "1  <div class=\"fontsize fontface vmargins hmargin...       HR  \n",
       "2  <div class=\"fontsize fontface vmargins hmargin...       HR  \n",
       "3  <div class=\"fontsize fontface vmargins hmargin...       HR  \n",
       "4  <div class=\"fontsize fontface vmargins hmargin...       HR  "
      ]
     },
     "execution_count": 3,
     "metadata": {},
     "output_type": "execute_result"
    }
   ],
   "source": [
    "df_resume.head(5)"
   ]
  },
  {
   "cell_type": "code",
   "execution_count": 4,
   "metadata": {},
   "outputs": [
    {
     "data": {
      "text/plain": [
       "array(['HR', 'DESIGNER', 'INFORMATION-TECHNOLOGY', 'TEACHER', 'ADVOCATE',\n",
       "       'BUSINESS-DEVELOPMENT', 'HEALTHCARE', 'FITNESS', 'AGRICULTURE',\n",
       "       'BPO', 'SALES', 'CONSULTANT', 'DIGITAL-MEDIA', 'AUTOMOBILE',\n",
       "       'CHEF', 'FINANCE', 'APPAREL', 'ENGINEERING', 'ACCOUNTANT',\n",
       "       'CONSTRUCTION', 'PUBLIC-RELATIONS', 'BANKING', 'ARTS', 'AVIATION'],\n",
       "      dtype=object)"
      ]
     },
     "execution_count": 4,
     "metadata": {},
     "output_type": "execute_result"
    }
   ],
   "source": [
    "df_resume.Category.unique()"
   ]
  },
  {
   "cell_type": "code",
   "execution_count": 5,
   "metadata": {},
   "outputs": [
    {
     "data": {
      "text/plain": [
       "(1000, 4)"
      ]
     },
     "execution_count": 5,
     "metadata": {},
     "output_type": "execute_result"
    }
   ],
   "source": [
    "df_resume = df_resume.reindex(np.random.permutation(df_resume.index))\n",
    "df_resume = df_resume.copy().iloc[:1000,]\n",
    "df_resume.shape"
   ]
  },
  {
   "cell_type": "code",
   "execution_count": 6,
   "metadata": {},
   "outputs": [
    {
     "data": {
      "text/plain": [
       "array(['         GENERAL MANAGER           Summary     I have strong marketing, and sales skills, with a Costumer Service background combined with over 10 years of Management. I am skilled with learning new concepts, I work well under pressure and communicate ideas clearly, and effectively. Demonstrated achiever of being responsible, punctual, and consistent with all company policies.       Experience      Company Name      General Manager   City  ,   State      Leading sales counselor for first consecutive 6 months.  Voted best Customer Service Employee General Manager throughout district.  Largest and Highest consecutive sales, revenue, generated employees.  Developed and Promoted 5 company General Managers for La Fitness.  Highest overall ranking V-Class numbers.  Generated highest revenue based profitable New Jersey Club.  Nominated for Customer Service General Manager of the Year.  Achieved Senior/Regional GM.  Responsible for training and development of Co-General Managers in North east region.          Company Name     September 2014   to   January 2015     Feeder Driver   City  ,   State     Must conform to all federal and state department of transportation qualifications.  Ensure a safe and timely delivery of all UPS packages from hub to hub.  Responsible for all customer pick up and deliveries.         Company Name     June 2014   to   August 2014     Transport Driver   City  ,   State      Pepsi Transport Carrier ·Transport Pepsi raw materials from hub to hub and key distribution centers.  Adhere to all State and Federal DOT laws and regulations ·        Condition and maintain Driver, and Truck Safety. ·Report to upper management in delivery, pick-up, and business matters.          Company Name     March 2008   to   June 2014     General Manager   City  ,   State      Controlled all Business Operations of the Club.  Researched and devised marketing, financial and feasibility reports concerning new business acquisitions and acquisition prospects.  Maintain budget for past due accounts, manage payroll and supply margins and uphold company sales quotas.  Initiated multiple joint ventures and corporate relations to increase monthly profits margins on customers business in the U.S.  Key responsibility for consistent improvement of club sales and operations through effective strategic marketing.  Established overhead budgeting system using Microsoft Excel to improve expense tracking.  Increased sales by power point inside and outside marketing techniques, pursued corporate business through self generated business relations.  Established reports to track profits and loss gains for regional clubs in North Jersey market.  Develop all extracurricular sports programs for Corporate Office at the Club Level.  Worked directly with Director of Sales and Director of Strategic Planning.  Using independent discretion in maximizing profits, contain cost, and hold employees accountable.          Company Name     May 2003   to   August 2008     Bay Delivery Driver   City  ,   State      Worked consistently with Upper Management in major food accounts for retail and sale promotional distributions.  Planned and managed all Pepsi Costumer Service Accounts.  Ordered all retail Pepsi products for major food chains in Northern New.  Jersey.  Obtained company based CDL (class A) commercial driver license.  Distributed all commercial Pepsi products through bulk Truck Loads.  Educated customer service based seminars for new Pepsi employees.  Delivered all products through company brand trucking.          Company Name     June 2006   to   March 2008     Assistant General Manager   City  ,   State      Assist General Manager with Sales, Marketing, Advertising, and employee Management.  Focus on daily key performance indicators to drive profitability   · ·       Work with Sr.  GM with development of weekly game plans to ensure revenue is 5% higher then previous years bankable gross/eft          ·      Demonstrate a positive attitude and ensure management along team members are providing the highest level of customer service, cleanliness by our club pride practice and financial performance.  Decision making, problem solving, strategic planning, and data analysis skills.          Company Name     June 2005   to   December 2005     SALES CONSULTANT   City  ,   State      Generate Sales for company profit ·. Generate sales reports and understand critical numbers to impact your business.  Embrace the role of \"The Mayor\" your health club, by greeting members, cultivating relationships, and encouraging connectivity providing a welcoming environment for members and guests.       Generate Sales for company profit , Generate sales reports and understand critical numbers to impact your business.  Embrace the role of \"The Mayor\" your health club, by greeting members, cultivating relationships, and encouraging connectivity providing a welcoming environment for members and guests.  Knowledge within community events ensuring club participation and are actively involved in our community outreach program.  Strong external relationships with local business owners and management.          Company Name     March 2003   to   May 2005     Sports Director   City  ,   State      Develop all extracurricular sports programs for Corporate Office at Club Level.  Organized Basketball and Racquetball Leagues throughout North Jersey La Fitness locations.  Analyzed all statistics, data, and systems of the sports programs.  Implemented first company racquetball league program in North Jersey and Staten Island · Increased company league programs by 35% in first semester.          Education      Johnson C. Smith University     1996       Bachelor Of Science  :   Business Administration    City  ,   State       Business Administration concentration in Marketing, and Sales Management.         Skills     Acquisitions, Advertising, budgeting,  Business Operations, Customer Service, data analysis, Decision making, delivery, financial, General Manager,  Director, employee Management, marketing, Microsoft Excel, Office, power point, payroll, problem solving, Safety, Sales, seminars,  strategic marketing, Strategic Planning.    ',\n",
       "       \"         TEACHER             Interests    RANGOLI DANCE COMPANY          Los Angeles, CA\\nLead/Post-Graduate Company Dancer          2004 - Present\\n*Graduated with a solo dance debut and performed in over 15+ large scale productions \\n*Worked alongside world-renowned dancers from India and the United States\\n*Lead the company through matters involving choreography and aesthetics as a senior dancer \\n*Expanded my knowledge on the Indian culture while simultaneously bringing awareness to it by performing at schools, temples, and events for companies including Disney® \\n*Received the Rangoli Artistic Merit Award in 2016 for progress in dance training and performance \\nKARNATAKA CULTURAL ASSOCIATION OF SOUTHERN CALIFORNIA          Long Beach, CA  \\nVice President of Youth Committee and Volunteer          Sep 2010 - Present\\n*Volunteered at religious, community, and fundraising events as a committee member  \\n*Emceed shows such as the annual Children's Day, Drama Festival, and Indian New Year event. \\n*Organized 10+ fundraisers including book, clothes and toys drive, water bottle collection, Walk-a-Thons, etc. \\n*Participated in plays, performances, and international shows to fundraise for the organization\\n*Received Community Service Award in 2016 for participation and time spent volunteering \\n*          \\n*          \\nLAKEVIEW SENIOR CENTER          Irvine, CA\\nVice President of Volunteer Group          Sep 2012 - June 2016\\n*Assisted in care of the elderly in terms of dietary and medical needs, socially, and with daily tasks\\n*Put on events, games, holiday crafts to entertain and act as a support system\\n*Delivered informative presentations to the group about elderly care, basic science, people skills, and common diseases and medical issues      Experience      Company Name     February 2016   to   June 2016     Teacher   City  ,   State      Taught children with Autism music, dance, and art to build their focus and everyday skills.  Studied about each student's medical needs and specific skills they needed to improve on.  Created relationships with the parents to offer support and provide personal downtime for them.          Company Name     December 2015   to   July 2016     Teacher and Company   City  ,   State      Assisted with teaching classes in a variety of styles such as Bollywood, Bharathanatyam, Fusion, etc.  Choreographed pieces for performances and private classes.  Performed at various events and with organizations for fundraising.             July 2013   to   September 2013     Intern           Worked alongside nurses in Hoag Hospital for 20+ hours in acute care, vital signs, aide in central service/supply, dietary, physical therapy, pediatrics, and urology.  Studied body mechanics, biology, general chemistry/biochemistry, to patient rights, patient care skills, personal skills related to hospital surroundings and basic laboratory skills in classroom setting.  Completed Cardiopulmonary Resuscitation (CPR) Certification through the course, emergency skills, career options and opportunities.          COASTLINE REGIONAL OCCUPATIONAL PROGRAM-NURSING   City  ,   State            Education and Training      CALIFORNIA STATE UNIVERSITY     May       B.S  :   Chemistry    City        Chemistry 3.65        Survey of Chemistry, Introduction to Crime, Law and Justice  :   Biology General Chemistry    Biology General Chemistry        Skills    acute care, art, Autism, basic, biochemistry, biology, Chemistry, CPR, focus, fundraising, Law, patient care, pediatrics, physical therapy, Resuscitation, teaching, urology, vital signs      Additional Information      LEADERSHIP AND ACTIVITIES    \\nRANGOLI DANCE COMPANY          Los Angeles, CA\\nLead/Post-Graduate Company Dancer          2004 - Present\\n*Graduated with a solo dance debut and performed in over 15+ large scale productions \\n*Worked alongside world-renowned dancers from India and the United States\\n*Lead the company through matters involving choreography and aesthetics as a senior dancer \\n*Expanded my knowledge on the Indian culture while simultaneously bringing awareness to it by performing at schools, temples, and events for companies including Disney® \\n*Received the Rangoli Artistic Merit Award in 2016 for progress in dance training and performance \\nKARNATAKA CULTURAL ASSOCIATION OF SOUTHERN CALIFORNIA          Long Beach, CA  \\nVice President of Youth Committee and Volunteer          Sep 2010 - Present\\n*Volunteered at religious, community, and fundraising events as a committee member  \\n*Emceed shows such as the annual Children's Day, Drama Festival, and Indian New Year event. \\n*Organized 10+ fundraisers including book, clothes and toys drive, water bottle collection, Walk-a-Thons, etc. \\n*Participated in plays, performances, and international shows to fundraise for the organization\\n*Received Community Service Award in 2016 for participation and time spent volunteering \\n*          \\n*          \\nLAKEVIEW SENIOR CENTER          Irvine, CA\\nVice President of Volunteer Group          Sep 2012 - June 2016\\n*Assisted in care of the elderly in terms of dietary and medical needs, socially, and with daily tasks\\n*Put on events, games, holiday crafts to entertain and act as a support system\\n*Delivered informative presentations to the group about elderly care, basic science, people skills, and common diseases and medical issues       \",\n",
       "       '         OWNER SENIOR GRAPHIC DESIGNER / UX DESIGNER / APP DEVELOPER          LINKSLINKSLINKSLINKSLINKS    dLINKSLINKSLINKSLINKSLINKSLINKS    LINKSLINKSLINKSLINKS         Professional Summary    \\xa0Multi-talented  [Job Title]  skilled in several artistic mediums, including  [Medium]  and  [Medium] . Seasoned  [Job Title]  who specializes in print and environmental graphics.  Graphic Designer who multi-tasks and manages time well in fiercely competitive, fast-paced environments. Graphic Artist motivated to work on all projects collaboratively with the design team from conception through to final production.      Skills           Excellent communication skills    Complex problem solving   Print advertising  Web site advertising  Website design expert  Complex problem solving  Superb eye for detail  Proficient in Adobe CS6  Website and electronic marketing  Print advertisements      CSS expertise  SMS deployment  Proficient in photograph restoration  Customized template design  Excellent leader  Advanced graphic design            Work History      Owner Senior Graphic Designer / UX Designer / App Developer     01/2010  \\n                                to   Current      Company Name   –   City  ,\\n                              State      Enhance CSS, HTML, PHP codes for the frontend and backend of e-commerce store · Create graphics for silkscreen and direct to garment (DTG) printing · Work with programmers to design online-tool to enable users to personalize their own designs, and provide access to quality on-demand printing services.  Translated complex concepts and data into compelling visuals for media outreach.  Designed new on-brand visual elements to effectively convey concepts and messaging.  Maintained consistent use of graphic imagery in materials and other marketing outreach.         Senior Graphic Designer     10/2006  \\n                                to   06/2007      Company Name   –   City  ,\\n                              State      Designed original graphics for private label top and bottom sleepwear · Created licensed art for toddler and boys, including Warner Bros., Disney, and Hasbro · Researched and shopped stores for new concepts and printing treatments.  Tech packs.         Senior Graphic Designer     01/2006  \\n                                to   09/2006      Company Name   –   City  ,\\n                              State      Designed girls (tweens) graphics for multiple applications including appliqués, embroideries, patches & silkscreens.  Created cads, line sheets, tech packs, lables & hangtags · Worked with designer to develop & illustrate new fashion styles for production & sales · Shopped stores & researched a variety of trend resources to develop new graphics for girls.  Designed new on-brand visual elements to effectively convey concepts and messaging.  Maintained consistent use of graphic imagery in materials and other marketing outreach.         Graphic Designer /Graphic Artist     06/2002  \\n                                to   02/2005      Company Name   –   City  ,\\n                              State      Worked with Designers to create new art concepts for screen tees, embroideries, appliqués for boys and girls jackets, knit tops, bottoms, and jeans · Created Licensed art for boys/girls, including Superman and Batman · Worked with screen printers, researched and develop new techniques printing each season · Shopped stores and provided input for graphic trends.  Designed new on-brand visual elements to effectively convey concepts and messaging.  Maintained consistent use of graphic imagery in materials and other marketing outreach.  Formatted text and graphics for blog posts, newsletters and other materials.         Graphic Designer     10/1998  \\n                                to   02/2002      Company Name   –   City  ,\\n                              State      Designed graphics for boys and girls screen tees, embroideries & appliquész · Conceptualized & illustrated for packaging, labels & hangtags · Sourced & supervised for offset & digital printing · Design licensed and private label art for boys tops and allover prints for bottoms.  Translated complex concepts and data into compelling visuals for media outreach.  Designed new on-brand visual elements to effectively convey concepts and messaging.  Maintained consistent use of graphic imagery in materials and other marketing outreach.         Education      Bachelor of Arts  :      5 2012     Hebert H. Lehman College    -\\n                          City  ,\\n                          State        Psychology Fine Arts Art Design coursework  Sketching, Drawing, sculpture, painting  Advanced Illustration coursework  Industrial psychology  experimental psychology\\xa0  Social psychology\\xa0  Statistics         Certificate in Field Production  :             -\\n                          City  ,\\n                          State         Student government representative         Graphic Specialist Certificate  :           The Mac Learning Center    -\\n                          City  ,\\n                          State         CNC Operator Basic Vocational Certificate  Coursework in Sheet Metal Drafting and Mathematics  Graphic and Digital Design Certificate         Certificate in Pattern Making and Fashion Design  :           Mayor Fashion Institute    -\\n                          City  ,\\n                          State         Pattern making\\xa0  Sewing  Sketching         Certificates in Fashion and Commercial Photography Abiezer (Victor) Mota 1630 Research Ave  :             -\\n                          City  ,\\n                          State         Coursework in Sheet Metal Drafting and Mathematics  Quality Technology Certificate  CNC Operator Basic Vocational Certificate         Online Portfolio: http://victormotanyc.wix.com/abiezer-mota Mobile: 917-773-6397  :             -\\n                          City  ,\\n                          State              Accomplishments      Awarded by  [School Name]  for increasing class art budget.  Employee Recognition Award Nominee in  [Year] .  Honorary volunteer Graphic Designer for  [Foundation Name]  in  [Year] .   [Show name]  design challenge finalist in  [Year] .        Certifications    zzxzX XZ xz ZX zx x ax asXC axc x SADCsdc  dsCdscDC  DC  DC      Skills    3D Max, ActionScript, Adobe, Photoshop, Artist, art, Book, com, Corel Draw, CSS, Dreamweaver, e-commerce, Fashion, Final Cut\\nPro, Flash, Graphic Designer, graphics, Graphic, UX, HTML, http, Illustrator, InDesign, Journalist, Director, Maya, access, Excel, Microsoft Office\\nSuite, PowerPoint, Word, Developer, packaging, Photography, PHP, printers, quality, Quark Express, Research, sales, Technician, tops, trend, Videographer   ',\n",
       "       \"         SALES DIRECTOR       Summary     \\n\\nTo continue my career with an\\norganization that will utilize my management, supervision and administrative\\nskills to benefit mutual growth and success. Also, to offer my skills to your\\ncompany especially in the field of sales and to\\ngrasp power to enhance my professional skill set in accordance with\\norganizational objectives.\\n\\n  \\u200b       Core Qualifications          Budget & report writing skills  Excellent sales\\xa0and negotiation skills  The ability to motivate and lead a team  Excellent communication and 'people skills'  Good planning and organizational skills  The ability to work calmly under pressure  Developing sales strategies and setting sales targets  Compiling and analyzing sales figures       Keeping up to date with products and competitors  Sound expertise in sales  Strong presentation skills  Goal-oriented   Strong networking skills  Good judgement   Good decision making               Accomplishments       -Added 35+ businesses to WaveFly powered by JMF Solutions, Inc. since January 2016.    -Developed highly effective sales training strategies as Sales Manager.    -Personally helped grow our company in revenue by 115% in a year and we made the INC 5000 list and magazine.     -Recognized by our city as one of the fastest growing technology companies in revenue and I attributed to that with bringing over $300,000 in revenue in 36 month contracts since January 2016.     -VMware Federal Specialization Certification    -Lenovo Partner Certification     -VMware Academic Specialization Certification         Experience      Sales Director   10/2015   to   Current     Company Name   City  ,   State      JMF Solutions, Inc. is\\xa0the full service telecommunications firm behind WaveFly Technologies which provides a seamless approach to all of your technology-based services by analyzing your specific needs and creating a custom, cost-efficient solution. My day to day duties included:    Led sales calls with team members to establish sales and customer retention goals.  Negotiated and closed 35+ contracts for companies which included all 36 month contracts. Worked with HOA's and MDU's and closed\\xa0a 22 unit condo association with a 36 month agreement.  C reated and directed sales team training and development programs.  Shared product knowledge with customers while making personal recommendations.  Maintained friendly and professional customer interactions.  Trained in negotiations and time management. Helped grow our company to show a 115% growth margin over the last year. Also during this time I bid our services through USAC for E-Rate. I worked hand in hand with vendors such as Ingram Micro, CISCO, D&H etc. to work on the right price for us to be a competitive bidder.                 Store Trainer & Key Holder (worked through college)    07/2013   to   12/2015     Company Name   City  ,   State       Conducted daily pre-shift and weekly departmental meetings to ensure organizational efficiency.     Scheduled and directed staff in daily work assignments to maximize productivity.      Efficiently resolved problems or concerns to the satisfaction of all involved parties.       Trained all new staff in front of house and on all menu items food/drinks.           Lead Bartender & Store Trainer (worked through college)   08/2011   to   07/2012     Company Name   City  ,   State       Trained staff of employees for correct facility procedures, safety codes, bar codes, proper recipes and drinking safety.      Increased customer attendance.       Responsible for daily set up.         Received frequent customer compliments for going above and beyond normal duties.            Maintained a professional tone at all times, including during peak rush hours.        \\u200b         Receptionist    09/2008   to   04/2005     Company Name   City  ,   State       Handled incoming and outgoing correspondence, including mail, email and faxes.      Screened telephone calls and inquiries and directed them as appropriate.      Devised and maintained office systems to efficiently deal with paper flow.     Organized personal and professional calendars and supplied reminders of upcoming meetings and events.     Created expense reports using Microsoft Excel spreadsheets.     Typed documents, updated websites and compiled information for meetings.     Conducted extensive online and phone research.     Attended business meetings and took meeting minutes.    \\u200b         Education        Nursing   2010       University of Mobile   City  ,   State  ,   USA      I attended University of Mobile program for Center for Adult Programs and Professional Studies Nursing.          Bachelor of Science  :   Leadership & Cultural Studies    2015       University of Mobile   City  ,   State  ,   USA      I have a degree in Leadership & Cultural Studies with a minor in International Business: All 4 years of college I made the Deans List and graduated with a 3.5 GPA. My degree includes studies in philosophy, world politics, religion, and ethics. Emphasizes communication, critical thinking, and interpersonal relations skills. It is designed to build skills necessary for positions in human resources, management, counseling, and other service-oriented positions. The Bachelor of Science in Leadership and Cultural Studies develops proficiency in communication, critical thinking, and interpersonal relations. The emphasis in communication includes composition, the arts, logic, and counseling. Critical thinking involves studies in philosophy, world politics, and religion, as well as ethics, and psychology. Interpersonal preparation adds consideration of world conflict and its resolution, and investigations into traditions of leadership.         Skills        Sales Software: Ubersmith  Desktop Publishing Software: Photoshop, Illustrator, HTML  Cold Calling   Achieving Results  Customer Satisfaction  Building Relationships  Microsoft Office  Microsoft Excel   Planning   Negotiation      \",\n",
       "       '         LEASING CONSULTANT       Executive Summary      Dedicated leasing consultant, highly skilled in conflict resolution and customer relations.  My main focus is satisfying tenants and maintaining high occupancy rates\\xa0all while reporting any major issues to property owners and taking the initiative to find workable solutions. I am a q uality-focused Leasing Consultant who genuinely cares about property conditions, resident satisfaction and fulfilling property owner needs.\\xa0          Education      High School Diploma     June 2010       Bethel High school   City  ,   State       Member of the Drill team \\nMember of Color guard with BHS marching band\\nGraduated with the second highest rank in the JROTC program        Bachelor of Arts  :   Psychology   2016       Virginia Wesleyan College   City  ,   State       Major in Psychology, Minor in business,\\xa0 Introduction to Business coursework,\\xa0  Coursework in Business Management and Administration,\\xa0 Coursework in Organizational Development ,\\xa0 Coursework Accounting            Core Qualifications          Skilled multi-tasker  Team player  Microsoft Office  Knowledge of leasing and market conditions      Decisive  Personable  Fast learner  Fair housing mandates  Flexible schedule            Interests    Volunteered with homeless shelter at Virginia Wesleyan College, Volunteered with neighborhood tutoring at Virginia Wesleyan College, Community Service for CHKD with my class at Virginia Wesleyan College, Volunteered at my church in Hampton, VA (Sixth Mount Zion Baptist Temple), PORTfolio Program.      Skills    \\xa0communication skills, computer literate, credit, addressing customer concerns,  People skills: enthusiastic people person, advanced problem-solving, great organizational skills, \\xa0quick learner, Retail Sales, sales, team player, telephone, visual displays      Professional Experience      Leasing Consultant   03/2014       Company Name   City  ,   State       Greet prospects and qualify by covering all criteria (ask questions; utilize completed guest cards, etc.).  Immediately record all telephone and in-person visits on appropriate reports.  Inspect models and available \"market ready\", communicate related service needs to Property Manager.  Demonstrate community and apartment/model and apply product knowledge to clients needs by communicating the features and benefits; close the sale.  Have prospect complete application and secure deposit in accordance with the company procedures and Fair Housing requirements.  Update availability report, process applications for approvals.\\xa0 i.e., credit check, rental history, etc.) Submit processed applications to the Community Manager for approval.   Follow up with applicant regarding status.  Ensure apartment is ready for resident to move-in on agreed date.  Immediately follow-up on prospects that did not close and attempt to close sale again.  Secure new resident\\'s signature(s) on appropriate paperwork prior to move-in.  Orient new residents to community.  Gather information about market competition in the area and file.  Filing resident paper work  Completed resident folders and Move-Out Folders          Customer Service Representative (Summer Position)   05/2012   to   08/2012     Company Name   City  ,   State       Family Dollar customer service representatives meet and greet customers, assist in sales, and answer questions about products and services.  \\xa0operate cash registers   Answered product questions with up-to-date knowledge of sales and store promotions.   Politely assisted customers in person and via telephone.  Ensured superior customer experience by addressing customer concerns, demonstrating empathy and resolving problems on the spot.          Third Shift Cashier (Summer Position)   05/2010   to   09/2010     Company Name   City  ,   State       Greeted customers entering the store to ascertain what each customer wanted or needed.  Using Point of Sale (POS) system, take customers order in either Drive-thru or at front counter.  Collect payment and give back change as needed.  Repeat customer order for accuracy, assemble customers order, hand order to Customer, thank customer.  Must be able to communicate to production area, any Special requests by customer.  Re-stock condiments and dry products (cups, napkins, utensils) for customer and store use.  Operated a POS system to itemize and complete an average of number customer purchases.          Sales Associate   04/2008   to   06/2010     Company Name   City  ,   State       Provided prompt, accurate, and friendly service to our customers through the achievement of customer service standards.  Scans a customer order and handles the payment transaction.  Followed procedures in handling cash, checks, coupons, gift certificates, food stamps, and WIC vouchers.  Politely assisted customers in person and via telephone.  Answered product questions with up-to-date knowledge of sales and store promotions.  Bagged sold merchandise per customer\\'s request.  Directed calls to appropriate individuals and departments.  Built long-term customer relationships and advised customers on purchases and promotions.          Additional Information     RELEVANT COURSEWORK:    Introduction to Business-as CEO of project team, developed and wrote business plan for \"Soul of The South\". Presented plan orally and in writing to \"Shark Tank\" judges consisting of alumni of VA Wesleyan College and the surrounding community.\\xa0     Original research project for psychology course:\\xa0conduct an independent empirical study, prepare a paper on their research, and defend the effort in an oral examination before a committee comprised of the project advisor, one other psychology faculty member, and one faculty member outside of psychology.\\xa0For my\\xa0independent study I will be testing the\\xa0effects of distraction and timing on short term memory. I will be using music in my study to test the impact of auditory distraction on short term memory performance by using word recall.\\xa0Timing is another independent variable in my experiment. Each\\xa0participant will have to recall a number of words during a certain time duration while listening to music and while not listening to music.\\xa0 ?     ',\n",
       "       \"         CONSULTANT           Executive Profile    As a professional in health care for over 40 years, I have had numerous experiences, clinical and nonclinical, that would be an asset to any organization. I have authored numerous policies and procedures and technical advisor for several books. Working as Paramedic, Nurse, Travel Nurse (ED and Home Health), Manager, Educator, Consultant, Director, Regulator,  and serving on two Board(s) of Directors, I am a people person, and have developed and managed teams of people and achieved many goals.        Core Accomplishments      Readylink Healthcare, Travel Nurse, (2003 and   2005), ED contract- Sarah   Bush Lincoln Healthcare, Mattoon, Illinois.  ED nurse for a busy central Illinois ED, with significant rural trauma and medical services.  Agostini and Associates, Travel Nurse (2004)-ED contract-Mercy Merced Medical Center, Merced, California ED Nurse for a facility serving a highly noncompliant population, resulting in a very high acuity and census.  Provena Covenant Medical Center, Resource/ED Nurse, and (2002-2004) - Resource Nurse for the hospital included: Support services to all hospital departments Performed difficult procedures and skills throughout the facility, including specialized intravenous lines, such as PICCs, etc.  Specializing in the ED ED Staff Nurse.  St.  Margaret Mercy Hospital(s), Nursing Director (2001-2002) -oversight of operations between two hospitals, Hospital operations, rotated  between a 400 and  200 bed  hospital, both with a high census and acuity EDs, ICUs, CCUs, NICUs, PICUs, and a complete Psychiatric facility.  Encountered numerous unique challenges, including the necessity of closing the hospital (bypass) at times due to census and\\\\or acuity, resolving conflicts, and adequate staffing.  ED Nurse, Supervisor, ED Registry, (1976 - 1998) Daley's Ambulance\\\\Co*Med Transport, Director of EMS/Education/Human Resources and National Affairs, (1975 -2001) EMT\\\\Paramedic, then, Director.  Developed respected personnel, education, public relations, and employee health departments.  Established prestigious Specialized Critical Care Transport and Nurse Teams.  Grew company from 150 employees to 1000, and at its peak, 1000 transports per day.  Authored numerous policy and procedures for company.  Established infection control, including the new OSHA regulations.  Developed several customer service initiatives through various CQI programs using a team approach.  Board of Directors (15 years) for the American Ambulance Association (AAA) Board of Directors for the National Registry of EMTs.  Porter Memorial Hospital, EMS Director\\\\Instructor, (1982 - 1985) Oversight of EMS system(s) operations, education (ED and EMS), Paramedic and EMT programs, including Popular and unique continuing education programs.  Oversight of system operations.  Policy and procedures development CQI programs Fire Departments, Crete, Glenwood, and Cornbelt Fire Departments, (intermittent between 1974 and 2005), Firefighter/Paramedic/Diver Career Achievements ED\\\\EMS Consultant Technical Advisor for several  books by D.B.  Petit and Diane Petit Authored numerous  policies and procedures, including regulations American Ambulance Association (AAA) Board of Directors National Registry of Emergency Medical Technicians (NREMT) Board of Directors Excellence Award - Walter Schaefer Award, (AAA), 1999.  Appointed to the Illinois Department of Public Health (IDPH) Regional EMS and Trauma Advisory Committee(s).  Implemented very successful Special Critical Care Transport and Nurse Teams.  Pilot project - evaluating the effectiveness of prehospital personnel providing HBV/PPD vaccinations, with IDPH and the University of Chicago - demonstrated effectiveness.  Designed and implemented numerous policies and procedures, including, Drug Free Workplace (challenged successfully several times), and a respected credentialing process for hiring EMS personnel, even respected by other providers and hospitals.  Negotiated Rule Making for Medicare (AAA) - resulting in a fair fee schedule with increased reimbursements for ambulance providers throughout the nation.        Professional Experience      Company Name   January 1999   to   Current     Consultant           Operations and systems development.  OSHA and regulatory issues.  Startup EMS providers.  HBV\\\\TB vaccinations.  Staffing, and patient care.          Company Name   January 2010   to   Current     Assistant Director           Nursing.  Provided Home Health to patients, specializing in infusion therapy.  Supervision of nursing staff.  Case management.          Company Name   April 2014   to   July 2014     Travel Nurse           Mercy Home Health contract.  Supervised ancillary staff.  Provided home health to patients, throughout the Oklahoma City region.  Illinois Department of Public Health (IDPH) Office of Preparedness and Response, Regional Emergency Medical Services.          Company Name   January 2005   to   January 2009     Coordinator           Working in the regulatory environment, providing oversight for all aspects of Trauma Centers, EMS and Emergency Department (ED), which included:.  Site visits, investigations, conflict resolution, licensing, inspections, reviewing and approving all aspects of EMS and ED.  Disaster Preparedness and Response for Hospitals and EMS.          Education      Governors State University      Masters  :   Health Administration    Health Administration        Valparaiso University     1 1988       BSN              Prairie State College   1 1978         State              Ingalls Memorial Hospital     1 1975       Emergency Medical Technician              Publications/Contributions Technical Advisor for several books-by D.B. Petit and Diane Petit Ambulance Industry Journal, AAA The Insider, JEMS Communication Human Resource Manual, AAA Medicare Documentation Manual, AAA Clinical Standards Manual, AAA Expanded  Scope of Practice Manual, AAA Certifications-current and past Advanced Cardiac Life Support Emergency Communications  RN, Illinois National  Incident  Management  System (NIMS) Basic Trauma Life  Support  (BTLS) Pediatric Advanced Life Support Domestic  Preparedness  Certificate Pediatric Education  for  Prehospital Professionals (PEPP) CPR Certification MTI (Management Training Institute), Texas A & M, AAA Paramedic, 1975 Amateur Radio (Ham Radio) License PADI Open Water Scuba Certification               Work History      Company Name                  Skills    Ambulance, Basic, conflict resolution, CPR, Documentation, Human Resource, Management Training, Office, Nursing, Publications, Radio, Staffing, Supervision, systems development, Technician   \",\n",
       "       \"         PERSONAL TRAINER       Summary     Accomplished Assistant Store Manager with 10 years of managerial experience in a retail setting. Areas of expertise include sales, recruiting and people management. Retail sales professional versed in product placement and merchandising. Extensive experience in inventory management and shipment processing. Retail professional with extensive knowledge of the supplement industry, including current trends. Enjoys helping customers find the new and exciting products.       Experience      Personal Trainer     Jun 2010   to   Current      Company Name   －   City  ,   State     WBFF Pro Sponsored Athlete  Healthy lifestyle, nutrition, and fitness guest expert on WEOA 98.5 Evansville radio, with 15,000+ listeners  Work with personal healthy lifestyle and training clients to determine overall health, nutrition, and fitness goals, then tailor workout and nutrition programs to help clients meet goals  Develop personal brand and do client outreach using social media and online tools such as Instagram, Facebook, Google+, etc.  Coordinated & lead pre-sales and opening, with a total of 1,000+ members signed on or before opening day  Consistently provided excellent customer service and assisted in account management for 15,000+ members  Recruited, hired and trained a staff of 20 full-time and part-time employees to provide excellent customer service to 15,000+ members  Maintained the overall operations of the facility including maintenance, cleaning staff, and inventory  Responsible for completing payroll, scheduling and reporting to corporate office Trained, coached and mentored staff to ensure smooth adoption of new program.  Implemented innovative programs to increase employee loyalty and reduce turnover.  Exceeded company objectives with Sales.  Hired and trained 90% of staff.  Trained, coached and mentored staff to ensure smooth adoption of new program.  Planned and led three training sessions to promote sales team professional development and sales goal reinforcement.  Entered numerical data into databases in a timely and accurate manner.  Obtained scanned records and uploaded them into the database.  Scanned documentation and entered into the database.  Reviewed and updated client correspondence files and scheduling database.  Maintained daily bookkeeping report.  Led the creation of recruiting plans for all open positions.  Pre-screened all resumes prior to sending them to corporate hiring managers for consideration.  Screened all applicants based on theirTrained new sales associates  Trained new sales associates each quarter.  Alerted customers to upcoming sales events and promotions.  Cleaned and organized the store, including the checkout desk and displays.  Stocked and replenished merchandise according to store merchandising layouts.  Operated a cash register for cash, check and credit card transactions with 100% accuracy.  Completed all point of sale opening and closing procedures, including counting the contents of the cash register.  Handled all customer relations issues in a gracious manner and in accordance with company policies.  Welcomed customers into the store and helped them locate items.  Resolved all customer complaints in a professional manner while prioritizing customer satisfaction.  Mentored new sales associates to contribute to the store's positive culture.  Followed merchandising guidelines to present visually appealing displays.  Answered customer telephone calls promptly and in an appropriate manner.  Assisted clients in determining their overall health, nutrition, and fitness goals, then determined tailored workout and nutrition programs best suited for the client.  Educated clients on proper nutrition, cardio capacities, and correct workout and weight-lifting form.  Helped clients to reach their goals through consistent motivation, education, and accountability. *\\tAssisted clients in determining their overall health, nutrition, and fitness goals, then determined tailored workout and nutrition programs best suited for the client *\\tEducated clients on proper nutrition, cardio capacities, and correct workout and weight-lifting form *\\tHelped clients to reach their goals through consistent motivation, education, and accountability  Assisted clients in determining their overall health, nutrition, and fitness goals, then determined tailored workout and nutrition programs best suited for the client  Responsible for new client outreach and retention Accomplishments  1st Place, Muscle Model - WBFF Amateur Las Vegas World Championships 2014 (which led to earned PRO card)         Fitness Manager     Mar 2015   to   Mar 2015      Company Name   －   City  ,   State     Team Leader  Tracking Sales  Help and Development in Training Programs  Manage 16 Personal trainers  Oversee All Operations on the floor/group training  Conducted weekly Training Meetings  Schedule Client appointments  Front Desk customer service  Prepare weekly Reports         Education      High School Diploma  ,   buisness    southern indiana   －   City  ,   State  ,   united states    some college/  Coursework in Business, Management and Communications/ Strategic Leadership course.        Certifications    CPR International Fitness Professional Associate Certified - Weight Lifting, Kickboxing, and Aerobics Any other certifications? Current Personal Training Insurance through Thomco Insurance       Skills     Clients, Training, Customer Service, Operations, Receptionist, Retail Sales, Sales, Account Management, And Sales, Bookkeeping, Cash, Cash Register, Closing, Correspondence, Credit, Credit Card, Customer Relations, Database, Databases, Documentation, Increase, Instructor, Inventory, Maintenance, Merchandising, New Sales, Of Sale, Payroll, Point Of Sale, Promote Sales, Recruiting, Sales And, Sales Associates, Sales Events, Sales Team, Satisfaction, Scheduling, Telephone, With Sales, Associate, CPR, Front Desk, Training Programs    \",\n",
       "       \"         MEN'S SR DESIGNER - FREELANCE         Summary     Innovative and artistic professional with  20+ years in the fashion industry.  Passionate, creative, resourceful, dependable, efficient, strong communication and organizational skills with the ability to troubleshoot problems. Enjoys working in a fast-paced, dynamic environment with the ability to work cross-functionally as well as independently. Laser focus on details and achieving the desired results. Experienced in price negotiations, costing of materials.\\xa0Proficient in product development, well rou nded Fashion Designer familiar with the complete product creation life cycle, from initial concept to retail sale.           Highlights          Strong creative design skills  Extensive fabric knowledge  Superb attention to detail       Superior communication skills  Vendor relations  Self-motivated professional            Accomplishments      Traveled to Asia and Europe for international trend research and theme inspiration.\\xa0   Eddie Bauer, Best Product Wins 2013 - Award for Materials Development.           Experience      Company Name     March 2016   to   February 2012     Men's Sr Designer - Freelance   City  ,   State     dddd   dd Drew lines between reference points to produce outlines of graded patterns.  Calculated dimensions and specifications from sales order and entered data in worksheets.  Calculated dimensions and specifications from sales order and entered data in worksheets.     Calculated dimensions and specifications from sales order and entered data in worksheets.  Calculated dimensions and specifications from sales order and entered data in worksheets.   d Demonstrated and presented features and characteristics of clothing by standing, turning and walking.  Demonstrated and presented features and characteristics of clothing by standing, turning and walking.    Demonstrated and presented features and characteristics of clothing by standing, turning and walking.  Demonstrated and presented features and characteristics of clothing by standing, turning and walking.    Demonstrated and presented features and characteristics of clothing by standing, turning and walking.  dd Monitored sales and inventory to recommend appropriate markdown action.  Monitored sales and inventory to recommend appropriate markdown action.    Monitored sales and inventory to recommend appropriate markdown action.  Monitored sales and inventory to recommend appropriate markdown action.    Monitored sales and inventory to recommend appropriate markdown action.            Company Name     June 2015   to   Current     Creative Design Consultant   City  ,   State      Consultant on Women's design, styling and fabric quality and trim selections.  Merchandise seasonal collections.  Work on seasonal color palette.  Research seasonal inspirations for patterns.  Planning seasonal style count and color assortment.          Company Name     July 2012   to   October 2014     Associate Manager - Materials Developer   City  ,   State      Researching, develop and sourcing of fabrics/trims that meet design vision, merchant requirements and Company financial plans.  Provide fabric/trim trend research to design in support of the product development process.  Work directly with Mills during the materials development process.  Manage fabric/trim deadlines and tracking to meet seasonal TACT.  Requesting and coordinating proto sample yardages/trims from the mills to the appropriate vendors.  Work with Product Development and Quality Assurance to review fabric/trim qualities to ensure they meet Eddie Bauer standards and uphold the authenticity and personality of the brand.  Fabric/Trim price negotiating to achieve the best price and IMU.  Partner with Design and PLM's to ensure that appropriate material are selected for the product.          Company Name     March 2010   to   December 2011     Sr Designer - Freelance   City  ,   State     dddd   dd Drew lines between reference points to produce outlines of graded patterns.  Calculated dimensions and specifications from sales order and entered data in worksheets.  Calculated dimensions and specifications from sales order and entered data in worksheets.     Calculated dimensions and specifications from sales order and entered data in worksheets.  Calculated dimensions and specifications from sales order and entered data in worksheets.   d Demonstrated and presented features and characteristics of clothing by standing, turning and walking.  Demonstrated and presented features and characteristics of clothing by standing, turning and walking.    Demonstrated and presented features and characteristics of clothing by standing, turning and walking.  Demonstrated and presented features and characteristics of clothing by standing, turning and walking.    Demonstrated and presented features and characteristics of clothing by standing, turning and walking.  dd Monitored sales and inventory to recommend appropriate markdown action.  Monitored sales and inventory to recommend appropriate markdown action.    Monitored sales and inventory to recommend appropriate markdown action.  Monitored sales and inventory to recommend appropriate markdown action.    Monitored sales and inventory to recommend appropriate markdown action.            Company Name     July 2005   to   November 2009     Men's Sportswear Designer   City  ,   State      Initiated and interpreted new product concepts to meet the needs of our customers, resulting in sales and growth for the company.  Managed design projects and worked with team members to ensure that deadlines are met to reach company goals.  Proposed color palette for assigned category(s) and participate in color process, including defining lab dip needs and color-way development on a style by style basis.  Work as a team member in identifying general color direction on a seasonal basis.  Developed fabrics/created pattern work and trims with our domestic and international vendors.             Company Name     September 2004   to   June 2005     Men's Bottoms & Outerwear Designer   City  ,   State      Responsible for designing and managing the TB Men's Collection Pants and Shorts as well as the Outerwear program each season.  Developed and created technical sketches for the garment styling and construction specifications.  Daily communications between the Hong Kong vendors on development and production issues.  Knowledge in fitting garments.  International travel to Hong Kong to work with the liaison office and fabric/trim vendors.          Company Name     March 2001   to   September 2004     Apparel Product Designer II   City  ,   State      Designed seasonal collections for the Men's and Boy's Sport Athletic Groups (Classic, Retro, Basketball, ILE, Training and Headwear/Accessories) as well as the Two 3 Men's Street Casual Line (Knits,Sweaters,Woven,Denim,Outerwear and Headwear/Accessories).  Domestic and International travel for trend, trim and fabric research.  Involved in Merchandising the seasonal line through styling and color.  Ensured that product was consistent with market trends as well as business strategy.  Interacted closely with merchandising teams to execute seasonal lines accordingly to style counts, gross margin requirements, and retail/catalog merchandising strategies.             Education      Art Institute of Seattle      Associate Degree  :   Fashion Design    City  ,   State      GPA:   Graduated at the top 5% of my class with Honors    Fashion Design Graduated at the top 5% of my class with Honors        University of Washington      Bachelor of Fine Arts  :   Fiber & Textiles    City  ,   State      Fiber & Textiles        Skills       Creative direction, competitive research and market trends, price negotiating,  Materials development, Merchandising, product design and development, Knowledge of Quality Assurance testing.            \",\n",
       "       \"         ACCOUNTANT       Summary      Innovative and energetic Accountant proficient in extracting financial data from various reporting systems and suggesting key operational changes to establish budgetary stability. Has a strong background in school fund accounting with an emphasis on general ledger reconciliation and budget analysis.        Core Strengths          School fund accounting  Account reconciliation  Cash flow projections  Budget analysis/forecasting      General ledger accounting  Accounts payable/receivable  Governmental reporting  School bond experience            Accomplishments    Achieved the Chief Financial Officer (CFO) certification through the Michigan School Business Officials organization.\\xa0      Experience      Accountant     Jul 2014   to   Current      Company Name   －   City  ,   State     Perform all general ledger duties for district.  Reconcile multiple bank accounts monthly.  Record and project cash flows.  Perform Accounts Payable/Receivable duties.  Simplified the governmental reporting process.  Analyze budgets and amend as necessary.  Assist auditors with yearly financial statements.  Supply school board members with financial data.   Create Purchase Orders and supply to vendors.  Reconcile student lunch account purchases.  Prepare calendar year-end tax documents.   Assisted and trained staff with various accounting software tasks \\xa0such as purchase order entry and budget report generating.          Staff Accountant     Nov 2010   to   Jul 2014      Company Name   －   City  ,   State     Performed Accounts Payable duties for three local area public school districts.  Processed Purchase Orders and supplied to vendors.  Prepared and processed 1099's at calendar year-end.  Prepared various reports on a weekly basis and supplied local districts with valuable information.  Streamlined document attachment process within accounting software.         Package Handler     Aug 2007   to   Sep 2010      Company Name   －   City  ,   State     Earned Employee of the Month on multiple occasions for customer focus and taking initiative.         Education      BBA  ,   Accountancy   April 2010     Western Michigan University   －   City  ,   State     Haworth College of Business       Skills           Creative problem solving skills.   Advanced computer skills.  Works great with others.  Continuous initiative for process improvement.     \",\n",
       "       \"         CONSULTANT       Profile     \\n\\nSkilled professional with 15 years of\\nexperience in electrical and quality engineering for numerous engineering\\n\\nand quality control processes. Expertise in\\ncreating detailed test plans and test cases for optimal quality control.\\n\\nSolid background in various testing\\nmethodologies for both client-facing and non-client-facing procedures\\n\\nand products.\\n\\n       Experience      Customer Relations    \\xa0Monitored customer technical related issues  \\xa0Maximized operational efficiency by coaching staff on various customer service initiatives  \\xa0Improved employee-customer relations by providing\\nsocial skills and managerial training to staff.    Analytical Skills    Oversaw quality assurance initiatives to design and implement products and processes for ongoing\\nprojects.  Ensured optimal productivity and quality assurance initiatives by performing routine maintenance on\\nelectrical equipment.  Review statistics and determine areas requiring enhancement, which includes inspecting samples and\\nformulating improvement policies to meet quality standards.    Organization and Document Management    Managed CAPA's and Risk assessment analysis,\\xa0failure Mode and Effect analysis, and forensic investigation of     manufacturing and product field failures.\\xa0\\xa0  Wrote procedures and established practices\\n     to develop templates and documentation to improve forensic investigation for\\n     manufacturing and product field failures.\\n\\n\\n\\xa0  Ensured proper documentation of phase deliverables in\\nProducts Design History and Technical Files.           Work History      Consultant   01/2009   to   Current     Company Name   City  ,   State       Conducted product analysis to address products high failure rates, which led to more than 15% decrease\\xa0in failure rate.   Provided\\xa0failure analysis, engineering support, forensic investigation, and statistical data analysis.  Provided training to staff in leadership, strategic planning, and organizational management.          Electrical Engineer   03/2007   to   11/2008     Company Name      Provided Systems and Electrical Engineering Support for Government Programs Development.  Supported vehicle hardware and integration, vehicle systems modeling and analysis, and systems requirements.  Provided System Integration Design\\xa0usining MIL-STD-1553 interface, EIA RS-422 interface design, USB and Ethernet interfaces.  Performed Installation, Testing, and verification of Simulators' Audio Visual Systems.  Developed Vehicle's Software Test Description (STD), Interface Design Description (IDD).  Developed Interface Cable Systems for vehicles.          Principal Electrical Engineer   04/2005   to   11/2006     Company Name      Provided Engineering Support of Dialysis Instruments.  Planned and led project functions.  Provided project management, failure analysis, and forensic investigation of manufacturing and product field failures.  Provided expert advise on\\xa0the Quality Improvement Team (QIT)   Performed products trend analysis, statistical data analysis calculations of raw data, DFMEAs, and design reviews.  Managed CAPA's and Risk assessment Analysis.  Ensured proper documentation of phase deliverables in Products Design History/Technical Files, Technical Summaries, Technical Manuals.  Wrote Products Test Protocols and Procedures   Conducted Environmental Tests for product reliability.          Systems Engineer   08/2003   to   11/2004     Company Name      Implemented test plans, validation protocols, verified code changes, identified and investigated bugs.  Performed stress tests and assessed product functionality and usability.          Electrical Engineer   10/2001   to   07/2003     Company Name   City  ,   State       Designed power controls distribution and avionics wiring.  Performed Analysis on Voltage Power System control.  Designed and developed electrical test equipments.  Installed and verifiedn\\xa0Simulators' Audio Visual Systems.          Systems Quality Engineer   10/2000   to   10/2001     Company Name   City  ,   State       Wrote and implemented quality control procedures   Maintained weapon engagement simulation systems.  Provided Technical Support to manufacturing and Quality control for testing and calibration of laser equipments System   Designed and developed electrical test fixtures for optical devices.  Provided Logistical Support and Analysis, Reliability And Maintainability Analysis, Human Factors Analysis.  Conducted product reliability testing using environmental test chambers.  Made technical presentations to customers worldwide, which\\xa0resulted in several government contracts with US supported Military Contracts with Egypt, Kuwait and Turkey.          Applications Engineer   08/1999   to   09/2000     Company Name   City  ,   State       Improved Character and Graphic LCD displays designs, engineering changes, and customer support, product testing and validation.  Resolved customers' technical issues, which improved\\xa0company's customer relations.  Resolved customers complaints and concerns.          Project Engineer   07/1995   to   07/1999     Company Name   City  ,   State       Developed test programs, calibration test equipments   Maintained Automated Test Equipments (ATE)   Performed failure mode analysis, yield enhancement, statistical process   Developed and executed test plans, validation protocols, test procedures to support manufacturing lines of medical instruments.          Reliability Engineer   04/1990   to   07/1995     Company Name      Prepared the Company's Quality and reliability Metrics of all products, safety and hazard analysis, failure mode and effect analysis (FMEA), reliability metrics, and system assurance analysis (SAA)   Prepared product complaints information reports, medical device reports (MDR).  Monitored products\\xa0reliability, maintainability, and availability.  Performed System criticality assessment (SCA) on several products   Analyzed acceptance of incoming material and in-process material, product return information, and product investigations.  Wrote test procedures and maintained the Quality Control database.  Executed and troubleshot Reliability Test plans.  Performed Reliability data analysis and reports distribution.          Education and Training      Bachelor of Science  :   Electrical Engineering Minor in Computer Science   1997       Northeastern University   City  ,   State  ,   USA     Electrical Engineering; Minor in Computer          Organization and Management   2011       Capella University   City  ,   State  ,   USA     Organization and Management        Affiliations     Member, IEEE Computer Society  Member, NEU Alumni Association       Skills     AutoCAD, OrCADD, C, C++,Customer Support, Data Acquisition, Data Analysis, Database, FDA, GMP, Government, Interface Design, Labview, MS Access, MS Excel, MS Power Point, Microsoft Project, Microsoft Visual Basic, Microsoft Windows,\\xa0MS Word, NT, Organizational leadership, Problem solving, Product Development, Procedure Writing, Programming, Project management, Protocols, Quality Improvement, Quality Control, Risk Assessment, Strategic Planning, System Integration, Technical Support,\\xa0Presentations    \"],\n",
       "      dtype=object)"
      ]
     },
     "execution_count": 6,
     "metadata": {},
     "output_type": "execute_result"
    }
   ],
   "source": [
    "df_resume.Resume_str.values[:10]"
   ]
  },
  {
   "cell_type": "markdown",
   "metadata": {},
   "source": [
    "## 2. Load skill data (need to load others: experiences and certification, contact information)"
   ]
  },
  {
   "cell_type": "code",
   "execution_count": 7,
   "metadata": {},
   "outputs": [],
   "source": [
    "from spacy.matcher import Matcher\n",
    "\n",
    "nlp = spacy.load('en_core_web_md')"
   ]
  },
  {
   "cell_type": "code",
   "execution_count": 20,
   "metadata": {},
   "outputs": [
    {
     "data": {
      "text/plain": [
       "['tok2vec', 'tagger', 'parser', 'attribute_ruler', 'lemmatizer', 'ner']"
      ]
     },
     "execution_count": 20,
     "metadata": {},
     "output_type": "execute_result"
    }
   ],
   "source": [
    "nlp.pipe_names"
   ]
  },
  {
   "cell_type": "markdown",
   "metadata": {},
   "source": [
    "### add skill data"
   ]
  },
  {
   "cell_type": "code",
   "execution_count": 8,
   "metadata": {},
   "outputs": [],
   "source": [
    "skill_path = 'data/skills.jsonl'"
   ]
  },
  {
   "cell_type": "code",
   "execution_count": 13,
   "metadata": {},
   "outputs": [
    {
     "data": {
      "text/plain": [
       "list"
      ]
     },
     "execution_count": 13,
     "metadata": {},
     "output_type": "execute_result"
    }
   ],
   "source": [
    "# Load skills from JSONL file\n",
    "with open(skill_path, \"r\") as file:\n",
    "    skills_data = [line.strip() for line in file]\n",
    "\n",
    "skills = list(set(skills_data))\n",
    "type(skills)"
   ]
  },
  {
   "cell_type": "code",
   "execution_count": 11,
   "metadata": {},
   "outputs": [],
   "source": [
    "matcher = Matcher(nlp.vocab)\n",
    "\n",
    "skill_pattern = [{\"LOWER\": {\"IN\": skills}}]\n",
    "education_pattern = [{\"POS\": \"PROPN\", \"IS_TITLE\": True}, {\"POS\": \"PROPN\", \"IS_TITLE\": True, \"OP\": \"?\"}, {\"LOWER\": {\"IN\": [\"at\", \"in\"]}, \"OP\": \"?\"}, {\"POS\": {\"IN\": [\"PROPN\", \"NUM\"]}}]\n",
    "experience_pattern = [{\"POS\": \"PROPN\", \"IS_TITLE\": True}, {\"POS\": \"PROPN\", \"IS_TITLE\": True, \"OP\": \"?\"}, {\"LOWER\": {\"IN\": [\"at\", \"in\"]}, \"OP\": \"?\"}, {\"POS\": {\"IN\": [\"PROPN\", \"NUM\"]}}]\n",
    "\n",
    "matcher.add(\"Skill\", [skill_pattern])\n",
    "matcher.add(\"Education\", [education_pattern])\n",
    "matcher.add(\"Experience\", [experience_pattern])\n"
   ]
  },
  {
   "cell_type": "code",
   "execution_count": null,
   "metadata": {},
   "outputs": [],
   "source": [
    "# df_resume = pd.read_csv(\"resume.csv\")\n",
    "\n",
    "for index, row in df_resume.iterrows():\n",
    "    resume_text = row[\"text\"]\n",
    "    doc = nlp(resume_text)\n",
    "    matches = matcher(doc)\n",
    "\n",
    "    skills_found = [doc[start:end].text for _, start, end in matches if nlp.vocab.strings[_] == \"Skill\"]\n",
    "    education_found = [doc[start:end].text for _, start, end in matches if nlp.vocab.strings[_] == \"Education\"]\n",
    "    experience_found = [doc[start:end].text for _, start, end in matches if nlp.vocab.strings[_] == \"Experience\"]\n",
    "\n",
    "    print(f\"Skills: {skills_found}\")\n",
    "    print(f\"Education: {education_found}\")\n",
    "    print(f\"Experience: {experience_found}\")\n"
   ]
  },
  {
   "cell_type": "markdown",
   "metadata": {},
   "source": [
    "## 3. Cleaning Text"
   ]
  },
  {
   "cell_type": "markdown",
   "metadata": {},
   "source": [
    "clean the dataset in a few steps:\n",
    "- remove hyperlinks, special characters, or punctuations\n",
    "- lowering text\n",
    "- lemmatizing text to its base form for normalization\n",
    "- removing english stopwords"
   ]
  },
  {
   "cell_type": "markdown",
   "metadata": {},
   "source": [
    "### 3.1 remove hyperlinks"
   ]
  },
  {
   "cell_type": "code",
   "execution_count": 21,
   "metadata": {},
   "outputs": [],
   "source": [
    "import re\n",
    "\n",
    "def remove_hyperlinks(sentence):\n",
    "    \n",
    "    #just in case there is hyperlink....\n",
    "    sentence = re.sub(\n",
    "        '(@[A-Za-z0-9]+)|([^0-9A-Za-z \\t])|(\\w+:\\/\\/\\S+)|^rt|http.+?\"',\n",
    "        \" \",\n",
    "        sentence\n",
    "    )\n",
    "    \n",
    "    return sentence"
   ]
  },
  {
   "cell_type": "code",
   "execution_count": 18,
   "metadata": {},
   "outputs": [],
   "source": [
    "# clean the data\n",
    "from spacy.lang.en.stop_words import STOP_WORDS\n",
    "\n",
    "def preprocessing(sentence):\n",
    "    \n",
    "    # remove hyperlink\n",
    "    sentence = remove_hyperlinks(sentence)\n",
    "    \n",
    "    stopwords    = list(STOP_WORDS)\n",
    "    doc          = nlp(sentence)\n",
    "    clean_tokens = []\n",
    "    \n",
    "    for token in doc:\n",
    "        if token.text not in stopwords and token.pos_ != 'PUNCT' and \\\n",
    "            token.pos_ != 'SYM' and token.pos_ != 'SPACE':\n",
    "            clean_tokens.append(token.lemma_.lower().strip())\n",
    "    \n",
    "    return \" \".join(clean_tokens)"
   ]
  },
  {
   "cell_type": "code",
   "execution_count": 17,
   "metadata": {},
   "outputs": [
    {
     "data": {
      "text/plain": [
       "839              GENERAL MANAGER           Summary    ...\n",
       "360              TEACHER             Interests    RANG...\n",
       "1600             OWNER SENIOR GRAPHIC DESIGNER / UX DE...\n",
       "1050             SALES DIRECTOR       Summary     \\n\\n...\n",
       "1209             LEASING CONSULTANT       Executive Su...\n",
       "                              ...                        \n",
       "2321             EXECUTIVE DIRECTOR       Career Overv...\n",
       "529              PATIENT EXPERIENCE MANAGER       Summ...\n",
       "1933             CONSTRUCTION INSTALLER       Summary ...\n",
       "623              SENIOR ASSOCIATE BUSINESS DEVELOPMENT...\n",
       "1153             IT CONSULTANT       Professional Summ...\n",
       "Name: Resume_str, Length: 1000, dtype: object"
      ]
     },
     "execution_count": 17,
     "metadata": {},
     "output_type": "execute_result"
    }
   ],
   "source": [
    "df_resume.Resume_str"
   ]
  },
  {
   "cell_type": "code",
   "execution_count": 19,
   "metadata": {},
   "outputs": [],
   "source": [
    "for i, row in df_resume.iterrows():\n",
    "    clean_text = preprocessing(row.Resume_str)\n",
    "    df_resume.at[i, 'Clean_resume'] = clean_text"
   ]
  },
  {
   "cell_type": "markdown",
   "metadata": {},
   "source": [
    "## 4. Extract skills from Resume.csv"
   ]
  },
  {
   "cell_type": "code",
   "execution_count": null,
   "metadata": {},
   "outputs": [],
   "source": []
  },
  {
   "cell_type": "markdown",
   "metadata": {},
   "source": [
    "## 5. Visualization"
   ]
  },
  {
   "cell_type": "markdown",
   "metadata": {},
   "source": [
    "## 6. Name Entity Recognition"
   ]
  },
  {
   "cell_type": "markdown",
   "metadata": {},
   "source": [
    "## 7. load the PDF"
   ]
  },
  {
   "cell_type": "markdown",
   "metadata": {},
   "source": []
  }
 ],
 "metadata": {
  "kernelspec": {
   "display_name": "Python 3",
   "language": "python",
   "name": "python3"
  },
  "language_info": {
   "codemirror_mode": {
    "name": "ipython",
    "version": 3
   },
   "file_extension": ".py",
   "mimetype": "text/x-python",
   "name": "python",
   "nbconvert_exporter": "python",
   "pygments_lexer": "ipython3",
   "version": "3.11.4"
  }
 },
 "nbformat": 4,
 "nbformat_minor": 2
}
