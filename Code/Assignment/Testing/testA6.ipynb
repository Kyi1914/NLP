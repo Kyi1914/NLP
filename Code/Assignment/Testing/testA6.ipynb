{
 "cells": [
  {
   "cell_type": "code",
   "execution_count": 1,
   "metadata": {},
   "outputs": [],
   "source": [
    "train_losses = [1,2,3,4,5]\n",
    "num_epoches = 5"
   ]
  },
  {
   "cell_type": "code",
   "execution_count": 10,
   "metadata": {},
   "outputs": [
    {
     "name": "stdout",
     "output_type": "stream",
     "text": [
      "0 1\n",
      "1 2\n",
      "2 3\n",
      "3 4\n",
      "4 5\n",
      "total_losses: 15\n",
      "avg_losses: 3.0\n"
     ]
    }
   ],
   "source": [
    "total_losses = 0\n",
    "for i,v in enumerate(train_losses):\n",
    "    print(i,v)\n",
    "    total_losses += v\n",
    "avg_losses = total_losses / num_epoches\n",
    "print(f\"total_losses: {total_losses}\")\n",
    "print(f\"avg_losses: {avg_losses}\")\n"
   ]
  },
  {
   "cell_type": "code",
   "execution_count": null,
   "metadata": {},
   "outputs": [],
   "source": [
    "print(f\"=====even_model=====\" )\n",
    "em_train_losses, em_eval_losses, em_avg_eval_metric = train_model(even_model)\n",
    "em_avg_train_losses = cal_avg(em_train_losses)\n",
    "em_avg_eval_losses  = cal_avg(em_eval_losses)"
   ]
  },
  {
   "cell_type": "code",
   "execution_count": 11,
   "metadata": {},
   "outputs": [
    {
     "name": "stdout",
     "output_type": "stream",
     "text": [
      "0 even_model\n",
      "1 odd_model\n",
      "2 topK_model\n",
      "3 bottomK_model\n"
     ]
    }
   ],
   "source": [
    "even_model = \"even_model\"\n",
    "odd_model = \"odd_model\"\n",
    "topK_model = \"topK_model\"\n",
    "bottomK_model = \"bottomK_model\"\n",
    "\n",
    "models_results = {}\n",
    "\n",
    "models = [even_model, odd_model, topK_model, bottomK_model]\n",
    "for i,model in enumerate(models):\n",
    "    print(i, model)\n",
    "    print(f\"=====even_model=====\" )\n",
    "    em_train_losses, em_eval_losses, em_avg_eval_metric = train_model(even_model)\n",
    "    em_avg_train_losses = cal_avg(em_train_losses)\n",
    "    em_avg_eval_losses  = cal_avg(em_eval_losses)\n",
    "    models_results[model] = \n",
    "\n",
    "    "
   ]
  },
  {
   "cell_type": "code",
   "execution_count": null,
   "metadata": {},
   "outputs": [],
   "source": []
  }
 ],
 "metadata": {
  "kernelspec": {
   "display_name": "Python 3",
   "language": "python",
   "name": "python3"
  },
  "language_info": {
   "codemirror_mode": {
    "name": "ipython",
    "version": 3
   },
   "file_extension": ".py",
   "mimetype": "text/x-python",
   "name": "python",
   "nbconvert_exporter": "python",
   "pygments_lexer": "ipython3",
   "version": "3.11.4"
  }
 },
 "nbformat": 4,
 "nbformat_minor": 2
}
