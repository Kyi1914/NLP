{
 "cells": [
  {
   "cell_type": "code",
   "execution_count": 8,
   "metadata": {},
   "outputs": [
    {
     "name": "stdout",
     "output_type": "stream",
     "text": [
      "['This is a sample text.', 'Another sample text.']\n",
      "<class 'list'>\n",
      "This is a sample text. Another sample text.\n",
      "<class 'str'>\n",
      "['This', 'is', 'a', 'sample', 'text.', 'Another', 'sample', 'text.']\n",
      "['a', 'Another', 'text.', 'is', 'sample', 'This']\n"
     ]
    }
   ],
   "source": [
    "text = [\"This is a sample text.\", \"Another sample text.\"]\n",
    "print(text)\n",
    "print(type(text))\n",
    "\n",
    "# Combine the text into a single string\n",
    "combined_text = \" \".join(text)\n",
    "print(combined_text)\n",
    "print(type(combined_text))\n",
    "\n",
    "# Split the combined text into words\n",
    "word_list = combined_text.split()\n",
    "print(word_list)\n",
    "\n",
    "# Create a set to get unique words\n",
    "unique_words_set = set(word_list)\n",
    "\n",
    "# Convert the set back to a list\n",
    "unique_word_list = list(unique_words_set)\n",
    "\n",
    "# Print the result\n",
    "print(unique_word_list)\n"
   ]
  },
  {
   "cell_type": "code",
   "execution_count": null,
   "metadata": {},
   "outputs": [],
   "source": [
    "word2id = {''}"
   ]
  }
 ],
 "metadata": {
  "kernelspec": {
   "display_name": "Python 3",
   "language": "python",
   "name": "python3"
  },
  "language_info": {
   "codemirror_mode": {
    "name": "ipython",
    "version": 3
   },
   "file_extension": ".py",
   "mimetype": "text/x-python",
   "name": "python",
   "nbconvert_exporter": "python",
   "pygments_lexer": "ipython3",
   "version": "3.11.4"
  }
 },
 "nbformat": 4,
 "nbformat_minor": 2
}
