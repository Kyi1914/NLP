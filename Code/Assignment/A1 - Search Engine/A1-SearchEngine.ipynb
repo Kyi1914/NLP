{
 "cells": [
  {
   "cell_type": "markdown",
   "metadata": {},
   "source": [
    "# A1 : Search Engine"
   ]
  },
  {
   "cell_type": "code",
   "execution_count": 1,
   "metadata": {},
   "outputs": [],
   "source": [
    "import numpy as np\n",
    "import torch\n",
    "import torch.nn as nn\n",
    "import torch.optim as optim\n",
    "import matplotlib\n",
    "import matplotlib.pyplot as plt"
   ]
  },
  {
   "cell_type": "code",
   "execution_count": 2,
   "metadata": {},
   "outputs": [
    {
     "data": {
      "text/plain": [
       "('1.25.2', '2.1.0', '3.7.2')"
      ]
     },
     "execution_count": 2,
     "metadata": {},
     "output_type": "execute_result"
    }
   ],
   "source": [
    "np.__version__, torch.__version__, matplotlib.__version__"
   ]
  },
  {
   "cell_type": "markdown",
   "metadata": {},
   "source": [
    "## 1. Data Loader"
   ]
  },
  {
   "cell_type": "code",
   "execution_count": 3,
   "metadata": {},
   "outputs": [],
   "source": [
    "corpus = [\"apple banana grape orange fruit\", \"banana apple orange grape fruit\", \"banana fruit orange grape apple\",\n",
    "          \"dog cat mouse rabbit animal\", \"cat mouse rabbit animal dog\", \"cat dog animal rabbit mouse\"]\n",
    "\n",
    "# corpus = ('Code/Assignment/A1 - Search Engine/word-test.v1.txt')\n",
    "\n",
    "# read the nltk dataset\n",
    "# dataset >> some preparation for the dataset?\n"
   ]
  },
  {
   "cell_type": "markdown",
   "metadata": {},
   "source": [
    "### tokenization"
   ]
  },
  {
   "cell_type": "code",
   "execution_count": 4,
   "metadata": {},
   "outputs": [
    {
     "data": {
      "text/plain": [
       "[['apple', 'banana', 'grape', 'orange', 'fruit'],\n",
       " ['banana', 'apple', 'orange', 'grape', 'fruit'],\n",
       " ['banana', 'fruit', 'orange', 'grape', 'apple'],\n",
       " ['dog', 'cat', 'mouse', 'rabbit', 'animal'],\n",
       " ['cat', 'mouse', 'rabbit', 'animal', 'dog'],\n",
       " ['cat', 'dog', 'animal', 'rabbit', 'mouse']]"
      ]
     },
     "execution_count": 4,
     "metadata": {},
     "output_type": "execute_result"
    }
   ],
   "source": [
    "# tokenization\n",
    "corpus = [sent.split(\" \") for sent in corpus]\n",
    "corpus"
   ]
  },
  {
   "cell_type": "markdown",
   "metadata": {},
   "source": [
    "### numericalization"
   ]
  },
  {
   "cell_type": "code",
   "execution_count": 5,
   "metadata": {},
   "outputs": [
    {
     "data": {
      "text/plain": [
       "['banana',\n",
       " 'dog',\n",
       " 'grape',\n",
       " 'cat',\n",
       " 'fruit',\n",
       " 'rabbit',\n",
       " 'mouse',\n",
       " 'animal',\n",
       " 'orange',\n",
       " 'apple']"
      ]
     },
     "execution_count": 5,
     "metadata": {},
     "output_type": "execute_result"
    }
   ],
   "source": [
    "# get unique word\n",
    "\n",
    "# list comprehension for getting words\n",
    "flatten = lambda l: [item for sublist in l for item in sublist]\n",
    "\n",
    "# getting unique word and store as a list\n",
    "vocab = list(set(flatten(corpus)))\n",
    "vocab"
   ]
  },
  {
   "cell_type": "code",
   "execution_count": 6,
   "metadata": {},
   "outputs": [],
   "source": [
    "# add <UNK> to a dictionary vocab\n",
    "vocab.append('<UNK>')"
   ]
  },
  {
   "cell_type": "code",
   "execution_count": 7,
   "metadata": {},
   "outputs": [
    {
     "data": {
      "text/plain": [
       "{'banana': 0,\n",
       " 'dog': 1,\n",
       " 'grape': 2,\n",
       " 'cat': 3,\n",
       " 'fruit': 4,\n",
       " 'rabbit': 5,\n",
       " 'mouse': 6,\n",
       " 'animal': 7,\n",
       " 'orange': 8,\n",
       " 'apple': 9,\n",
       " '<UNK>': 10}"
      ]
     },
     "execution_count": 7,
     "metadata": {},
     "output_type": "execute_result"
    }
   ],
   "source": [
    "# numericalization: assign index to each word\n",
    "word2index = {w:idx for idx, w in enumerate(vocab)}\n",
    "word2index"
   ]
  },
  {
   "cell_type": "code",
   "execution_count": 8,
   "metadata": {},
   "outputs": [
    {
     "data": {
      "text/plain": [
       "{0: 'banana',\n",
       " 1: 'dog',\n",
       " 2: 'grape',\n",
       " 3: 'cat',\n",
       " 4: 'fruit',\n",
       " 5: 'rabbit',\n",
       " 6: 'mouse',\n",
       " 7: 'animal',\n",
       " 8: 'orange',\n",
       " 9: 'apple',\n",
       " 10: '<UNK>'}"
      ]
     },
     "execution_count": 8,
     "metadata": {},
     "output_type": "execute_result"
    }
   ],
   "source": [
    "# index2word\n",
    "index2word = {k:v for v,k in word2index.items()}\n",
    "index2word"
   ]
  },
  {
   "cell_type": "markdown",
   "metadata": {},
   "source": [
    "## 2. Preparation for the train data"
   ]
  },
  {
   "cell_type": "code",
   "execution_count": 9,
   "metadata": {},
   "outputs": [],
   "source": [
    "def random_batch(batch_size, corpus):\n",
    "\n",
    "    # define a list for storing [center,outside] pair\n",
    "    skipgrams = []\n",
    "\n",
    "    # loop each word sequence\n",
    "    for sent in corpus:\n",
    "        \n",
    "        for i in range(2, len(sent)-2):\n",
    "            \n",
    "            # assign center word\n",
    "            center_word = word2index[sent[i]]\n",
    "            \n",
    "            # assign outside word=4 (ws = 2)\n",
    "            outside_word = [word2index[sent[i-2]], word2index[sent[i-1]], word2index[sent[i+1]], word2index[sent[i+2]]]\n",
    "            \n",
    "            # for each of these two outside words, we gonna pair (center,outside) and append to a list\n",
    "            for each_outside in outside_word:\n",
    "                skipgrams.append([center_word, each_outside])\n",
    "                \n",
    "    # randomly select 2 pair among the data\n",
    "    random_index = np.random.choice(range(len(skipgrams)), batch_size, replace = False)\n",
    "    \n",
    "    random_inputs = []\n",
    "    random_labels = []\n",
    "    \n",
    "    for i in random_index:\n",
    "        random_inputs.append([skipgrams[i][0]]) # center_word\n",
    "        random_labels.append([skipgrams[i][1]]) # outside_word\n",
    "        \n",
    "    return np.array(random_inputs), np.array(random_labels)"
   ]
  },
  {
   "cell_type": "markdown",
   "metadata": {},
   "source": [
    "#### testing"
   ]
  },
  {
   "cell_type": "code",
   "execution_count": 10,
   "metadata": {},
   "outputs": [
    {
     "data": {
      "text/plain": [
       "(array([[5],\n",
       "        [7],\n",
       "        [8],\n",
       "        [6]]),\n",
       " array([[7],\n",
       "        [1],\n",
       "        [0],\n",
       "        [7]]))"
      ]
     },
     "execution_count": 10,
     "metadata": {},
     "output_type": "execute_result"
    }
   ],
   "source": [
    "batch_size = 4\n",
    "input_batch, label_batch = random_batch(4, corpus)\n",
    "input_batch, label_batch"
   ]
  },
  {
   "cell_type": "code",
   "execution_count": 11,
   "metadata": {},
   "outputs": [],
   "source": [
    "# for i in range(batch_size):\n",
    "#     print(f\"input = {index2word[input_batch[i]]} | label = {index2word[label_batch[i]]}\")"
   ]
  },
  {
   "cell_type": "markdown",
   "metadata": {},
   "source": [
    "## 3. Model"
   ]
  },
  {
   "cell_type": "markdown",
   "metadata": {},
   "source": [
    "### 3.1 Skipgram model"
   ]
  },
  {
   "cell_type": "code",
   "execution_count": 12,
   "metadata": {},
   "outputs": [],
   "source": [
    "class Skipgram (nn.Module):\n",
    "    \n",
    "    def __init__(self, voc_size, emb_size):\n",
    "        super(Skipgram, self).__init__()\n",
    "        self.embedding_center  = nn.Embedding(voc_size, emb_size)\n",
    "        self.embedding_outside = nn.Embedding(voc_size, emb_size)\n",
    "    \n",
    "    def forward(self, center_word, outside_word, all_vocabs):\n",
    "        \n",
    "        # embedding for all: result as a vector for each \n",
    "        center_embed  = self.embedding_center(center_word)   # (batch_size, 1, emb_size)\n",
    "        outside_embed = self.embedding_outside(outside_word) # (batch_size, 1, emb_size)\n",
    "        all_embed     = self.embedding_outside(all_vocabs)   # (batch_size, voc_size, emb_size)\n",
    "        \n",
    "        # write the equation\n",
    "        top_term = torch.exp(outside_embed.bmm(center_embed.transpose(1,2)).squeeze(2))\n",
    "        # (batch_size, 1, emb_size) @ (batch_size, emb_size, 1) = (batch_size, 1, 1) = (bacth_size, 1)\n",
    "        \n",
    "        lower_term = all_embed.bmm(center_embed.transpose(1,2)).squeeze(2)\n",
    "        # (batch_size, voc_size, emb_size) @ (batch_size, emb_size, 1) = (batch_size, voc_size, 1) = (batch_size, voc_size)\n",
    "        lower_term_sum = torch.sum(torch.exp(lower_term), 1)\n",
    "        # (batch_size, 1)\n",
    "        \n",
    "        loss = - torch.mean(torch.log(top_term / lower_term_sum))\n",
    "        \n",
    "        return loss"
   ]
  },
  {
   "cell_type": "markdown",
   "metadata": {},
   "source": [
    "#### test the skipgram model"
   ]
  },
  {
   "cell_type": "code",
   "execution_count": 13,
   "metadata": {},
   "outputs": [
    {
     "data": {
      "text/plain": [
       "Skipgram(\n",
       "  (embedding_center): Embedding(11, 2)\n",
       "  (embedding_outside): Embedding(11, 2)\n",
       ")"
      ]
     },
     "execution_count": 13,
     "metadata": {},
     "output_type": "execute_result"
    }
   ],
   "source": [
    "voc_size = len(vocab)\n",
    "emb_size = 2\n",
    "model = Skipgram(voc_size, emb_size)\n",
    "model"
   ]
  },
  {
   "cell_type": "code",
   "execution_count": 14,
   "metadata": {},
   "outputs": [],
   "source": [
    "batch_size = 2\n",
    "x,y = random_batch(batch_size, corpus)"
   ]
  },
  {
   "cell_type": "code",
   "execution_count": 15,
   "metadata": {},
   "outputs": [
    {
     "data": {
      "text/plain": [
       "(array([[8],\n",
       "        [8]]),\n",
       " array([[9],\n",
       "        [9]]))"
      ]
     },
     "execution_count": 15,
     "metadata": {},
     "output_type": "execute_result"
    }
   ],
   "source": [
    "x,y"
   ]
  },
  {
   "cell_type": "code",
   "execution_count": 16,
   "metadata": {},
   "outputs": [
    {
     "data": {
      "text/plain": [
       "((2, 1), (2, 1))"
      ]
     },
     "execution_count": 16,
     "metadata": {},
     "output_type": "execute_result"
    }
   ],
   "source": [
    "x.shape, y.shape"
   ]
  },
  {
   "cell_type": "code",
   "execution_count": 17,
   "metadata": {},
   "outputs": [],
   "source": [
    "input_tensor = torch.LongTensor(x)\n",
    "label_tensor = torch.LongTensor(y)"
   ]
  },
  {
   "cell_type": "code",
   "execution_count": 18,
   "metadata": {},
   "outputs": [],
   "source": [
    "# prepare for all_vocabs\n",
    "def prepare_sequence (seq, word2index):\n",
    "    idxs = list(map(lambda w: word2index[w] if word2index.get(w) is not None else word2index[\"<UNK>\"], seq))\n",
    "    return torch.LongTensor(idxs)\n",
    "\n",
    "all_vocabs = prepare_sequence(list(vocab), word2index).expand(batch_size, len(vocab)) #[batch_size, voc_size]"
   ]
  },
  {
   "cell_type": "code",
   "execution_count": 19,
   "metadata": {},
   "outputs": [],
   "source": [
    "all_vocabs = prepare_sequence(list(vocab), word2index).expand(batch_size, len(vocab)) #[batch_size, voc_size]"
   ]
  },
  {
   "cell_type": "code",
   "execution_count": 20,
   "metadata": {},
   "outputs": [
    {
     "data": {
      "text/plain": [
       "tensor([[ 0,  1,  2,  3,  4,  5,  6,  7,  8,  9, 10],\n",
       "        [ 0,  1,  2,  3,  4,  5,  6,  7,  8,  9, 10]])"
      ]
     },
     "execution_count": 20,
     "metadata": {},
     "output_type": "execute_result"
    }
   ],
   "source": [
    "all_vocabs"
   ]
  },
  {
   "cell_type": "code",
   "execution_count": 21,
   "metadata": {},
   "outputs": [
    {
     "data": {
      "text/plain": [
       "tensor(1.2251, grad_fn=<NegBackward0>)"
      ]
     },
     "execution_count": 21,
     "metadata": {},
     "output_type": "execute_result"
    }
   ],
   "source": [
    "loss = model(input_tensor, label_tensor, all_vocabs)\n",
    "loss"
   ]
  },
  {
   "cell_type": "markdown",
   "metadata": {},
   "source": [
    "### 3.2 Skip-gram negative sampling model"
   ]
  },
  {
   "cell_type": "markdown",
   "metadata": {},
   "source": [
    "### 3.3 GloVe model"
   ]
  },
  {
   "cell_type": "code",
   "execution_count": null,
   "metadata": {},
   "outputs": [],
   "source": []
  },
  {
   "cell_type": "markdown",
   "metadata": {},
   "source": [
    "### 3.4 GloVe (Gensim) model"
   ]
  },
  {
   "cell_type": "markdown",
   "metadata": {},
   "source": [
    "## 4.Train"
   ]
  },
  {
   "cell_type": "code",
   "execution_count": 22,
   "metadata": {},
   "outputs": [],
   "source": [
    "voc_size       = len(vocab) # total vocab size\n",
    "batch_size     = 2 # mini-batch size\n",
    "embedding_size = 2\n",
    "\n",
    "skipgram_model = Skipgram(voc_size, embedding_size)\n",
    "\n",
    "skipgram_optimizer = optim.Adam(skipgram_model.parameters(), lr = 0.001)"
   ]
  },
  {
   "cell_type": "code",
   "execution_count": 23,
   "metadata": {},
   "outputs": [],
   "source": [
    "# prepare for all_vocabs\n",
    "def prepare_sequence (seq, word2index):\n",
    "    idxs = list(map(lambda w: word2index[w] if word2index.get(w) is not None else word2index[\"<UNK>\"], seq))\n",
    "    return torch.LongTensor(idxs)\n",
    "\n",
    "all_vocabs = prepare_sequence(list(vocab), word2index).expand(batch_size, len(vocab)) #[batch_size, voc_size]"
   ]
  },
  {
   "cell_type": "code",
   "execution_count": 24,
   "metadata": {},
   "outputs": [
    {
     "name": "stdout",
     "output_type": "stream",
     "text": [
      "tensor([[ 0,  1,  2,  3,  4,  5,  6,  7,  8,  9, 10],\n",
      "        [ 0,  1,  2,  3,  4,  5,  6,  7,  8,  9, 10]])\n",
      "torch.Size([2, 11])\n"
     ]
    }
   ],
   "source": [
    "print(all_vocabs)\n",
    "print(all_vocabs.shape)"
   ]
  },
  {
   "cell_type": "code",
   "execution_count": 25,
   "metadata": {},
   "outputs": [],
   "source": [
    "# for recording the training time for each epoch\n",
    "def epoch_time(start_time, end_time):\n",
    "    elapsed_time = end_time - start_time # get the total taken timestamp\n",
    "    elapsed_mins = int(elapsed_time / 60) # get the min\n",
    "    elapsed_secs = int(elapsed_time - (elapsed_mins * 60)) # get the sec\n",
    "    return elapsed_mins, elapsed_secs"
   ]
  },
  {
   "cell_type": "code",
   "execution_count": 26,
   "metadata": {},
   "outputs": [
    {
     "name": "stdout",
     "output_type": "stream",
     "text": [
      "Epoch: 1000 | loss: 2.317922 | time: 0m 0s\n",
      "Epoch: 2000 | loss: 1.923717 | time: 0m 0s\n",
      "Epoch: 3000 | loss: 1.694552 | time: 0m 0s\n",
      "Epoch: 4000 | loss: 1.823928 | time: 0m 0s\n",
      "Epoch: 5000 | loss: 1.444429 | time: 0m 0s\n"
     ]
    }
   ],
   "source": [
    "# training\n",
    "\n",
    "import time\n",
    "\n",
    "num_epochs = 5000\n",
    "\n",
    "# loop for each epoch\n",
    "for epoch in range(num_epochs):\n",
    "    \n",
    "    # record the start time\n",
    "    start = time.time()\n",
    "    \n",
    "    # get the random training batch\n",
    "    input_batch, output_batch = random_batch(batch_size, corpus)\n",
    "    \n",
    "    # to Tensor for embedding purpose\n",
    "    input_tensor = torch.LongTensor(input_batch)   #[batch_size, 1]\n",
    "    output_tensor = torch.LongTensor(output_batch) #[batch_size, 1]\n",
    "    \n",
    "    # train\n",
    "    skipgram_optimizer.zero_grad()\n",
    "    loss = skipgram_model(input_tensor, output_tensor, all_vocabs)\n",
    "    \n",
    "    # update loss\n",
    "    loss.backward()\n",
    "    skipgram_optimizer.step()\n",
    "    \n",
    "    # record the end time\n",
    "    end = time.time()\n",
    "    \n",
    "    epoch_mins, epoch_secs = epoch_time(start, end)\n",
    "    \n",
    "    if (epoch+1) % 1000 == 0:\n",
    "        print(f\"Epoch: {epoch+1} | loss: {loss:.6f} | time: {epoch_mins}m {epoch_secs}s\")"
   ]
  },
  {
   "cell_type": "markdown",
   "metadata": {},
   "source": [
    "## 5.Plotting the embeddings"
   ]
  },
  {
   "cell_type": "code",
   "execution_count": 27,
   "metadata": {},
   "outputs": [],
   "source": [
    "# function to get the embedding given a word\n",
    "def get_embed(word):\n",
    "    id_tensor = torch.LongTensor([word2index[word]])\n",
    "    c_embed = skipgram_model.embedding_center(id_tensor)\n",
    "    o_embed = skipgram_model.embedding_outside(id_tensor)\n",
    "    word_embed = (c_embed + o_embed) / 2\n",
    "    x,y = word_embed[0][0].item(), word_embed[0][1].item()\n",
    "    \n",
    "    return x,y"
   ]
  },
  {
   "cell_type": "code",
   "execution_count": 29,
   "metadata": {},
   "outputs": [
    {
     "data": {
      "image/png": "[encoded data removed]",
      "text/plain": [
       "<Figure size 600x300 with 1 Axes>"
      ]
     },
     "metadata": {},
     "output_type": "display_data"
    }
   ],
   "source": [
    "plt.figure(figsize=(6,3))\n",
    "\n",
    "# loop each unique vocab\n",
    "for i, word in enumerate(vocab):\n",
    "    x,y = get_embed(word)\n",
    "    plt.scatter(x,y)\n",
    "    # plt.annotate(word, xy=(x,y), xytest =(5,2), textcoords='offset points')\n",
    "    plt.annotate(word, xy = (x,y), xytext = (5,2), textcoords='offset points')\n",
    "    \n",
    "plt.show()\n",
    "    "
   ]
  },
  {
   "cell_type": "markdown",
   "metadata": {},
   "source": [
    "## 6.Cosine similarity"
   ]
  },
  {
   "cell_type": "markdown",
   "metadata": {},
   "source": []
  }
 ],
 "metadata": {
  "kernelspec": {
   "display_name": "Python 3",
   "language": "python",
   "name": "python3"
  },
  "language_info": {
   "codemirror_mode": {
    "name": "ipython",
    "version": 3
   },
   "file_extension": ".py",
   "mimetype": "text/x-python",
   "name": "python",
   "nbconvert_exporter": "python",
   "pygments_lexer": "ipython3",
   "version": "3.11.4"
  }
 },
 "nbformat": 4,
 "nbformat_minor": 2
}
