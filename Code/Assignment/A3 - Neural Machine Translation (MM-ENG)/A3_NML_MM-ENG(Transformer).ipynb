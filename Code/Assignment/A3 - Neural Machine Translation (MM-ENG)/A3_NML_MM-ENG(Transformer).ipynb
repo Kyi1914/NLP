{
 "cells": [
  {
   "cell_type": "markdown",
   "metadata": {},
   "source": [
    "# A3 - Neural Machine Translation (Myanmar to English)"
   ]
  },
  {
   "cell_type": "code",
   "execution_count": 1,
   "metadata": {},
   "outputs": [],
   "source": [
    "import torch\n",
    "import torch.nn as nn\n",
    "import torch.optim as optim\n",
    "# import torch.optim as optim\n",
    "import torchtext, datasets, math\n",
    "from tqdm import tqdm # progress bar\n",
    "import pickle\n",
    "import random\n",
    "import time\n",
    "import torch.nn.functional as F\n",
    "import matplotlib.pyplot as plt"
   ]
  },
  {
   "cell_type": "code",
   "execution_count": 2,
   "metadata": {},
   "outputs": [
    {
     "name": "stdout",
     "output_type": "stream",
     "text": [
      "cpu\n"
     ]
    }
   ],
   "source": [
    "device = torch.device ('cuda' if torch.cuda.is_available() else 'cpu')\n",
    "print (device)"
   ]
  },
  {
   "cell_type": "markdown",
   "metadata": {},
   "source": [
    "## 1. ETL: Load Data"
   ]
  },
  {
   "cell_type": "code",
   "execution_count": 3,
   "metadata": {},
   "outputs": [],
   "source": [
    "from datasets import load_dataset"
   ]
  },
  {
   "cell_type": "code",
   "execution_count": 4,
   "metadata": {},
   "outputs": [
    {
     "data": {
      "application/vnd.jupyter.widget-view+json": {
       "model_id": "641077c3ddfe420fba4fe806071c1761",
       "version_major": 2,
       "version_minor": 0
      },
      "text/plain": [
       "Downloading data:   0%|          | 0.00/31.2M [00:00<?, ?B/s]"
      ]
     },
     "metadata": {},
     "output_type": "display_data"
    },
    {
     "data": {
      "application/vnd.jupyter.widget-view+json": {
       "model_id": "71317fb076c349f48559c6b49e684471",
       "version_major": 2,
       "version_minor": 0
      },
      "text/plain": [
       "Downloading data:   0%|          | 0.00/1.71M [00:00<?, ?B/s]"
      ]
     },
     "metadata": {},
     "output_type": "display_data"
    },
    {
     "data": {
      "application/vnd.jupyter.widget-view+json": {
       "model_id": "2503e2c64ba74f47b2d212f7e7d29585",
       "version_major": 2,
       "version_minor": 0
      },
      "text/plain": [
       "Downloading data:   0%|          | 0.00/1.79M [00:00<?, ?B/s]"
      ]
     },
     "metadata": {},
     "output_type": "display_data"
    },
    {
     "data": {
      "application/vnd.jupyter.widget-view+json": {
       "model_id": "17e4f39d7883421c914fc169f89ed771",
       "version_major": 2,
       "version_minor": 0
      },
      "text/plain": [
       "Generating train split:   0%|          | 0/18088 [00:00<?, ? examples/s]"
      ]
     },
     "metadata": {},
     "output_type": "display_data"
    },
    {
     "data": {
      "application/vnd.jupyter.widget-view+json": {
       "model_id": "36a3b63d55734b3fa6aa42c58b035985",
       "version_major": 2,
       "version_minor": 0
      },
      "text/plain": [
       "Generating validation split:   0%|          | 0/1000 [00:00<?, ? examples/s]"
      ]
     },
     "metadata": {},
     "output_type": "display_data"
    },
    {
     "data": {
      "application/vnd.jupyter.widget-view+json": {
       "model_id": "e061dffb08134f458f6073a0c7e250a6",
       "version_major": 2,
       "version_minor": 0
      },
      "text/plain": [
       "Generating test split:   0%|          | 0/1019 [00:00<?, ? examples/s]"
      ]
     },
     "metadata": {},
     "output_type": "display_data"
    }
   ],
   "source": [
    "dataset = load_dataset('alt')"
   ]
  },
  {
   "cell_type": "code",
   "execution_count": 6,
   "metadata": {},
   "outputs": [
    {
     "data": {
      "text/plain": [
       "DatasetDict({\n",
       "    train: Dataset({\n",
       "        features: ['SNT.URLID', 'SNT.URLID.SNTID', 'url', 'translation'],\n",
       "        num_rows: 18088\n",
       "    })\n",
       "    validation: Dataset({\n",
       "        features: ['SNT.URLID', 'SNT.URLID.SNTID', 'url', 'translation'],\n",
       "        num_rows: 1000\n",
       "    })\n",
       "    test: Dataset({\n",
       "        features: ['SNT.URLID', 'SNT.URLID.SNTID', 'url', 'translation'],\n",
       "        num_rows: 1019\n",
       "    })\n",
       "})"
      ]
     },
     "execution_count": 6,
     "metadata": {},
     "output_type": "execute_result"
    }
   ],
   "source": [
    "dataset"
   ]
  },
  {
   "cell_type": "code",
   "execution_count": 7,
   "metadata": {},
   "outputs": [
    {
     "data": {
      "text/plain": [
       "Dataset({\n",
       "    features: ['SNT.URLID', 'SNT.URLID.SNTID', 'url', 'translation'],\n",
       "    num_rows: 18088\n",
       "})"
      ]
     },
     "execution_count": 7,
     "metadata": {},
     "output_type": "execute_result"
    }
   ],
   "source": [
    "dataset['train']"
   ]
  },
  {
   "cell_type": "code",
   "execution_count": null,
   "metadata": {},
   "outputs": [],
   "source": [
    "dataset['train'][12]"
   ]
  },
  {
   "cell_type": "code",
   "execution_count": 9,
   "metadata": {},
   "outputs": [
    {
     "data": {
      "text/plain": [
       "{'bg': 'গতকাল ১৭৩০ ইউটিসি-তে হাউস অফ্\\u200c কমন্\\u200cস্\\u200c-এ ইউকে-র পরিবহন সচিব রুথ কেলি এই তথ্যগুলি দিয়েছেন।',\n",
       " 'en': 'Details were given by the UK Transport Secretary, Ruth Kelly, in the House of Commons at 1730 UTC yesterday.',\n",
       " 'en_tok': 'Details were given by the UK Transport Secretary , Ruth Kelly , in the House of Commons at 1730 UTC yesterday .',\n",
       " 'fil': 'Ang mga detalye ay ibinigay ng UK transport Secretary, na si Ruth Kelly, sa House of Commons sa ika-17:30 UTC kahapon.',\n",
       " 'hi': 'कल ब्रिटेन के परिवहन सचिव रूथ केली द्वारा 1730 UTC पर हाउस ऑफ़ कॉमन्स में विवरण दिए गए।',\n",
       " 'id': 'Detil diberikan oleh Sekretaris Kementerian Transportasi UK, Ruth Kelly, di Dewan Perwakilan Rakyat kemarin 17:30 UTC.',\n",
       " 'ja': '詳細は昨日UTC17時30分、英国議会でイギリスのルス・ケリー運輸大臣によって伝えられた。',\n",
       " 'khm': 'ព័ត៌មានលំអិតត្រូវបានផ្តល់ដោយរដ្ឋមន្ត្រីដឹកជញ្ចូន លោករ៉ូថ ខេលលី នៅក្នុងសភានៅម៉ោង1730ម្សិលមិញ។',\n",
       " 'lo': 'ຂໍ້ມູນໄດ້ຖືກສະໜອງໂດຍ ເລຂາທິການຂົນສົ່ງ ສະຫະລາຊະອານາຈັກ ຣູດ ເຄລີ່ ໃນສະພາຕໍ່າ ທີ່ 1730 UTC ມື້ວານນີ້.',\n",
       " 'ms': 'Butiran telah diberikan oleh Setiausaha Pengangkutan UK, Ruth Kelly, di Dewan Rakyat pada 1730 UTC semalam.',\n",
       " 'my': 'အသေးစိတ်များ ကို မနေ့က ၁၇၃၀ ယူတီစီ ၌ အောက်လွှတ်တော် ရှိ ဗြိတိန်နိုင်ငံ ပို့ဆောင်ရေး အတွင်းရေးမှူး ရုသ်ကယ်လီ က ပေးခဲ့သည် ။',\n",
       " 'th': 'รายละเอียดถูกเปิดเผยโดยเลขาธิการกระทรวงคมนาคมของUK นางRuth Kelly ในสภาสามัญชน เมื่อเวลา17:30 UTC',\n",
       " 'vi': 'Thông tin chi tiết được cung cấp bởi Bộ trưởng Giao thông Anh, Ruth Kelly, tại Hạ nghị viện ngày hôm qua lúc 17:30 theo Giờ Phối hợp Quốc tế.',\n",
       " 'zh': '英国交通大臣露丝·凯利昨天于英国时间17：30分在下议院公布了详细情况。'}"
      ]
     },
     "execution_count": 9,
     "metadata": {},
     "output_type": "execute_result"
    }
   ],
   "source": [
    "dataset['train'][11]['translation']"
   ]
  },
  {
   "cell_type": "code",
   "execution_count": 10,
   "metadata": {},
   "outputs": [
    {
     "data": {
      "text/plain": [
       "'Details were given by the UK Transport Secretary, Ruth Kelly, in the House of Commons at 1730 UTC yesterday.'"
      ]
     },
     "execution_count": 10,
     "metadata": {},
     "output_type": "execute_result"
    }
   ],
   "source": [
    "dataset['train'][11]['translation']['en']"
   ]
  },
  {
   "cell_type": "code",
   "execution_count": 11,
   "metadata": {},
   "outputs": [
    {
     "data": {
      "text/plain": [
       "'အသေးစိတ်များ ကို မနေ့က ၁၇၃၀ ယူတီစီ ၌ အောက်လွှတ်တော် ရှိ ဗြိတိန်နိုင်ငံ ပို့ဆောင်ရေး အတွင်းရေးမှူး ရုသ်ကယ်လီ က ပေးခဲ့သည် ။'"
      ]
     },
     "execution_count": 11,
     "metadata": {},
     "output_type": "execute_result"
    }
   ],
   "source": [
    "dataset['train'][11]['translation']['my']"
   ]
  },
  {
   "cell_type": "markdown",
   "metadata": {},
   "source": [
    "Create a new dataset that will contain only Myanmar language as a target language and English language as a source language."
   ]
  },
  {
   "cell_type": "code",
   "execution_count": 12,
   "metadata": {},
   "outputs": [],
   "source": [
    "datasetENMY = {}\n",
    "\n",
    "# Define source and target languages\n",
    "SRC_LANGUAGE = 'en'  # Source language is English\n",
    "TRG_LANGUAGE = 'my'  # Target language is Myanmar\n",
    "languages   = [SRC_LANGUAGE, TRG_LANGUAGE]\n",
    "\n",
    "for data in dataset:\n",
    "# english myanmar data\n",
    "    datasetENMY[data] = [{lang: row['translation'][lang] for lang in languages} for row in dataset[data]]"
   ]
  },
  {
   "cell_type": "code",
   "execution_count": 13,
   "metadata": {},
   "outputs": [
    {
     "name": "stdout",
     "output_type": "stream",
     "text": [
      "train : 18088\n",
      "validation : 1000\n",
      "test : 1019\n"
     ]
    }
   ],
   "source": [
    "# check the size for each dataset\n",
    "for data in datasetENMY:\n",
    "    print(f\"{data} : {len(datasetENMY[data])}\")"
   ]
  },
  {
   "cell_type": "code",
   "execution_count": 14,
   "metadata": {},
   "outputs": [],
   "source": [
    "sample = datasetENMY['train'][100]"
   ]
  },
  {
   "cell_type": "code",
   "execution_count": 15,
   "metadata": {},
   "outputs": [
    {
     "data": {
      "text/plain": [
       "'The TimesOnline reports that the joke fell flat with Jeffrey Turner, who as Chief of Police in Clayton County, Georgia, put Mr Whitton on medical leave when he was shot in the wrist as he tried to foil a robbery earlier this summer.'"
      ]
     },
     "execution_count": 15,
     "metadata": {},
     "output_type": "execute_result"
    }
   ],
   "source": [
    "sample[SRC_LANGUAGE]"
   ]
  },
  {
   "cell_type": "code",
   "execution_count": 16,
   "metadata": {},
   "outputs": [
    {
     "data": {
      "text/plain": [
       "'ယခု နွေရာသီ အစောပိုင်း ကာလ ၌ လုယက်မှု တစ်ခု ကျူးလွန် ရန် ကြိုးစားခဲ့ သောကြောင့် လက်ကောက်၀တ် တွင် သေနတ်ကျည်မှန်ခဲ့သော မစ်စတာ ၀ှစ်တွန် ကို ကလေတွန် ကောင်တီ ၊ ဂျော်ဂျီယာပြည်နယ် မှ ၊ ရဲမှူးကြီး ဂျက်ဖရီ တာနာ မှ ဆေး ခွင့် ပေးတာနှင့် ပတ်သတ်ပြီး ၊ တိုင်းမ်စ်အွန်လိုင်း မှ ဟာသပြက်လုံးတစ်ခု ကို မှတ်တမ်းတင်ရေးသားခဲ့သည် ။'"
      ]
     },
     "execution_count": 16,
     "metadata": {},
     "output_type": "execute_result"
    }
   ],
   "source": [
    "sample[TRG_LANGUAGE]"
   ]
  },
  {
   "cell_type": "markdown",
   "metadata": {},
   "source": [
    "## 2. Data Preprocessing"
   ]
  },
  {
   "cell_type": "markdown",
   "metadata": {},
   "source": [
    "### 2.1 Tokenization"
   ]
  },
  {
   "cell_type": "code",
   "execution_count": 18,
   "metadata": {},
   "outputs": [],
   "source": [
    "# place holders\n",
    "token_transform = {}\n",
    "vocab_transform = {}"
   ]
  },
  {
   "cell_type": "markdown",
   "metadata": {},
   "source": [
    "##### source language <\"ENG\"> tokenization"
   ]
  },
  {
   "cell_type": "code",
   "execution_count": 19,
   "metadata": {},
   "outputs": [],
   "source": [
    "from torchtext.data.utils import get_tokenizer\n",
    "token_transform[SRC_LANGUAGE] = get_tokenizer('spacy', language = 'en_core_web_sm')"
   ]
  },
  {
   "cell_type": "code",
   "execution_count": 20,
   "metadata": {},
   "outputs": [
    {
     "data": {
      "text/plain": [
       "['The',\n",
       " 'TimesOnline',\n",
       " 'reports',\n",
       " 'that',\n",
       " 'the',\n",
       " 'joke',\n",
       " 'fell',\n",
       " 'flat',\n",
       " 'with',\n",
       " 'Jeffrey',\n",
       " 'Turner',\n",
       " ',',\n",
       " 'who',\n",
       " 'as',\n",
       " 'Chief',\n",
       " 'of',\n",
       " 'Police',\n",
       " 'in',\n",
       " 'Clayton',\n",
       " 'County',\n",
       " ',',\n",
       " 'Georgia',\n",
       " ',',\n",
       " 'put',\n",
       " 'Mr',\n",
       " 'Whitton',\n",
       " 'on',\n",
       " 'medical',\n",
       " 'leave',\n",
       " 'when',\n",
       " 'he',\n",
       " 'was',\n",
       " 'shot',\n",
       " 'in',\n",
       " 'the',\n",
       " 'wrist',\n",
       " 'as',\n",
       " 'he',\n",
       " 'tried',\n",
       " 'to',\n",
       " 'foil',\n",
       " 'a',\n",
       " 'robbery',\n",
       " 'earlier',\n",
       " 'this',\n",
       " 'summer',\n",
       " '.']"
      ]
     },
     "execution_count": 20,
     "metadata": {},
     "output_type": "execute_result"
    }
   ],
   "source": [
    "sample[SRC_LANGUAGE]\n",
    "token_transform[SRC_LANGUAGE](sample[SRC_LANGUAGE])"
   ]
  },
  {
   "cell_type": "markdown",
   "metadata": {},
   "source": [
    "##### Target Language <\"MYR\"> tokenization"
   ]
  },
  {
   "cell_type": "code",
   "execution_count": 21,
   "metadata": {},
   "outputs": [],
   "source": [
    "\"\"\"\n",
    "\n",
    "This code is updated version of this: https://gist.github.com/markdtw/e2a4e2ee7cef8ea6aed33bb47a97fba6\n",
    "Ye Kyaw Thu, LST, NECTEC, Thailand updated followings:\n",
    "-- added recursion limit\n",
    "-- changed P_unigram and P_bigram as module level global variable\n",
    "-- using binary ngram dictionary\n",
    "--  set N value of this: \"def __init__(self, datafile=None, unigram=True, N=102490):\"\n",
    "-- Last Updated: 5 Sept 2021\n",
    "\n",
    "# References:\n",
    "- Python implementation of Viterbi algorithm for word segmentation: \n",
    "- Updated version of this: https://gist.github.com/markdtw/e2a4e2ee7cef8ea6aed33bb47a97fba6\n",
    "- A clean-up of this: http://norvig.com/ngrams/ch14.pdf\n",
    "- For recursion limit: https://www.geeksforgeeks.org/python-handling-recursion-limit/\n",
    "- A. Viterbi, \"Error bounds for convolutional codes and an asymptotically optimum decoding algorithm,\" in IEEE Transactions on Information Theory, vol. 13, no. 2, pp. 260-269, April 1967, doi: 10.1109/TIT.1967.1054010.\n",
    "\n",
    "\"\"\"\n",
    "\n",
    "import math\n",
    "import functools\n",
    "import sys\n",
    "import pickle\n",
    "\n",
    "sys.setrecursionlimit(10**6)\n",
    "\n",
    "uni_dict_bin = './app/data/unigram-word.bin'\n",
    "bi_dict_bin = './app/data/bigram-word.bin'                \n",
    "\n",
    "def read_dict (fileDICT):\n",
    "    try:\n",
    "        with open(fileDICT, 'rb') as input_file:\n",
    "            dictionary = pickle.load(input_file)\n",
    "            input_file.close()\n",
    "    except FileNotFoundError:\n",
    "        print('Dictionary file', fileDICT, ' not found!')\n",
    "    return dictionary\n",
    "\n",
    "class ProbDist(dict):\n",
    "    ### Probability distribution estimated from unigram/bigram data\n",
    "    def __init__(self, datafile=None, unigram=True, N=102490):\n",
    "    #def __init__(self, datafile=None, unigram=True, N=1024908267229):\n",
    "    #def __init__(self, datafile=None, unigram=True, N=8199266137832):\n",
    "        #data = {}\n",
    "        data = read_dict(datafile)\n",
    "        for k, c in data.items():\n",
    "            self[k] = self.get(k, 0) + c\n",
    "\n",
    "        if unigram:\n",
    "            self.unknownprob = lambda k, N: 10 / (N*10**len(k))    # avoid unknown long word\n",
    "        else:\n",
    "            self.unknownprob = lambda k, N: 1 / N\n",
    "\n",
    "        self.N = N\n",
    "\n",
    "    def __call__(self, key):\n",
    "        if key in self:\n",
    "            return self[key]/self.N\n",
    "        else:\n",
    "            return self.unknownprob(key, self.N)\n",
    "        \n",
    "\n",
    "P_unigram = ProbDist(uni_dict_bin, True)\n",
    "P_bigram = ProbDist(bi_dict_bin, False)\n",
    "\n",
    "\n",
    "def conditionalProb(word_curr, word_prev):\n",
    "    ### Conditional probability of current word given the previous word.\n",
    "    try:\n",
    "        return P_bigram[word_prev + ' ' + word_curr]/P_unigram[word_prev]\n",
    "    except KeyError:\n",
    "        return P_unigram(word_curr)\n",
    "\n",
    "\n",
    "@functools.lru_cache(maxsize=2**10)\n",
    "#maxlen=20\n",
    "def viterbi(text, prev='<S>', maxlen=20):\n",
    "    if not text:\n",
    "        return 0.0, []\n",
    "    \n",
    "    #print(\"text: \", text)\n",
    "    textlen = min(len(text), maxlen)\n",
    "    splits = [(text[:i + 1], text[i + 1:]) for i in range(textlen)]\n",
    "\n",
    "    candidates = []\n",
    "    #print(\"clear candidates!  candidates = []\")\n",
    "    for first_word, remain_word in splits:\n",
    "        #pdb.set_trace()\n",
    "        first_prob = math.log10(conditionalProb(first_word, prev))\n",
    "        #print(\"first_prob of condProb(\", first_word, \", \", prev, \"): \", first_prob )\n",
    "        remain_prob, remain_word = viterbi(remain_word, first_word)\n",
    "        #print(\"remain_prob: \", remain_prob, \", remain_word: \", remain_word)\n",
    "        candidates.append((first_prob + remain_prob, [first_word] + remain_word))\n",
    "        #print(\"first_prob: \", str(first_prob), \", remain_prob: \", remain_prob, \", [first_word]:\", [first_word], \", remain_word: \", remain_word)\n",
    "        #print(\"Candidates: \", candidates)\n",
    "        \n",
    "    #print(\"max(candidates): \" + str(max(candidates)))\n",
    "    #print(\"====================\")\n",
    "    return max(candidates)"
   ]
  },
  {
   "cell_type": "code",
   "execution_count": 22,
   "metadata": {},
   "outputs": [],
   "source": [
    "def my_tokenizer(text):\n",
    "    if text is None:\n",
    "        return []\n",
    "    wordDelimiter= '|' # assign local variable delimiter\n",
    "\n",
    "    input      = text[:]\n",
    "    # text     = corpus['train'][0][TRG_LANGUAGE]\n",
    "    listString = viterbi(input.replace(\" \", \"\").strip()) # remove space between words and pass to viterbi()\n",
    "    # print(\"listString: \" + str(listString))\n",
    "    wordStr    = wordDelimiter.join(listString[1])\n",
    "    wordClean1 = wordStr.strip()\n",
    "    wordClean2 = wordClean1.strip(wordDelimiter)    \n",
    "    wordClean2 = wordClean2.split('|')                \n",
    "    return wordClean2"
   ]
  },
  {
   "cell_type": "code",
   "execution_count": 23,
   "metadata": {},
   "outputs": [
    {
     "data": {
      "text/plain": [
       "{'en': 'The TimesOnline reports that the joke fell flat with Jeffrey Turner, who as Chief of Police in Clayton County, Georgia, put Mr Whitton on medical leave when he was shot in the wrist as he tried to foil a robbery earlier this summer.',\n",
       " 'my': 'ယခု နွေရာသီ အစောပိုင်း ကာလ ၌ လုယက်မှု တစ်ခု ကျူးလွန် ရန် ကြိုးစားခဲ့ သောကြောင့် လက်ကောက်၀တ် တွင် သေနတ်ကျည်မှန်ခဲ့သော မစ်စတာ ၀ှစ်တွန် ကို ကလေတွန် ကောင်တီ ၊ ဂျော်ဂျီယာပြည်နယ် မှ ၊ ရဲမှူးကြီး ဂျက်ဖရီ တာနာ မှ ဆေး ခွင့် ပေးတာနှင့် ပတ်သတ်ပြီး ၊ တိုင်းမ်စ်အွန်လိုင်း မှ ဟာသပြက်လုံးတစ်ခု ကို မှတ်တမ်းတင်ရေးသားခဲ့သည် ။'}"
      ]
     },
     "execution_count": 23,
     "metadata": {},
     "output_type": "execute_result"
    }
   ],
   "source": [
    "sample"
   ]
  },
  {
   "cell_type": "code",
   "execution_count": 24,
   "metadata": {},
   "outputs": [],
   "source": [
    "token_transform[TRG_LANGUAGE] = my_tokenizer"
   ]
  },
  {
   "cell_type": "code",
   "execution_count": 25,
   "metadata": {},
   "outputs": [
    {
     "data": {
      "text/plain": [
       "['ယခု',\n",
       " 'နွေရာသီ',\n",
       " 'အစောပိုင်း',\n",
       " 'ကာလ',\n",
       " '၌',\n",
       " 'လုယက်',\n",
       " 'မှု',\n",
       " 'တစ်',\n",
       " 'ခု',\n",
       " 'ကျူးလွန်',\n",
       " 'ရန်',\n",
       " 'ကြိုးစား',\n",
       " 'ခဲ့',\n",
       " 'သော',\n",
       " 'ကြောင့်',\n",
       " 'လက်',\n",
       " 'ကောက်',\n",
       " '၀',\n",
       " 'တ်',\n",
       " 'တွင်',\n",
       " 'သေနတ်ကျည်',\n",
       " 'မှန်',\n",
       " 'ခဲ့',\n",
       " 'သော',\n",
       " 'မ',\n",
       " 'စ်',\n",
       " 'စ',\n",
       " 'တာ',\n",
       " '၀ှစ်',\n",
       " 'တွန်',\n",
       " 'ကို',\n",
       " 'က',\n",
       " 'လေ',\n",
       " 'တွန်',\n",
       " 'ကောင်',\n",
       " 'တီ',\n",
       " '၊',\n",
       " 'ဂျော်ဂျီယာ',\n",
       " 'ပြည်နယ်',\n",
       " 'မှ',\n",
       " '၊',\n",
       " 'ရဲမှူးကြီး',\n",
       " 'ဂျက်',\n",
       " 'ဖရီ',\n",
       " 'တာ',\n",
       " 'နာ',\n",
       " 'မှ',\n",
       " 'ဆေး',\n",
       " 'ခွင့်',\n",
       " 'ပေး',\n",
       " 'တာ',\n",
       " 'နှင့်',\n",
       " 'ပတ်',\n",
       " 'သတ်',\n",
       " 'ပြီး',\n",
       " '၊',\n",
       " 'တိုင်းမ်စ်',\n",
       " 'အွန်လိုင်း',\n",
       " 'မှ',\n",
       " 'ဟာသ',\n",
       " 'ပြက်လုံး',\n",
       " 'တစ်',\n",
       " 'ခု',\n",
       " 'ကို',\n",
       " 'မှတ်တမ်းတင်',\n",
       " 'ရေး',\n",
       " 'သား',\n",
       " 'ခဲ့',\n",
       " 'သည်',\n",
       " '။']"
      ]
     },
     "execution_count": 25,
     "metadata": {},
     "output_type": "execute_result"
    }
   ],
   "source": [
    "token_transform[TRG_LANGUAGE](sample[TRG_LANGUAGE])"
   ]
  },
  {
   "cell_type": "code",
   "execution_count": 26,
   "metadata": {},
   "outputs": [],
   "source": [
    "import copy\n",
    "\n",
    "corpus = copy.deepcopy(datasetENMY)"
   ]
  },
  {
   "cell_type": "markdown",
   "metadata": {},
   "source": [
    "### 2.2 Numericalization"
   ]
  },
  {
   "cell_type": "code",
   "execution_count": 27,
   "metadata": {},
   "outputs": [],
   "source": [
    "# Define special symbols and indices\n",
    "UNK_IDX, PAD_IDX, SOS_IDX, EOS_IDX = 0, 1, 2, 3\n",
    "\n",
    "# make sure the tockens are in order of their indices to properly insert them in vocab\n",
    "special_symbols = ['<unk>', '<pad>', '<sos>', '<eos>']"
   ]
  },
  {
   "cell_type": "code",
   "execution_count": 28,
   "metadata": {},
   "outputs": [],
   "source": [
    "# helper function to yield list of tokens\n",
    "# here data can be 'train' or 'val' or 'test' \n",
    "def yield_tokens(data, language):\n",
    "    # language_index = {SRC_LANGUAGE: 0, TRG_LANGUAGE:1}\n",
    "    \n",
    "    for data_sample in data:\n",
    "        yield token_transform[language](data_sample[language])\n",
    "        # either first or second index"
   ]
  },
  {
   "cell_type": "code",
   "execution_count": 29,
   "metadata": {},
   "outputs": [],
   "source": [
    "# stop: use vocab data instead of running the vocab_transform each loop; it takes 30 mins to run"
   ]
  },
  {
   "cell_type": "code",
   "execution_count": 30,
   "metadata": {},
   "outputs": [],
   "source": [
    "# note: for the first time you may need to run this block and save the vocab.\n",
    "#       next time just need to use the vocab.pkl\n",
    "\n",
    "# from torchtext.vocab import build_vocab_from_iterator\n",
    "\n",
    "# for ln in [SRC_LANGUAGE, TRG_LANGUAGE]:\n",
    "#     # Create torchtext's Vocab object \n",
    "#     vocab_transform[ln] = build_vocab_from_iterator(yield_tokens(corpus['train'], ln), \n",
    "#                                                     min_freq = 2,   # if not, everything will be treated as UNK\n",
    "#                                                     specials = special_symbols,\n",
    "#                                                     special_first = True) # indicates whether to insert symbols at the beginning or at the end                                            \n",
    "# # Set UNK_IDX as the default index. This index is returned when the token is not found. \n",
    "# # If not set, it throws RuntimeError when the queried token is not found in the Vocabulary. \n",
    "# for ln in [SRC_LANGUAGE, TRG_LANGUAGE]:\n",
    "#     vocab_transform[ln].set_default_index(UNK_IDX)"
   ]
  },
  {
   "cell_type": "code",
   "execution_count": 31,
   "metadata": {},
   "outputs": [],
   "source": [
    "# # save the vocab\n",
    "# import pickle\n",
    "# pickle.dump(vocab_transform, open('./app/data/vocab.pkl', 'wb'))"
   ]
  },
  {
   "cell_type": "code",
   "execution_count": 32,
   "metadata": {},
   "outputs": [],
   "source": [
    "# start here: load vocab "
   ]
  },
  {
   "cell_type": "code",
   "execution_count": 33,
   "metadata": {},
   "outputs": [],
   "source": [
    "# load the vocab\n",
    "vocab_transform = pickle.load(open('./app/data/vocab.pkl', 'rb'))"
   ]
  },
  {
   "cell_type": "code",
   "execution_count": 34,
   "metadata": {},
   "outputs": [
    {
     "data": {
      "text/plain": [
       "14"
      ]
     },
     "execution_count": 34,
     "metadata": {},
     "output_type": "execute_result"
    }
   ],
   "source": [
    "vocab_transform['my']['သူ']"
   ]
  },
  {
   "cell_type": "code",
   "execution_count": 35,
   "metadata": {},
   "outputs": [
    {
     "data": {
      "text/plain": [
       "153"
      ]
     },
     "execution_count": 35,
     "metadata": {},
     "output_type": "execute_result"
    }
   ],
   "source": [
    "vocab_transform['en']['she']"
   ]
  },
  {
   "cell_type": "markdown",
   "metadata": {},
   "source": [
    "## 3. Prepare the Data Loader"
   ]
  },
  {
   "cell_type": "code",
   "execution_count": 36,
   "metadata": {},
   "outputs": [],
   "source": [
    "from torch.nn.utils.rnn import pad_sequence\n",
    "from torch.utils.data import DataLoader\n",
    "\n",
    "BATCH_SIZE = 64\n",
    "\n",
    "# helper function to club together sequential operations\n",
    "def sequential_transforms(*transforms):\n",
    "    def func(txt_input):\n",
    "        for transform in transforms:\n",
    "            txt_input = transform(txt_input)\n",
    "        return txt_input\n",
    "    return func\n",
    "\n",
    "# function to add BOS/EOS and create tensor for input sequence indices\n",
    "def tensor_transform(token_ids):\n",
    "    return torch.cat((torch.tensor([SOS_IDX]), \n",
    "                      torch.tensor(token_ids), \n",
    "                      torch.tensor([EOS_IDX])))\n",
    "\n",
    "# src and trg language text transforms to convert raw strings into tensors indices\n",
    "text_transform = {}\n",
    "for ln in [SRC_LANGUAGE, TRG_LANGUAGE]:\n",
    "    text_transform[ln] = sequential_transforms(token_transform[ln], # Tokenization\n",
    "                                               vocab_transform[ln], # Numericalization\n",
    "                                               tensor_transform)    # Add BOS/EOS and create tensor\n",
    "\n",
    "# function to collate data samples into batch tesors\n",
    "def collate_batch(batch):\n",
    "    src_batch, src_len_batch, trg_batch = [], [], []\n",
    "    for row in batch:\n",
    "        processed_text = text_transform[SRC_LANGUAGE](row[SRC_LANGUAGE].rstrip(\"\\n\"))\n",
    "        src_batch.append(processed_text)\n",
    "        trg_batch.append(text_transform[TRG_LANGUAGE](row[TRG_LANGUAGE].rstrip(\"\\n\")))\n",
    "        src_len_batch.append(processed_text.size(0))\n",
    "\n",
    "    src_batch = pad_sequence(src_batch, padding_value=PAD_IDX, batch_first = True) #<----need this because we use linear layers mostly\n",
    "    trg_batch = pad_sequence(trg_batch, padding_value=PAD_IDX, batch_first = True)\n",
    "    return src_batch, torch.tensor(src_len_batch, dtype = torch.int64), trg_batch"
   ]
  },
  {
   "cell_type": "code",
   "execution_count": 37,
   "metadata": {},
   "outputs": [],
   "source": [
    "batch_size = 64\n",
    "\n",
    "train_loader = DataLoader(corpus['train'][:1000], batch_size = batch_size, shuffle = True , collate_fn = collate_batch)\n",
    "valid_loader = DataLoader(corpus['validation'][:100]  , batch_size = batch_size, shuffle = False, collate_fn = collate_batch)\n",
    "test_loader  = DataLoader(corpus['test'][:100] , batch_size = batch_size, shuffle = False, collate_fn = collate_batch)"
   ]
  },
  {
   "cell_type": "code",
   "execution_count": 38,
   "metadata": {},
   "outputs": [],
   "source": [
    "for en, _, my in train_loader:\n",
    "    break"
   ]
  },
  {
   "cell_type": "code",
   "execution_count": 39,
   "metadata": {},
   "outputs": [
    {
     "name": "stdout",
     "output_type": "stream",
     "text": [
      "English shape: torch.Size([64, 53])\n",
      "Myanmar shpae torch.Size([64, 121])\n"
     ]
    }
   ],
   "source": [
    "print(\"English shape:\", en.shape)\n",
    "print(\"Myanmar shpae\", my.shape)"
   ]
  },
  {
   "cell_type": "markdown",
   "metadata": {},
   "source": [
    "## 4. Design the Model"
   ]
  },
  {
   "cell_type": "markdown",
   "metadata": {},
   "source": [
    "### Encoder Layer"
   ]
  },
  {
   "cell_type": "code",
   "execution_count": 40,
   "metadata": {},
   "outputs": [],
   "source": [
    "class EncoderLayer(nn.Module):\n",
    "    def __init__(self, hid_dim, n_heads, pf_dim, dropout, device, attention):\n",
    "        super().__init__()\n",
    "        \n",
    "        # Layer normalization for self-attention and feedforward layers\n",
    "        self.self_attn_layer_norm = nn.LayerNorm(hid_dim)\n",
    "        self.ff_layer_norm        = nn.LayerNorm(hid_dim)\n",
    "        \n",
    "        # Multi-head self-attention layer\n",
    "        self.self_attention       = attention(hid_dim, n_heads, dropout, device)\n",
    "        # self.self_attention       = MultiheadAttention(hid_dim, n_heads, dropout, device, energy)\n",
    "        \n",
    "        # Position-wise feedforward layer\n",
    "        self.feedforward          = PositionwiseFeedforwardLayer(hid_dim, pf_dim, dropout)\n",
    "        \n",
    "        # Dropout layer for regularization\n",
    "        self.dropout              = nn.Dropout(dropout)\n",
    "        \n",
    "    def forward(self, src, src_mask):\n",
    "        #src = [batch size, src len, hid dim]\n",
    "        #src_mask = [batch size, 1, 1, src len]   #if the token is padding, it will be 1, otherwise 0\n",
    "        \n",
    "        # Multi-head self-attention\n",
    "        _src, _ = self.self_attention(src, src, src, src_mask)\n",
    "        # normalized\n",
    "        src     = self.self_attn_layer_norm(src + self.dropout(_src))\n",
    "        #src: [batch_size, src len, hid dim]\n",
    "        \n",
    "        # Position-wise feedforward\n",
    "        _src    = self.feedforward(src)\n",
    "        src     = self.ff_layer_norm(src + self.dropout(_src))\n",
    "        #src: [batch_size, src len, hid dim]\n",
    "        \n",
    "        return src"
   ]
  },
  {
   "cell_type": "markdown",
   "metadata": {},
   "source": [
    "### Encoder"
   ]
  },
  {
   "cell_type": "code",
   "execution_count": 41,
   "metadata": {},
   "outputs": [],
   "source": [
    "class Encoder(nn.Module):\n",
    "    def __init__(self, input_dim, hid_dim, n_layers, n_heads, pf_dim, dropout, device, attention, max_length = 1000):\n",
    "        super().__init__()\n",
    "        self.device = device\n",
    "        self.tok_embedding = nn.Embedding(input_dim, hid_dim)\n",
    "        self.pos_embedding = nn.Embedding(max_length, hid_dim)\n",
    "        self.layers        = nn.ModuleList([EncoderLayer(hid_dim, n_heads, pf_dim, dropout, device, attention)\n",
    "                                           for _ in range(n_layers)])\n",
    "        self.dropout       = nn.Dropout(dropout)\n",
    "        self.scale         = torch.sqrt(torch.FloatTensor([hid_dim])).to(self.device)\n",
    "        \n",
    "    def forward(self, src, src_mask):\n",
    "        \n",
    "        #src = [batch size, src len]\n",
    "        #src_mask = [batch size, 1, 1, src len]\n",
    "        \n",
    "        batch_size = src.shape[0]\n",
    "        src_len    = src.shape[1]\n",
    "        \n",
    "        pos        = torch.arange(0, src_len).unsqueeze(0).repeat(batch_size, 1).to(self.device)\n",
    "        #pos: [batch_size, src_len]\n",
    "        \n",
    "        src        = self.dropout((self.tok_embedding(src) * self.scale) + self.pos_embedding(pos))\n",
    "        #src: [batch_size, src_len, hid_dim]\n",
    "        \n",
    "        for layer in self.layers:\n",
    "            src = layer(src, src_mask)\n",
    "        #src: [batch_size, src_len, hid_dim]\n",
    "        \n",
    "        return src"
   ]
  },
  {
   "cell_type": "markdown",
   "metadata": {},
   "source": [
    "### Multi-Head Attention"
   ]
  },
  {
   "cell_type": "markdown",
   "metadata": {},
   "source": [
    "#### General Attention"
   ]
  },
  {
   "cell_type": "code",
   "execution_count": 42,
   "metadata": {},
   "outputs": [],
   "source": [
    "class MultiHeadGeneralAttentionLayer(nn.Module):\n",
    "    def __init__(self, hid_dim, n_heads, dropout, device):\n",
    "        super().__init__()\n",
    "        assert hid_dim % n_heads == 0\n",
    "        self.hid_dim  = hid_dim\n",
    "        self.n_heads  = n_heads\n",
    "        self.head_dim = hid_dim // n_heads\n",
    "        \n",
    "        self.fc_q     = nn.Linear(hid_dim, hid_dim)\n",
    "        self.fc_k     = nn.Linear(hid_dim, hid_dim)\n",
    "        self.fc_v     = nn.Linear(hid_dim, hid_dim)\n",
    "        \n",
    "        self.fc_o     = nn.Linear(hid_dim, hid_dim)\n",
    "        \n",
    "        self.dropout  = nn.Dropout(dropout)\n",
    "        \n",
    "        self.scale    = torch.sqrt(torch.FloatTensor([self.head_dim])).to(device)\n",
    "                \n",
    "    def forward(self, query, key, value, mask = None):\n",
    "        # src, src, src, src_mask\n",
    "        # query = [batch size, query len, hid dim]\n",
    "        # key   = [batch size, key len, hid dim]\n",
    "        # value = [batch size, value len, hid dim]\n",
    "        \n",
    "        batch_size = query.shape[0]\n",
    "        \n",
    "        Q = self.fc_q(query)\n",
    "        K = self.fc_k(key)\n",
    "        V = self.fc_v(value)\n",
    "        # Q=K=V: [batch_size, src len, hid_dim]\n",
    "        \n",
    "        Q = Q.view(batch_size, -1, self.n_heads, self.head_dim).permute(0, 2, 1, 3)\n",
    "        K = K.view(batch_size, -1, self.n_heads, self.head_dim).permute(0, 2, 1, 3)\n",
    "        V = V.view(batch_size, -1, self.n_heads, self.head_dim).permute(0, 2, 1, 3)\n",
    "        # Q = [batch_size, n heads, query len, head_dim]\n",
    "        \n",
    "        energy = torch.matmul(Q, K.permute(0, 1, 3, 2)) / self.scale \n",
    "        # Q = [batch_size, n heads, query len, head_dim] @ K = [batch_size, n heads, head_dim, key len]\n",
    "        # energy = [batch_size, n heads, query len, key len]\n",
    "        \n",
    "        # for making attention to padding to 0\n",
    "        if mask is not None:\n",
    "            energy = energy.masked_fill(mask == 0, -1e10)\n",
    "            \n",
    "        attention = torch.softmax(energy, dim = -1)\n",
    "        # attention = [batch_size, n heads, query len, key len]\n",
    "        \n",
    "        x = torch.matmul(self.dropout(attention), V)\n",
    "        # [batch_size, n heads, query len, key len] @ [batch_size, n heads, value len, head_dim]\n",
    "        # x = [batch_size, n heads, query len, head dim]\n",
    "        \n",
    "        x = x.permute(0, 2, 1, 3).contiguous()  #we can perform .view\n",
    "        # x = [batch_size, query len, n heads, head dim]\n",
    "        \n",
    "        x = x.view(batch_size, -1, self.hid_dim)\n",
    "        # x = [batch_size, query len, hid dim]\n",
    "        \n",
    "        x = self.fc_o(x)\n",
    "        # x = [batch_size, query len, hid dim]\n",
    "        \n",
    "        return x, attention"
   ]
  },
  {
   "cell_type": "markdown",
   "metadata": {},
   "source": [
    "#### Additive Attention"
   ]
  },
  {
   "cell_type": "code",
   "execution_count": 43,
   "metadata": {},
   "outputs": [],
   "source": [
    "class MultiHeadAdditiveAttentionLayer(nn.Module):\n",
    "    \n",
    "    def __init__(self, hid_dim, n_heads, dropout, device):\n",
    "        super().__init__()\n",
    "        assert hid_dim % n_heads == 0\n",
    "        self.hid_dim  = hid_dim\n",
    "        self.n_heads  = n_heads\n",
    "        self.head_dim = hid_dim // n_heads\n",
    "        \n",
    "        # input >> Q, K, V\n",
    "        self.fc_q     = nn.Linear(hid_dim, hid_dim)\n",
    "        self.fc_k     = nn.Linear(hid_dim, hid_dim)\n",
    "        self.fc_v     = nn.Linear(hid_dim, hid_dim)\n",
    "        \n",
    "        # for additive v, U, W\n",
    "        self.vv = nn.Linear(self.head_dim, 1, bias = False)\n",
    "        self.W = nn.Linear(self.head_dim, self.head_dim) # for decoder input_ (W2)\n",
    "        self.U = nn.Linear(self.head_dim, self.head_dim)  # for encoder_outputs (W1)\n",
    "        \n",
    "        self.fc_o     = nn.Linear(hid_dim, hid_dim)\n",
    "        \n",
    "        self.dropout  = nn.Dropout(dropout)\n",
    "        \n",
    "        self.scale    = torch.sqrt(torch.FloatTensor([self.head_dim])).to(device)\n",
    "    \n",
    "    def forward(self, query, key, value, mask = None):\n",
    "        \n",
    "        # src, src, src, src_mask\n",
    "        # query = [batch size, query len, hid dim]\n",
    "        # key   = [batch size, key len, hid dim]\n",
    "        # value = [batch size, value len, hid dim]\n",
    "        \n",
    "        batch_size = query.shape[0]\n",
    "        query_len  = query.shape[1]\n",
    "        key_len    = key.shape[1]\n",
    "        \n",
    "        # linear transform for the input\n",
    "        Q = self.fc_q(query)\n",
    "        K = self.fc_k(key)\n",
    "        V = self.fc_v(value)\n",
    "        # Q=K=V: [batch_size, src len, hid_dim]\n",
    "        \n",
    "        # update the size for matrix multiplication\n",
    "        Q = Q.view(batch_size, -1, self.n_heads, self.head_dim).permute(0, 2, 1, 3)\n",
    "        K = K.view(batch_size, -1, self.n_heads, self.head_dim).permute(0, 2, 1, 3)\n",
    "        V = V.view(batch_size, -1, self.n_heads, self.head_dim).permute(0, 2, 1, 3)\n",
    "        # Q = [batch_size, n heads, query len, head_dim]\n",
    "    \n",
    "        Q = Q.view(batch_size, self.n_heads, query_len, 1, self.head_dim)\n",
    "        K = K.view(batch_size, self.n_heads, 1, key_len, self.head_dim)\n",
    "        \n",
    "        # calculate the energy : for additive\n",
    "        energy = (self.vv(torch.tanh(self.W(Q) + self.U(K))) / self.scale).squeeze(4)\n",
    "        # Q = [batch_size, n heads, query len, head_dim] @ K = [batch_size, n heads, head_dim, key len]\n",
    "        # energy = [batch_size, n heads, query len, key len, 1] >> squeeze(4)\n",
    "        # energy = [batch_size, n heads, query len, key len]\n",
    "        \n",
    "        # for making attention to padding to 0\n",
    "        if mask is not None:\n",
    "            energy = energy.masked_fill(mask == 0, -1e10)\n",
    "            \n",
    "        attention = torch.softmax(energy, dim = -1)\n",
    "        # attention = [batch_size, n heads, query len, key len]\n",
    "        \n",
    "        x = torch.matmul(self.dropout(attention), V)\n",
    "        # [batch_size, n heads, query len, key len] @ [batch_size, n heads, value len, head_dim]\n",
    "        # x = [batch_size, n heads, query len, head dim]\n",
    "        \n",
    "        x = x.permute(0, 2, 1, 3).contiguous()  #we can perform .view\n",
    "        # x = [batch_size, query len, n heads, head dim]\n",
    "        \n",
    "        x = x.view(batch_size, -1, self.hid_dim)\n",
    "        # x = [batch_size, query len, hid dim]\n",
    "        \n",
    "        x = self.fc_o(x)\n",
    "        # x = [batch_size, query len, hid dim]\n",
    "        \n",
    "        return x, attention\n",
    "    "
   ]
  },
  {
   "cell_type": "markdown",
   "metadata": {},
   "source": [
    "#### Multiplicative Attention"
   ]
  },
  {
   "cell_type": "code",
   "execution_count": 44,
   "metadata": {},
   "outputs": [],
   "source": [
    "class MultiHeadMultiplicativeAttentionLayer(nn.Module):\n",
    "    \n",
    "    def __init__(self, hid_dim, n_heads, dropout, device):\n",
    "        super().__init__()\n",
    "        assert hid_dim % n_heads == 0\n",
    "        self.hid_dim  = hid_dim\n",
    "        self.n_heads  = n_heads\n",
    "        self.head_dim = hid_dim // n_heads\n",
    "        \n",
    "        self.fc_q     = nn.Linear(hid_dim, hid_dim)\n",
    "        self.fc_k     = nn.Linear(hid_dim, hid_dim)\n",
    "        self.fc_v     = nn.Linear(hid_dim, hid_dim)\n",
    "        \n",
    "        self.W        = nn.Linear(self.head_dim, self.head_dim) # for decoder input_ (note: not the same)\n",
    "        \n",
    "        self.fc_o     = nn.Linear(hid_dim, hid_dim)\n",
    "        \n",
    "        self.dropout  = nn.Dropout(dropout)\n",
    "        \n",
    "        self.scale    = torch.sqrt(torch.FloatTensor([self.head_dim])).to(device)\n",
    "    \n",
    "    def forward(self, query, key, value, mask = None):\n",
    "        # src, src, src, src_mask\n",
    "        # query = [batch size, query len, hid dim]\n",
    "        # key   = [batch size, key len, hid dim]\n",
    "        # value = [batch size, value len, hid dim]\n",
    "        \n",
    "        batch_size = query.shape[0]\n",
    "        \n",
    "        Q = self.fc_q(query)\n",
    "        K = self.fc_k(key)\n",
    "        V = self.fc_v(value)\n",
    "        # Q=K=V: [batch_size, src len, hid_dim]\n",
    "        \n",
    "        # update the size for matrix multiplication\n",
    "        Q = Q.view(batch_size, -1, self.n_heads, self.head_dim).permute(0, 2, 1, 3)\n",
    "        K = K.view(batch_size, -1, self.n_heads, self.head_dim).permute(0, 2, 1, 3)\n",
    "        V = V.view(batch_size, -1, self.n_heads, self.head_dim).permute(0, 2, 1, 3)\n",
    "        # Q = [batch_size, n heads, query len, head_dim]\n",
    "        \n",
    "        # calculate the energy : to fix for multiplicative\n",
    "        energy = torch.matmul(self.W(Q), K.permute(0,1,3,2)) / self.scale # multiplicative attention\n",
    "        # Q = [batch_size, n heads, query len, head_dim] @ K = [batch_size, n heads, head_dim, key len]\n",
    "        # energy = [batch_size, n heads, query len, key len]\n",
    "        \n",
    "        # for making attention to padding to 0\n",
    "        if mask is not None:\n",
    "            energy = energy.masked_fill(mask == 0, -1e10)\n",
    "            \n",
    "        attention = torch.softmax(energy, dim = -1)\n",
    "        # attention = [batch_size, n heads, query len, key len]\n",
    "        \n",
    "        x = torch.matmul(self.dropout(attention), V)\n",
    "        # [batch_size, n heads, query len, key len] @ [batch_size, n heads, value len, head_dim]\n",
    "        # x = [batch_size, n heads, query len, head dim]\n",
    "        \n",
    "        x = x.permute(0, 2, 1, 3).contiguous()  #we can perform .view\n",
    "        # x = [batch_size, query len, n heads, head dim]\n",
    "        \n",
    "        x = x.view(batch_size, -1, self.hid_dim)\n",
    "        # x = [batch_size, query len, hid dim]\n",
    "        \n",
    "        x = self.fc_o(x)\n",
    "        # x = [batch_size, query len, hid dim]\n",
    "        \n",
    "        return x, attention"
   ]
  },
  {
   "cell_type": "markdown",
   "metadata": {},
   "source": [
    "#### Position-wise Feed Forward Layer"
   ]
  },
  {
   "cell_type": "code",
   "execution_count": 45,
   "metadata": {},
   "outputs": [],
   "source": [
    "class PositionwiseFeedforwardLayer(nn.Module):\n",
    "    def __init__(self, hid_dim, pf_dim, dropout):\n",
    "        super().__init__()\n",
    "        self.fc1 = nn.Linear(hid_dim, pf_dim)\n",
    "        self.fc2 = nn.Linear(pf_dim, hid_dim)\n",
    "        self.dropout = nn.Dropout(dropout)\n",
    "        \n",
    "    def forward(self, x):\n",
    "        #x: [batch size, src len, hid dim]\n",
    "        \n",
    "        # Apply the first linear transformation followed by ReLU activation and dropout\n",
    "        x = self.dropout(torch.relu(self.fc1(x)))\n",
    "        # x: [batch size, src len, pf_dim]\n",
    "        \n",
    "        # Apply the second linear transformation\n",
    "        x = self.fc2(x)\n",
    "        # x: [batch size, src len, hid dim]\n",
    "        \n",
    "        return x"
   ]
  },
  {
   "cell_type": "markdown",
   "metadata": {},
   "source": [
    "### Decoder Layer"
   ]
  },
  {
   "cell_type": "code",
   "execution_count": 46,
   "metadata": {},
   "outputs": [],
   "source": [
    "class DecoderLayer(nn.Module):\n",
    "    def __init__(self, hid_dim, n_heads, pf_dim, dropout, device, attention):\n",
    "        super().__init__()\n",
    "        self.self_attn_layer_norm = nn.LayerNorm(hid_dim)\n",
    "        self.enc_attn_layer_norm  = nn.LayerNorm(hid_dim)\n",
    "        self.ff_layer_norm        = nn.LayerNorm(hid_dim)\n",
    "        self.self_attention       = attention(hid_dim, n_heads, dropout, device)\n",
    "        self.encoder_attention    = attention(hid_dim, n_heads, dropout, device)\n",
    "        self.feedforward          = PositionwiseFeedforwardLayer(hid_dim, pf_dim, dropout)\n",
    "        self.dropout              = nn.Dropout(dropout)\n",
    "        \n",
    "    def forward(self, trg, enc_src, trg_mask, src_mask):\n",
    "        \n",
    "        #trg = [batch size, trg len, hid dim]\n",
    "        #enc_src = [batch size, src len, hid dim]\n",
    "        #trg_mask = [batch size, 1, trg len, trg len]\n",
    "        #src_mask = [batch size, 1, 1, src len]\n",
    "        \n",
    "        _trg, _ = self.self_attention(trg, trg, trg, trg_mask)\n",
    "        trg     = self.self_attn_layer_norm(trg + self.dropout(_trg))\n",
    "        #trg = [batch_size, trg len, hid dim]\n",
    "        # print(\"After self-attention:\")\n",
    "        # print(\"trg shape:\", trg.shape)\n",
    "        \n",
    "        _trg, attention = self.encoder_attention(trg, enc_src, enc_src, src_mask)\n",
    "        trg             = self.enc_attn_layer_norm(trg + self.dropout(_trg))\n",
    "        #trg = [batch_size, trg len, hid dim]\n",
    "        #attention = [batch_size, n heads, trg len, src len]\n",
    "        # print(\"After encoder attention:\")\n",
    "        # print(\"trg shape:\", trg.shape)\n",
    "        # print(\"attention shape:\", attention.shape)\n",
    "        \n",
    "        _trg = self.feedforward(trg)\n",
    "        trg  = self.ff_layer_norm(trg + self.dropout(_trg))\n",
    "        #trg = [batch_size, trg len, hid dim]\n",
    "        # print(\"After feedforward:\")\n",
    "        # print(\"trg shape:\", trg.shape)\n",
    "        \n",
    "        return trg, attention"
   ]
  },
  {
   "cell_type": "markdown",
   "metadata": {},
   "source": [
    "### Decoder"
   ]
  },
  {
   "cell_type": "code",
   "execution_count": 47,
   "metadata": {},
   "outputs": [],
   "source": [
    "class Decoder(nn.Module):\n",
    "    def __init__(self, output_dim, hid_dim, n_layers, n_heads, \n",
    "                 pf_dim, dropout, device, attention, max_length = 1000):\n",
    "        super().__init__()\n",
    "        self.device = device\n",
    "        self.tok_embedding = nn.Embedding(output_dim, hid_dim)\n",
    "        self.pos_embedding = nn.Embedding(max_length, hid_dim)\n",
    "        self.layers        = nn.ModuleList([DecoderLayer(hid_dim, n_heads, pf_dim, dropout, device, attention)\n",
    "                                            for _ in range(n_layers)])\n",
    "        self.fc_out        = nn.Linear(hid_dim, output_dim)\n",
    "        self.dropout       = nn.Dropout(dropout)\n",
    "        self.scale         = torch.sqrt(torch.FloatTensor([hid_dim])).to(device)\n",
    "        \n",
    "    def forward(self, trg, enc_src, trg_mask, src_mask):\n",
    "        \n",
    "        #trg = [batch size, trg len]\n",
    "        #enc_src = [batch size, src len, hid dim]\n",
    "        #trg_mask = [batch size, 1, trg len, trg len]\n",
    "        #src_mask = [batch size, 1, 1, src len]\n",
    "        \n",
    "        batch_size = trg.shape[0]\n",
    "        trg_len    = trg.shape[1]\n",
    "        \n",
    "        pos = torch.arange(0, trg_len).unsqueeze(0).repeat(batch_size, 1).to(self.device)\n",
    "        #pos: [batch_size, trg len]\n",
    "        \n",
    "        trg = self.dropout((self.tok_embedding(trg) * self.scale) + self.pos_embedding(pos))\n",
    "        #trg: [batch_size, trg len, hid dim]\n",
    "        # print(\"After embedding:\")\n",
    "        # print(\"trg shape:\", trg.shape)\n",
    "        \n",
    "        for layer in self.layers:\n",
    "            trg, attention = layer(trg, enc_src, trg_mask, src_mask)\n",
    "        # print(\"After decoder layers:\")\n",
    "        # print(\"trg shape:\", trg.shape)\n",
    "        # print(\"attention shape:\", attention.shape)\n",
    "            \n",
    "        #trg: [batch_size, trg len, hid dim]\n",
    "        #attention: [batch_size, n heads, trg len, src len]\n",
    "        \n",
    "        output = self.fc_out(trg)\n",
    "        #output = [batch_size, trg len, output_dim]\n",
    "        # print(\"After fc_out:\")\n",
    "        # print(\"output shape:\", output.shape)\n",
    "        \n",
    "        return output, attention"
   ]
  },
  {
   "cell_type": "markdown",
   "metadata": {},
   "source": [
    "### Seq2Seq"
   ]
  },
  {
   "cell_type": "code",
   "execution_count": 48,
   "metadata": {},
   "outputs": [],
   "source": [
    "class Seq2SeqTransformer(nn.Module):\n",
    "    def __init__(self, encoder, decoder, src_pad_idx, trg_pad_idx, device):\n",
    "        super().__init__()\n",
    "        self.encoder     = encoder\n",
    "        self.decoder     = decoder\n",
    "        self.src_pad_idx = src_pad_idx\n",
    "        self.trg_pad_idx = trg_pad_idx\n",
    "        self.device      = device\n",
    "        \n",
    "    def make_src_mask(self, src):\n",
    "        #src = [batch size, src len]\n",
    "        src_mask = (src != self.src_pad_idx).unsqueeze(1).unsqueeze(2)\n",
    "        #src_mask = [batch size, 1, 1, src len]\n",
    "\n",
    "        return src_mask\n",
    "    \n",
    "    def make_trg_mask(self, trg):\n",
    "        #trg = [batch size, trg len]\n",
    "        trg_pad_mask = (trg != self.trg_pad_idx).unsqueeze(1).unsqueeze(2)\n",
    "        #trg_pad_mask = [batch size, 1, 1, trg len]\n",
    "        \n",
    "        trg_len = trg.shape[1]\n",
    "        \n",
    "        trg_sub_mask = torch.tril(torch.ones((trg_len, trg_len), device = self.device)).bool()\n",
    "        #trg_sub_mask = [trg len, trg len]\n",
    "            \n",
    "        trg_mask = trg_pad_mask & trg_sub_mask\n",
    "        #trg_mask = [batch size, 1, trg len, trg len]\n",
    "        \n",
    "        return trg_mask\n",
    "\n",
    "    def forward(self, src, trg):\n",
    "        #src = [batch size, src len]\n",
    "        #trg = [batch size, trg len]\n",
    "        \n",
    "        src_mask = self.make_src_mask(src)\n",
    "        trg_mask = self.make_trg_mask(trg)\n",
    "        \n",
    "        #src_mask = [batch size, 1, 1, src len]\n",
    "        #trg_mask = [batch size, 1, trg len, trg len]\n",
    "        \n",
    "        enc_src = self.encoder(src, src_mask)\n",
    "        #enc_src = [batch size, src len, hid dim]\n",
    "        \n",
    "        output, attention = self.decoder(trg, enc_src, trg_mask, src_mask)\n",
    "        \n",
    "        #output = [batch size, trg len, output dim]\n",
    "        #attention = [batch size, n heads, trg len, src len]\n",
    "        \n",
    "        return output, attention"
   ]
  },
  {
   "cell_type": "markdown",
   "metadata": {},
   "source": [
    "## 5. Training"
   ]
  },
  {
   "cell_type": "code",
   "execution_count": 49,
   "metadata": {},
   "outputs": [],
   "source": [
    "def initialize_weights(m):\n",
    "    if hasattr(m, 'weight') and m.weight.dim() > 1:\n",
    "        nn.init.xavier_uniform_(m.weight.data)"
   ]
  },
  {
   "cell_type": "markdown",
   "metadata": {},
   "source": [
    "### preparation"
   ]
  },
  {
   "cell_type": "code",
   "execution_count": null,
   "metadata": {},
   "outputs": [],
   "source": [
    "# initialize parameters\n",
    "input_dim   = len(vocab_transform[SRC_LANGUAGE])\n",
    "output_dim  = len(vocab_transform[TRG_LANGUAGE])\n",
    "hid_dim     = 256\n",
    "enc_layers  = 3\n",
    "dec_layers  = 3\n",
    "enc_heads   = 8\n",
    "dec_heads   = 8\n",
    "enc_pf_dim  = 512\n",
    "dec_pf_dim  = 512\n",
    "enc_dropout = 0.1\n",
    "dec_dropout = 0.1\n",
    "\n",
    "SRC_PAD_IDX = PAD_IDX\n",
    "TRG_PAD_IDX = PAD_IDX\n",
    "\n",
    "# Initialize Encoder and Decoder with different attention mechanisms\n",
    "enc_general_attention = Encoder(input_dim, \n",
    "                        hid_dim, \n",
    "                        enc_layers, \n",
    "                        enc_heads, \n",
    "                        enc_pf_dim, \n",
    "                        enc_dropout, \n",
    "                        device,\n",
    "                        attention = MultiHeadGeneralAttentionLayer\n",
    "                        # energy = general\n",
    "                        )\n",
    "dec_general_attention = Decoder(output_dim, \n",
    "                                hid_dim, \n",
    "                                dec_layers, \n",
    "                                dec_heads, \n",
    "                                dec_pf_dim, \n",
    "                                enc_dropout, \n",
    "                                device,\n",
    "                                attention = MultiHeadGeneralAttentionLayer)\n",
    "\n",
    "enc_multiplicative_attention = Encoder(input_dim, hid_dim, enc_layers, enc_heads, enc_pf_dim, enc_dropout, device, attention = MultiHeadMultiplicativeAttentionLayer)\n",
    "dec_multiplicative_attention = Decoder(output_dim, hid_dim, dec_layers, dec_heads, dec_pf_dim, dec_dropout, device, attention = MultiHeadMultiplicativeAttentionLayer)\n",
    "\n",
    "enc_additive_attention       = Encoder(input_dim, hid_dim, enc_layers, enc_heads, enc_pf_dim, enc_dropout, device, attention = MultiHeadAdditiveAttentionLayer)\n",
    "dec_additive_attention       = Decoder(output_dim, hid_dim, dec_layers, dec_heads, dec_pf_dim, dec_dropout, device, attention = MultiHeadAdditiveAttentionLayer)\n",
    "\n",
    "# Create models with different attentions\n",
    "# Optionally, apply weight initialization\n",
    "model_general_attention      = Seq2SeqTransformer(enc_general_attention, dec_general_attention, SRC_PAD_IDX, TRG_PAD_IDX, device).to(device)\n",
    "model_general_attention.apply(initialize_weights)\n",
    "\n",
    "model_additive_attention     = Seq2SeqTransformer(enc_additive_attention, dec_additive_attention, SRC_PAD_IDX, TRG_PAD_IDX, device).to(device)\n",
    "model_additive_attention.apply(initialize_weights)\n",
    "\n",
    "model_multiplicative_attention = Seq2SeqTransformer(enc_multiplicative_attention, dec_multiplicative_attention, SRC_PAD_IDX, TRG_PAD_IDX, device).to(device)\n",
    "model_multiplicative_attention.apply(initialize_weights)"
   ]
  },
  {
   "cell_type": "code",
   "execution_count": 51,
   "metadata": {},
   "outputs": [],
   "source": [
    "all_models = {\n",
    "    'generalAttention': model_general_attention,\n",
    "    'additiveAttention' : model_additive_attention,\n",
    "    'multiplicativeAttention': model_multiplicative_attention\n",
    "    }"
   ]
  },
  {
   "cell_type": "code",
   "execution_count": 52,
   "metadata": {},
   "outputs": [
    {
     "name": "stdout",
     "output_type": "stream",
     "text": [
      "______\n",
      "12914013\n",
      "______\n",
      "12933309\n",
      "______\n",
      "12923517\n"
     ]
    }
   ],
   "source": [
    "# we can print the complexity by the number of parameters\n",
    "def count_parameters(model):\n",
    "    params = [p.numel() for p in model.parameters() if p.requires_grad]\n",
    "    # for item in params:\n",
    "    #     print(f'{item:>6}')\n",
    "    print(f'______\\n{sum(params):>6}')\n",
    "    \n",
    "# count_parameters(model)\n",
    "for i,key in enumerate(all_models):\n",
    "    count_parameters(all_models[key])"
   ]
  },
  {
   "cell_type": "code",
   "execution_count": 53,
   "metadata": {},
   "outputs": [],
   "source": [
    "lr = 0.0005\n",
    "\n",
    "optimizer_general_attention = optim.Adam(model_general_attention.parameters(), lr=lr)\n",
    "criterion_general_attention = nn.CrossEntropyLoss(ignore_index=TRG_PAD_IDX)\n",
    "\n",
    "optimizer_multiplicative_attention = optim.Adam(model_multiplicative_attention.parameters(), lr=lr)\n",
    "criterion_multiplicative_attention = nn.CrossEntropyLoss(ignore_index=TRG_PAD_IDX)\n",
    "\n",
    "optimizer_additive_attention = optim.Adam(model_additive_attention.parameters(), lr=lr)\n",
    "criterion_additive_attention = nn.CrossEntropyLoss(ignore_index=TRG_PAD_IDX)"
   ]
  },
  {
   "cell_type": "markdown",
   "metadata": {},
   "source": [
    "### training"
   ]
  },
  {
   "cell_type": "code",
   "execution_count": 54,
   "metadata": {},
   "outputs": [],
   "source": [
    "def train(model, loader, optimizer, criterion, clip, loader_length):\n",
    "    \n",
    "    model.train()\n",
    "    \n",
    "    epoch_loss = 0\n",
    "    \n",
    "    for src, src_len, trg in loader:\n",
    "        \n",
    "        src = src.to(device)\n",
    "        trg = trg.to(device)\n",
    "        \n",
    "        optimizer.zero_grad()\n",
    "        \n",
    "        #trg[:, :-1] remove the eos, e.g., \"<sos> I love sushi\" since teaching forcing, the input does not need to have eos\n",
    "        output, _ = model(src, trg[:,:-1])\n",
    "                \n",
    "        #output = [batch size, trg len - 1, output dim]\n",
    "        #trg    = [batch size, trg len]\n",
    "            \n",
    "        output_dim = output.shape[-1]\n",
    "            \n",
    "        output = output.reshape(-1, output_dim)\n",
    "        trg = trg[:,1:].reshape(-1) #trg[:, 1:] remove the sos, e.g., \"i love sushi <eos>\" since in teaching forcing, the output does not have sos\n",
    "                \n",
    "        #output = [batch size * trg len - 1, output dim]\n",
    "        #trg    = [batch size * trg len - 1]\n",
    "            \n",
    "        loss = criterion(output, trg)\n",
    "        \n",
    "        loss.backward()\n",
    "        \n",
    "        torch.nn.utils.clip_grad_norm_(model.parameters(), clip)\n",
    "        \n",
    "        optimizer.step()\n",
    "        \n",
    "        epoch_loss += loss.item()\n",
    "        \n",
    "    return epoch_loss / loader_length"
   ]
  },
  {
   "cell_type": "code",
   "execution_count": 55,
   "metadata": {},
   "outputs": [],
   "source": [
    "def evaluate(model, loader, criterion, loader_length):\n",
    "    \n",
    "    model.eval()\n",
    "    \n",
    "    epoch_loss = 0\n",
    "    \n",
    "    with torch.no_grad():\n",
    "    \n",
    "        for src, src_len, trg in loader:\n",
    "        \n",
    "            src = src.to(device)\n",
    "            trg = trg.to(device)\n",
    "\n",
    "            output, _ = model(src, trg[:,:-1])\n",
    "            \n",
    "            #output = [batch size, trg len - 1, output dim]\n",
    "            #trg = [batch size, trg len]\n",
    "            \n",
    "            output_dim = output.shape[-1]\n",
    "            \n",
    "            output = output.contiguous().view(-1, output_dim)\n",
    "            trg = trg[:,1:].contiguous().view(-1)\n",
    "            \n",
    "            #output = [batch size * trg len - 1, output dim]\n",
    "            #trg = [batch size * trg len - 1]\n",
    "            \n",
    "            loss = criterion(output, trg)\n",
    "\n",
    "            epoch_loss += loss.item()\n",
    "        \n",
    "    return epoch_loss / loader_length"
   ]
  },
  {
   "cell_type": "code",
   "execution_count": 56,
   "metadata": {},
   "outputs": [],
   "source": [
    "train_loader_length = len(train_loader)\n",
    "val_loader_length   = len(valid_loader)\n",
    "test_loader_length  = len(test_loader)"
   ]
  },
  {
   "cell_type": "code",
   "execution_count": 57,
   "metadata": {},
   "outputs": [],
   "source": [
    "# time calculation function\n",
    "def epoch_time(start_time, end_time):\n",
    "    elapsed_time = end_time - start_time\n",
    "    elapsed_mins = int(elapsed_time / 60)\n",
    "    elapsed_secs = int(elapsed_time - (elapsed_mins * 60))\n",
    "    return elapsed_mins, elapsed_secs"
   ]
  },
  {
   "cell_type": "code",
   "execution_count": 58,
   "metadata": {},
   "outputs": [],
   "source": [
    "# for model training\n",
    "\n",
    "# to store the model training records for each model\n",
    "training_records = {}\n",
    "\n",
    "def train_model(model, optimizer, criterion, model_name):\n",
    "    \n",
    "    best_valid_loss = float('inf')\n",
    "    best_train_loss = float('inf')\n",
    "    best_valid_PPL  = float('inf')\n",
    "    best_train_PPL  = float('inf')\n",
    "    \n",
    "    num_epochs = 10\n",
    "    clip       = 1\n",
    "\n",
    "    save_path = f'app/models/{model_name}.pt'\n",
    "\n",
    "    train_losses = []\n",
    "    valid_losses = []\n",
    "    \n",
    "    start = time.time()\n",
    "\n",
    "    for epoch in range(num_epochs):\n",
    "        \n",
    "        start_time = time.time()\n",
    "\n",
    "        train_loss = train(model, train_loader, optimizer, criterion, clip, train_loader_length)\n",
    "        valid_loss = evaluate(model, valid_loader, criterion, val_loader_length)\n",
    "        \n",
    "        #for plotting\n",
    "        train_losses.append(train_loss)\n",
    "        valid_losses.append(valid_loss)\n",
    "        \n",
    "        end_time = time.time()\n",
    "        \n",
    "        epoch_mins, epoch_secs = epoch_time(start_time, end_time)\n",
    "        \n",
    "        if valid_loss < best_valid_loss:\n",
    "            best_valid_loss = valid_loss\n",
    "            best_valid_PPL = math.exp(valid_loss)\n",
    "            best_train_loss = train_loss\n",
    "            best_train_PPL  = math.exp(train_loss)\n",
    "            torch.save(model.state_dict(), save_path)\n",
    "        \n",
    "        # print(f'Epoch: {epoch+1:02} | Time: {epoch_mins}m {epoch_secs}s')\n",
    "        # print(f'\\tTrain Loss: {train_loss:.3f} | Train PPL: {math.exp(train_loss):7.3f}')\n",
    "        # print(f'\\t Val. Loss: {valid_loss:.3f} |  Val. PPL: {math.exp(valid_loss):7.3f}')\n",
    "        \n",
    "    end = time.time()\n",
    "    total_mins, total_secs = epoch_time(start, end)\n",
    "    \n",
    "    # save the records\n",
    "    training_records[model_name] = {'train_losses'   : train_losses,\n",
    "                               'valid_losses'   : valid_losses,\n",
    "                               'best_train_loss': best_train_loss,\n",
    "                               'best_train_PPL' : best_train_PPL,\n",
    "                               'best_valid_loss': best_valid_loss,\n",
    "                               'best_valid_PPL' : best_valid_PPL,\n",
    "                               'total_mins'     : total_mins,\n",
    "                               'total_secs'     : total_secs}\n",
    "    \n",
    "    print(f\"Time: {total_mins}m ,{total_secs}s\")\n",
    "    print(f'\\tLast epoch Train Loss: {train_loss:.3f} | Train PPL: {math.exp(train_loss):7.3f}')\n",
    "    print(f'\\tLast epoch Val. Loss: {valid_loss:.3f} |  Val. PPL: {math.exp(valid_loss):7.3f}')"
   ]
  },
  {
   "cell_type": "markdown",
   "metadata": {},
   "source": [
    "### train model"
   ]
  },
  {
   "cell_type": "code",
   "execution_count": 59,
   "metadata": {},
   "outputs": [
    {
     "name": "stdout",
     "output_type": "stream",
     "text": [
      "Time: 18m ,20s\n",
      "\tLast epoch Train Loss: 3.953 | Train PPL:  52.066\n",
      "\tLast epoch Val. Loss: 5.248 |  Val. PPL: 190.248\n"
     ]
    }
   ],
   "source": [
    "# train_model(model, optimizer, criterion)\n",
    "\n",
    "# general attention\n",
    "train_model (model_general_attention, optimizer_general_attention, criterion_general_attention, \"generalAttention\")"
   ]
  },
  {
   "cell_type": "code",
   "execution_count": 60,
   "metadata": {},
   "outputs": [
    {
     "name": "stdout",
     "output_type": "stream",
     "text": [
      "Time: 88m ,25s\n",
      "\tLast epoch Train Loss: 3.939 | Train PPL:  51.362\n",
      "\tLast epoch Val. Loss: 5.244 |  Val. PPL: 189.355\n"
     ]
    }
   ],
   "source": [
    "# additive attention\n",
    "train_model (model_additive_attention, optimizer_additive_attention, criterion_additive_attention, \"additiveAttention\")"
   ]
  },
  {
   "cell_type": "code",
   "execution_count": 61,
   "metadata": {},
   "outputs": [
    {
     "name": "stdout",
     "output_type": "stream",
     "text": [
      "Time: 17m ,1s\n",
      "\tLast epoch Train Loss: 3.974 | Train PPL:  53.211\n",
      "\tLast epoch Val. Loss: 5.302 |  Val. PPL: 200.830\n"
     ]
    }
   ],
   "source": [
    "# multiplicative attention\n",
    "train_model (model_multiplicative_attention, optimizer_multiplicative_attention, criterion_additive_attention, \"multiplicativeAttention\")"
   ]
  },
  {
   "cell_type": "code",
   "execution_count": null,
   "metadata": {},
   "outputs": [],
   "source": [
    "# for i,key in enumerate(all_models):\n",
    "#     # fn_plot(training_records[key]['train_losses'], training_records[key]['valid_losses'],key)\n",
    "#     print(f\"=== {key} ===\")\n",
    "#     print(f\"{training_records[key]['best_train_loss']:.2f}\")\n",
    "#     print(f\"{training_records[key]['best_train_PPL']:.2f}\")\n",
    "#     print(f\"{training_records[key]['best_valid_loss']:.2f}\")\n",
    "#     print(f\"{training_records[key]['best_valid_PPL']:.2f}\")"
   ]
  },
  {
   "cell_type": "markdown",
   "metadata": {},
   "source": [
    "##### Comparison table\n",
    "<table>\n",
    "    <tr>\n",
    "        <th>Attentions</th>\n",
    "        <th>Training Loss</th>\n",
    "        <th>Training PPL</th>\n",
    "        <th>Validation Loss</th>\n",
    "        <th>Validation PPL</th>\n",
    "    </tr>\n",
    "    <tr>\n",
    "        <th>Attentions</th>\n",
    "        <td>3.95</td>\n",
    "        <td>52.07</td>\n",
    "        <td>5.25</td>\n",
    "        <td>190.25</td>\n",
    "    </tr>\n",
    "    <tr>\n",
    "        <th>Additive Attentions</th>\n",
    "        <td>3.94</td>\n",
    "        <td>51.36</td>\n",
    "        <td>5.24</td>\n",
    "        <td>189.36</td>\n",
    "    </tr>\n",
    "    <tr>\n",
    "        <th>Multiplicative Attentions</th>\n",
    "        <td>4.17</td>\n",
    "        <td>64.58</td>\n",
    "        <td>5.29</td>\n",
    "        <td>197.79</td>\n",
    "    </tr>\n",
    "</table>"
   ]
  },
  {
   "cell_type": "markdown",
   "metadata": {},
   "source": [
    "### plotting"
   ]
  },
  {
   "cell_type": "code",
   "execution_count": 62,
   "metadata": {},
   "outputs": [],
   "source": [
    "# plotting fn\n",
    "def fn_plot(train_losses, valid_losses,model):\n",
    "    fig = plt.figure(figsize=(5, 3))\n",
    "    ax = fig.add_subplot(1, 1, 1)\n",
    "    ax.plot(train_losses, label = 'train loss')\n",
    "    ax.plot(valid_losses, label = 'valid loss')\n",
    "    plt.legend()\n",
    "    plt.title(model)\n",
    "    ax.set_xlabel('updates')\n",
    "    ax.set_ylabel('loss')"
   ]
  },
  {
   "cell_type": "markdown",
   "metadata": {},
   "source": [
    "## 6. Testing"
   ]
  },
  {
   "cell_type": "code",
   "execution_count": 65,
   "metadata": {},
   "outputs": [],
   "source": [
    "# myanmar dataset have 1 null row, correct in collate function\n",
    "def test(model, model_name, criterion):\n",
    "    \n",
    "    save_path = f'app/models/{model_name}.pt'\n",
    "    model.load_state_dict(torch.load(save_path))\n",
    "    test_loss = evaluate(model, test_loader, criterion, test_loader_length)\n",
    "    print(f'| Test Loss: {test_loss:.3f} | Test PPL: {math.exp(test_loss):7.3f} |')"
   ]
  },
  {
   "cell_type": "code",
   "execution_count": 66,
   "metadata": {},
   "outputs": [
    {
     "name": "stdout",
     "output_type": "stream",
     "text": [
      "| Test Loss: 5.186 | Test PPL: 178.719 |\n"
     ]
    }
   ],
   "source": [
    "# test generalAttention\n",
    "test(model_general_attention, 'generalAttention', criterion_general_attention)"
   ]
  },
  {
   "cell_type": "code",
   "execution_count": 67,
   "metadata": {},
   "outputs": [
    {
     "name": "stdout",
     "output_type": "stream",
     "text": [
      "| Test Loss: 5.180 | Test PPL: 177.678 |\n"
     ]
    }
   ],
   "source": [
    "# test additiveAttention\n",
    "test(model_additive_attention, 'additiveAttention', criterion_additive_attention)"
   ]
  },
  {
   "cell_type": "code",
   "execution_count": 68,
   "metadata": {},
   "outputs": [
    {
     "name": "stdout",
     "output_type": "stream",
     "text": [
      "| Test Loss: 5.212 | Test PPL: 183.435 |\n"
     ]
    }
   ],
   "source": [
    "# test multiplicativeAttention\n",
    "test(model_multiplicative_attention, 'multiplicativeAttention', criterion_multiplicative_attention)"
   ]
  },
  {
   "cell_type": "markdown",
   "metadata": {},
   "source": [
    "## 7. Inference"
   ]
  },
  {
   "cell_type": "code",
   "execution_count": 92,
   "metadata": {},
   "outputs": [],
   "source": [
    "mapping = {}\n",
    "mapping[SRC_LANGUAGE] = vocab_transform[SRC_LANGUAGE].get_itos()\n",
    "mapping[TRG_LANGUAGE] = vocab_transform[TRG_LANGUAGE].get_itos()"
   ]
  },
  {
   "cell_type": "code",
   "execution_count": 93,
   "metadata": {},
   "outputs": [],
   "source": [
    "def greedy_decode(model, src, max_len, device):\n",
    "    # print(src)\n",
    "    src = text_transform[SRC_LANGUAGE](src).to(device).unsqueeze(0)\n",
    "    # print(src.shape)\n",
    "    model.eval()\n",
    "    \n",
    "    # src = src.unsqueeze(0).to(device)\n",
    "    src_mask    = model.make_src_mask(src)\n",
    "    memory      = model.encoder(src, src_mask)\n",
    "    trg_indexes = [SOS_IDX]\n",
    "    \n",
    "    for i in range(max_len):\n",
    "        trg_tensor = torch.LongTensor(trg_indexes).unsqueeze(0).to(device)\n",
    "        # print(trg_tensor.shape)\n",
    "        trg_mask = model.make_trg_mask(trg_tensor)\n",
    "        \n",
    "        with torch.no_grad():\n",
    "            output, _ = model.decoder(trg_tensor, memory, trg_mask, src_mask)\n",
    "        \n",
    "        pred_token = output.argmax(2)[:, -1].item()\n",
    "        trg_indexes.append(pred_token)\n",
    "        \n",
    "        if pred_token == EOS_IDX:\n",
    "            break\n",
    "    \n",
    "    # print(trg_indexes)\n",
    "    trg_tokens = [mapping[TRG_LANGUAGE][i] for i in trg_indexes]\n",
    "    return trg_tokens[1:]  # Exclude the <sos> token"
   ]
  },
  {
   "cell_type": "code",
   "execution_count": 141,
   "metadata": {},
   "outputs": [
    {
     "name": "stdout",
     "output_type": "stream",
     "text": [
      "Predicted Sentence: \" ကျွန်တော် တို့ သည် သူ\n"
     ]
    }
   ],
   "source": [
    "# Example usage\n",
    "src_sentence = \"Country\"\n",
    "\n",
    "output_sentence = greedy_decode(model_general_attention, src_sentence, max_len=5, device=device)\n",
    "print(\"Predicted Sentence:\", ' '.join(output_sentence))"
   ]
  },
  {
   "cell_type": "code",
   "execution_count": 144,
   "metadata": {},
   "outputs": [
    {
     "name": "stdout",
     "output_type": "stream",
     "text": [
      "Predicted Sentence: \" ဟု သူ တို့ သည်\n"
     ]
    }
   ],
   "source": [
    "output_sentence = greedy_decode(model_additive_attention, src_sentence, max_len=5, device=device)\n",
    "print(\"Predicted Sentence:\", ' '.join(output_sentence))"
   ]
  },
  {
   "cell_type": "code",
   "execution_count": 143,
   "metadata": {},
   "outputs": [
    {
     "name": "stdout",
     "output_type": "stream",
     "text": [
      "Predicted Sentence: သူ သည် ထို အရာ ရှိ\n"
     ]
    }
   ],
   "source": [
    "output_sentence = greedy_decode(model_multiplicative_attention, src_sentence, max_len=5, device=device)\n",
    "print(\"Predicted Sentence:\", ' '.join(output_sentence))"
   ]
  },
  {
   "cell_type": "markdown",
   "metadata": {},
   "source": [
    "## 8. Attention"
   ]
  },
  {
   "cell_type": "markdown",
   "metadata": {},
   "source": [
    "for attention map"
   ]
  },
  {
   "cell_type": "code",
   "execution_count": 97,
   "metadata": {},
   "outputs": [
    {
     "name": "stdout",
     "output_type": "stream",
     "text": [
      "Italy have defeated Portugal 31-5 in Pool C of the 2007 Rugby World Cup at Parc des Princes, Paris, France.\n",
      "ပြင်သစ်နိုင်ငံ ပါရီမြို့ ပါ့ဒက်စ် ပရင့်စက် ၌ ၂၀၀၇ခုနှစ် ရပ်ဘီ ကမ္ဘာ့ ဖလား တွင် အီတလီ သည် ပေါ်တူဂီ ကို ၃၁-၅ ဂိုး ဖြင့် ရေကူးကန် စီ တွင် ရှုံးနိမ့်သွားပါသည် ။\n"
     ]
    }
   ],
   "source": [
    "src_text = corpus['train'][0]['en']\n",
    "print(src_text)\n",
    "\n",
    "trg_text = corpus['train'][0]['my']\n",
    "print(trg_text)"
   ]
  },
  {
   "cell_type": "code",
   "execution_count": 98,
   "metadata": {},
   "outputs": [],
   "source": [
    "src = text_transform[SRC_LANGUAGE](src_text).to(device).unsqueeze(0)\n",
    "trg = text_transform[TRG_LANGUAGE](trg_text).to(device).unsqueeze(0)"
   ]
  },
  {
   "cell_type": "code",
   "execution_count": 79,
   "metadata": {},
   "outputs": [
    {
     "data": {
      "text/plain": [
       "tensor([1])"
      ]
     },
     "execution_count": 79,
     "metadata": {},
     "output_type": "execute_result"
    }
   ],
   "source": [
    "text_length = torch.tensor([src.size(0)]).to(dtype=torch.int64)\n",
    "text_length"
   ]
  },
  {
   "cell_type": "code",
   "execution_count": 81,
   "metadata": {},
   "outputs": [],
   "source": [
    "with torch.no_grad():\n",
    "    general_output, general_attentions = model_general_attention(src, trg)\n",
    "with torch.no_grad():\n",
    "    multiplicative_output, multiplicative_attentions = model_multiplicative_attention(src, trg)\n",
    "with torch.no_grad():\n",
    "    additive_output, additive_attentions = model_additive_attention(src, trg)"
   ]
  },
  {
   "cell_type": "code",
   "execution_count": 101,
   "metadata": {},
   "outputs": [],
   "source": [
    "def get_output(output):\n",
    "    output = output.squeeze(0)\n",
    "    output = output[1:]\n",
    "    output_max = output.argmax(1)\n",
    "    trg_tokens = ['<sos>'] + [mapping[TRG_LANGUAGE][token.item()] for token in output_max]\n",
    "    return trg_tokens"
   ]
  },
  {
   "cell_type": "code",
   "execution_count": 102,
   "metadata": {},
   "outputs": [],
   "source": [
    "src_tokens = ['<sos>'] + token_transform[SRC_LANGUAGE](src_text) + ['<eos>']"
   ]
  },
  {
   "cell_type": "code",
   "execution_count": 103,
   "metadata": {},
   "outputs": [],
   "source": [
    "# trg_tokens = ['<sos>'] + [mapping[token.item()] for token in output_max]\n",
    "# trg_tokens"
   ]
  },
  {
   "cell_type": "code",
   "execution_count": 106,
   "metadata": {},
   "outputs": [],
   "source": [
    "import warnings\n",
    "warnings.filterwarnings('ignore', category=UserWarning)"
   ]
  },
  {
   "cell_type": "code",
   "execution_count": 157,
   "metadata": {},
   "outputs": [],
   "source": [
    "import matplotlib.ticker as ticker\n",
    "\n",
    "def display_attention(sentence, translation, attention, title):\n",
    "    \n",
    "    fig = plt.figure(figsize=(10,10))\n",
    "    ax = fig.add_subplot(111)\n",
    "    \n",
    "    attention = attention[0, 0, :, :]\n",
    "    attention = attention.squeeze(1).cpu().detach().numpy()\n",
    "    \n",
    "    cax = ax.matshow(attention, cmap='bone')\n",
    "   \n",
    "    ax.tick_params(labelsize=10)\n",
    "    \n",
    "    y_ticks =  [''] + translation\n",
    "    x_ticks =  [''] + sentence \n",
    "     \n",
    "    ax.set_xticklabels(x_ticks, rotation=45)\n",
    "    ax.set_yticklabels(y_ticks)\n",
    "\n",
    "    ax.xaxis.set_major_locator(ticker.MultipleLocator(1))\n",
    "    ax.yaxis.set_major_locator(ticker.MultipleLocator(1))\n",
    "    \n",
    "    plt.title(title)\n",
    "\n",
    "    plt.show()\n",
    "    plt.close()"
   ]
  },
  {
   "cell_type": "markdown",
   "metadata": {},
   "source": [
    "# Task 3: Model Evaluation and Verification"
   ]
  },
  {
   "cell_type": "markdown",
   "metadata": {},
   "source": [
    "### 1. Performance"
   ]
  },
  {
   "cell_type": "markdown",
   "metadata": {},
   "source": [
    "#### according to translation accuracy and BELU metrics"
   ]
  },
  {
   "cell_type": "markdown",
   "metadata": {},
   "source": [
    "To compare the performance of these attention mechanisms in terms of translation accuracy: I may say '0'. This could be because of my train/test/validation dataset limitation or the tokenization of Myanmar Language is not very strong enough.\n",
    "\n",
    "Underneat, I do some testing using BLEU for three attention mechanisms by generating one random sentence from my dataset. The result of bleu remains zero."
   ]
  },
  {
   "cell_type": "code",
   "execution_count": 114,
   "metadata": {},
   "outputs": [
    {
     "name": "stdout",
     "output_type": "stream",
     "text": [
      "Source Sentence: The TimesOnline reports that the joke fell flat with Jeffrey Turner, who as Chief of Police in Clayton County, Georgia, put Mr Whitton on medical leave when he was shot in the wrist as he tried to foil a robbery earlier this summer.\n",
      "Target Sentence: ယခု နွေရာသီ အစောပိုင်း ကာလ ၌ လုယက်မှု တစ်ခု ကျူးလွန် ရန် ကြိုးစားခဲ့ သောကြောင့် လက်ကောက်၀တ် တွင် သေနတ်ကျည်မှန်ခဲ့သော မစ်စတာ ၀ှစ်တွန် ကို ကလေတွန် ကောင်တီ ၊ ဂျော်ဂျီယာပြည်နယ် မှ ၊ ရဲမှူးကြီး ဂျက်ဖရီ တာနာ မှ ဆေး ခွင့် ပေးတာနှင့် ပတ်သတ်ပြီး ၊ တိုင်းမ်စ်အွန်လိုင်း မှ ဟာသပြက်လုံးတစ်ခု ကို မှတ်တမ်းတင်ရေးသားခဲ့သည် ။\n",
      "Predicted Sentence: \" ဒီ နေ ရာ မှာ\n",
      "BLEU Score: 0.00%\n"
     ]
    }
   ],
   "source": [
    "from nltk.translate.bleu_score import sentence_bleu\n",
    "\n",
    "src_text = corpus['train'][100]['en']\n",
    "print(f\"Source Sentence: {src_text}\")\n",
    "trg_text = corpus['train'][100]['my']\n",
    "print(f\"Target Sentence: {trg_text}\")\n",
    "\n",
    "# get random sample input and target\n",
    "src_token = token_transform[SRC_LANGUAGE](src_text)\n",
    "trg_token = token_transform[TRG_LANGUAGE](trg_text)\n",
    "\n",
    "# get model predicted output\n",
    "model_output = greedy_decode(model_general_attention, src_sentence, max_len=100, device=device)\n",
    "print(\"Predicted Sentence:\", ' '.join(output_sentence))\n",
    "\n",
    "# compare with bleu\n",
    "bleu_score = sentence_bleu([trg_token], model_output)\n",
    "print(f'BLEU Score: {bleu_score * 100:.2f}%')"
   ]
  },
  {
   "cell_type": "code",
   "execution_count": 115,
   "metadata": {},
   "outputs": [
    {
     "name": "stdout",
     "output_type": "stream",
     "text": [
      "Predicted Sentence: \" ဒီ နေ ရာ မှာ\n",
      "BLEU Score: 0.00%\n"
     ]
    }
   ],
   "source": [
    "model_output_addi = greedy_decode(model_additive_attention, src_sentence, max_len=10, device=device)\n",
    "print(\"Predicted Sentence:\", ' '.join(output_sentence))\n",
    "\n",
    "bleu_score = sentence_bleu([trg_token], model_output_addi)\n",
    "print(f'BLEU Score: {bleu_score * 100:.2f}%')"
   ]
  },
  {
   "cell_type": "code",
   "execution_count": 116,
   "metadata": {},
   "outputs": [
    {
     "name": "stdout",
     "output_type": "stream",
     "text": [
      "Predicted Sentence: \" ဒီ နေ ရာ မှာ\n",
      "BLEU Score: 0.00%\n"
     ]
    }
   ],
   "source": [
    "model_output_multi = greedy_decode(model_multiplicative_attention, src_sentence, max_len=10, device=device)\n",
    "print(\"Predicted Sentence:\", ' '.join(output_sentence))\n",
    "\n",
    "bleu_score = sentence_bleu([trg_token], model_output_addi)\n",
    "print(f'BLEU Score: {bleu_score * 100:.2f}%')"
   ]
  },
  {
   "cell_type": "markdown",
   "metadata": {},
   "source": [
    "#### according to the computational efficiency"
   ]
  },
  {
   "cell_type": "markdown",
   "metadata": {},
   "source": [
    "For the training, I used batch size = 64.\n",
    "The dataset contains pair of English and Myanmar according to the followings size:\n",
    "<ul>\n",
    "    <li> training set  : 1000 lines </li>\n",
    "    <li> validation set:  100 lines </li>\n",
    "    <li> testing set   :  100 lines </li>\n",
    "</ul>\n",
    "\n",
    "Then I train the model using three different attentions. Here are the comparison according to the computational efficiency:\n",
    "<table>\n",
    "    <tr>\n",
    "        <th>  </th>\n",
    "        <td> General Attention </td>\n",
    "        <td> Additive Attention </td>\n",
    "        <td> Multiplicative Attention </td>\n",
    "    </tr>\n",
    "    <tr>\n",
    "        <th> Training Time </th>\n",
    "        <td> 18m : 20s </td>\n",
    "        <td> 88m : 25s </td>\n",
    "        <td> 17m : 1s </td>\n",
    "    </tr>\n",
    "</table>"
   ]
  },
  {
   "cell_type": "markdown",
   "metadata": {},
   "source": [
    "#### According to the computational efficiency, Multiplicative Attention is the best."
   ]
  },
  {
   "cell_type": "code",
   "execution_count": 88,
   "metadata": {},
   "outputs": [
    {
     "name": "stdout",
     "output_type": "stream",
     "text": [
      "Training Time for generalAttention ==> 18m : 20s\n",
      "Training Time for additiveAttention ==> 88m : 25s\n",
      "Training Time for multiplicativeAttention ==> 17m : 1s\n"
     ]
    }
   ],
   "source": [
    "for i, key in enumerate(all_models):\n",
    "    print(f\"Training Time for {key} ==> {training_records[key]['total_mins']}m : {training_records[key]['total_secs']}s\")"
   ]
  },
  {
   "cell_type": "markdown",
   "metadata": {},
   "source": [
    "### 2. Performance Plots"
   ]
  },
  {
   "cell_type": "code",
   "execution_count": 151,
   "metadata": {},
   "outputs": [
    {
     "data": {
      "image/png": "[encoded data removed]",
      "text/plain": [
       "<Figure size 500x300 with 1 Axes>"
      ]
     },
     "metadata": {},
     "output_type": "display_data"
    },
    {
     "data": {
      "image/png": "[encoded data removed]",
      "text/plain": [
       "<Figure size 500x300 with 1 Axes>"
      ]
     },
     "metadata": {},
     "output_type": "display_data"
    },
    {
     "data": {
      "image/png": "[encoded data removed]",
      "text/plain": [
       "<Figure size 500x300 with 1 Axes>"
      ]
     },
     "metadata": {},
     "output_type": "display_data"
    }
   ],
   "source": [
    "for i, key in enumerate(all_models):\n",
    "    fn_plot(training_records[key]['train_losses'], training_records[key]['valid_losses'],key)"
   ]
  },
  {
   "cell_type": "markdown",
   "metadata": {},
   "source": [
    "### 3. Attention Map"
   ]
  },
  {
   "cell_type": "code",
   "execution_count": 158,
   "metadata": {},
   "outputs": [
    {
     "data": {
      "image/png": "[encoded data removed]",
      "text/plain": [
       "<Figure size 1000x1000 with 1 Axes>"
      ]
     },
     "metadata": {},
     "output_type": "display_data"
    },
    {
     "name": "stdout",
     "output_type": "stream",
     "text": [
      "['<sos>', 'နိုင်ငံ', 'သည်', 'သည်', 'ပါ', 'တွင်', 'မြို့', '-', '၊', 'ရ', 'လူ', 'ခု', 'နှစ်', 'တွင်', 'တွင်', 'လာ', 'တွင်', '၊', 'သည်', '။', 'ကို', '<unk>', '၁', 'နှစ်', 'နှစ်', 'ခု', 'ဖြင့်', '၊', 'စီ', 'သည်', 'လူ', 'ခဲ့', 'ခဲ့', 'သည်', '။', '<eos>', 'တွင်']\n"
     ]
    }
   ],
   "source": [
    "trg_tokens = get_output(general_output)\n",
    "display_attention(src_tokens, trg_tokens, general_attentions, \"generalAttention\")\n",
    "print(trg_tokens)"
   ]
  },
  {
   "cell_type": "code",
   "execution_count": 160,
   "metadata": {},
   "outputs": [
    {
     "data": {
      "image/png": "[encoded data removed]",
      "text/plain": [
       "<Figure size 1000x1000 with 1 Axes>"
      ]
     },
     "metadata": {},
     "output_type": "display_data"
    },
    {
     "name": "stdout",
     "output_type": "stream",
     "text": [
      "['<sos>', 'နိုင်ငံ', 'သည်', 'သည်', 'ပါ', 'တွင်', 'နေ့', 'နှစ်', 'နှစ်', 'တွင်', '၊', 'ခု', 'နှစ်', 'တွင်', 'တွင်', 'တွင်', 'တွင်', '၊', 'သည်', '။', 'ကို', 'နှစ်', 'နှစ်', 'နှစ်', 'နှစ်', 'ခု', 'ဖြင့်', '၊', 'နှစ်', 'တွင်', 'ဖြစ်', 'ခဲ့', 'ခဲ့', 'သည်', '။', '<eos>', 'တွင်']\n"
     ]
    }
   ],
   "source": [
    "trg_tokens = get_output(multiplicative_output)\n",
    "display_attention(src_tokens, trg_tokens, multiplicative_attentions, 'multiplicativeAttentions')\n",
    "print(trg_tokens)"
   ]
  },
  {
   "cell_type": "code",
   "execution_count": 161,
   "metadata": {},
   "outputs": [
    {
     "data": {
      "image/png": "[encoded data removed]",
      "text/plain": [
       "<Figure size 1000x1000 with 1 Axes>"
      ]
     },
     "metadata": {},
     "output_type": "display_data"
    },
    {
     "name": "stdout",
     "output_type": "stream",
     "text": [
      "['<sos>', 'နိုင်ငံ', 'တွင်', 'သည်', 'ပါ', 'တွင်', 'တွင်', '-', '<unk>', 'ပိုင်း', '<unk>', 'ခု', 'နှစ်', 'တွင်', 'တွင်', 'လာ', 'တွင်', '<unk>', 'သည်', '။', 'ကို', '<unk>', '၁', 'တွင်', 'တွင်', '၁', 'ဖြင့်', '၊', 'စီ', 'သည်', '<unk>', 'ခဲ့', 'ခဲ့', 'သည်', '။', '<eos>', 'နှစ်']\n"
     ]
    }
   ],
   "source": [
    "trg_tokens = get_output(additive_output)\n",
    "display_attention(src_tokens, trg_tokens, additive_attentions, 'additiveAttentions')\n",
    "print(trg_tokens)"
   ]
  },
  {
   "cell_type": "code",
   "execution_count": null,
   "metadata": {},
   "outputs": [],
   "source": []
  }
 ],
 "metadata": {
  "kernelspec": {
   "display_name": "Python 3",
   "language": "python",
   "name": "python3"
  },
  "language_info": {
   "codemirror_mode": {
    "name": "ipython",
    "version": 3
   },
   "file_extension": ".py",
   "mimetype": "text/x-python",
   "name": "python",
   "nbconvert_exporter": "python",
   "pygments_lexer": "ipython3",
   "version": "3.11.4"
  }
 },
 "nbformat": 4,
 "nbformat_minor": 2
}
