{
 "cells": [
  {
   "cell_type": "markdown",
   "metadata": {},
   "source": [
    "# GloVE\n",
    "\n",
    "Let's work on implementation of GloVE.\n",
    "- based on the co-occurences"
   ]
  },
  {
   "cell_type": "code",
   "execution_count": 1,
   "metadata": {},
   "outputs": [],
   "source": [
    "import numpy as np\n",
    "import torch\n",
    "import torch.nn as nn\n",
    "import torch.optim as optim\n",
    "import matplotlib\n",
    "import matplotlib.pyplot as plt\n"
   ]
  },
  {
   "cell_type": "markdown",
   "metadata": {},
   "source": [
    "## 1. Load Data"
   ]
  },
  {
   "cell_type": "markdown",
   "metadata": {},
   "source": [
    "### 1.1 word segmentation"
   ]
  },
  {
   "cell_type": "code",
   "execution_count": 2,
   "metadata": {},
   "outputs": [],
   "source": [
    "corpus = [\"apple banana fruit\", \"banana apple fruit\", \"banana fruit apple\", \n",
    "          \"dog cat animal\", \"cat animal dog\", \"cat dog animal\"]"
   ]
  },
  {
   "cell_type": "code",
   "execution_count": 3,
   "metadata": {},
   "outputs": [
    {
     "data": {
      "text/plain": [
       "[['apple', 'banana', 'fruit'],\n",
       " ['banana', 'apple', 'fruit'],\n",
       " ['banana', 'fruit', 'apple'],\n",
       " ['dog', 'cat', 'animal'],\n",
       " ['cat', 'animal', 'dog'],\n",
       " ['cat', 'dog', 'animal']]"
      ]
     },
     "execution_count": 3,
     "metadata": {},
     "output_type": "execute_result"
    }
   ],
   "source": [
    "corpus = [sent.split(\" \") for sent in corpus]\n",
    "corpus"
   ]
  },
  {
   "cell_type": "markdown",
   "metadata": {},
   "source": [
    "### 1.2 numericalization"
   ]
  },
  {
   "cell_type": "code",
   "execution_count": 4,
   "metadata": {},
   "outputs": [],
   "source": [
    "# get word sequences and unique words\n",
    "flatten = lambda l: [item for sublist in l for item in sublist]\n",
    "vocab = list(set(flatten(corpus)))"
   ]
  },
  {
   "cell_type": "code",
   "execution_count": 5,
   "metadata": {},
   "outputs": [
    {
     "data": {
      "text/plain": [
       "['banana', 'cat', 'fruit', 'animal', 'apple', 'dog']"
      ]
     },
     "execution_count": 5,
     "metadata": {},
     "output_type": "execute_result"
    }
   ],
   "source": [
    "vocab"
   ]
  },
  {
   "cell_type": "code",
   "execution_count": 6,
   "metadata": {},
   "outputs": [],
   "source": [
    "# type(set(flatten(corpus)))\n",
    "# type(vocab)"
   ]
  },
  {
   "cell_type": "code",
   "execution_count": 7,
   "metadata": {},
   "outputs": [
    {
     "name": "stdout",
     "output_type": "stream",
     "text": [
      "{'banana': 0, 'cat': 1, 'fruit': 2, 'animal': 3, 'apple': 4, 'dog': 5}\n"
     ]
    }
   ],
   "source": [
    "# numericalization\n",
    "word2index = {w:idx for idx,w in enumerate(vocab)}\n",
    "print(word2index)"
   ]
  },
  {
   "cell_type": "code",
   "execution_count": 8,
   "metadata": {},
   "outputs": [
    {
     "name": "stdout",
     "output_type": "stream",
     "text": [
      "6\n"
     ]
    }
   ],
   "source": [
    "# vocab size\n",
    "voc_size = len(vocab)\n",
    "print(voc_size)"
   ]
  },
  {
   "cell_type": "code",
   "execution_count": 9,
   "metadata": {},
   "outputs": [],
   "source": [
    "# append UNK\n",
    "vocab.append(\"<UNK>\")\n",
    "word2index['<UNK>'] = 6"
   ]
  },
  {
   "cell_type": "code",
   "execution_count": 10,
   "metadata": {},
   "outputs": [
    {
     "data": {
      "text/plain": [
       "{'banana': 0,\n",
       " 'cat': 1,\n",
       " 'fruit': 2,\n",
       " 'animal': 3,\n",
       " 'apple': 4,\n",
       " 'dog': 5,\n",
       " '<UNK>': 6}"
      ]
     },
     "execution_count": 10,
     "metadata": {},
     "output_type": "execute_result"
    }
   ],
   "source": [
    "word2index"
   ]
  },
  {
   "cell_type": "code",
   "execution_count": 11,
   "metadata": {},
   "outputs": [],
   "source": [
    "# index to word dict array, just in case we need to use\n",
    "index2word = {v:k for k,v in word2index.items()}"
   ]
  },
  {
   "cell_type": "markdown",
   "metadata": {},
   "source": [
    "## 2. Build Co-occurence Matrix X\n",
    "\n",
    "Here we need to count the co-occurence of two words given some window size. We gonna use window size of 1."
   ]
  },
  {
   "cell_type": "code",
   "execution_count": 12,
   "metadata": {},
   "outputs": [
    {
     "data": {
      "text/plain": [
       "Counter({'apple': 3, 'banana': 3, 'fruit': 3, 'dog': 3, 'cat': 3, 'animal': 3})"
      ]
     },
     "execution_count": 12,
     "metadata": {},
     "output_type": "execute_result"
    }
   ],
   "source": [
    "from collections import Counter\n",
    "\n",
    "X_i = Counter(flatten(corpus)) # find occurences of each word\n",
    "X_i"
   ]
  },
  {
   "cell_type": "code",
   "execution_count": 13,
   "metadata": {},
   "outputs": [],
   "source": [
    "# find co-occurence\n",
    "\n",
    "skip_grams = []\n",
    "\n",
    "for doc in corpus:\n",
    "    for i in range (1, len(doc)-1):\n",
    "        center = doc[i]\n",
    "        outside = [doc[i-1], doc[i+1]]\n",
    "        \n",
    "        for each_out in outside:\n",
    "            skip_grams.append((center, each_out)) # tuple"
   ]
  },
  {
   "cell_type": "code",
   "execution_count": 14,
   "metadata": {},
   "outputs": [
    {
     "data": {
      "text/plain": [
       "[('banana', 'apple'),\n",
       " ('banana', 'fruit'),\n",
       " ('apple', 'banana'),\n",
       " ('apple', 'fruit'),\n",
       " ('fruit', 'banana'),\n",
       " ('fruit', 'apple'),\n",
       " ('cat', 'dog'),\n",
       " ('cat', 'animal'),\n",
       " ('animal', 'cat'),\n",
       " ('animal', 'dog'),\n",
       " ('dog', 'cat'),\n",
       " ('dog', 'animal')]"
      ]
     },
     "execution_count": 14,
     "metadata": {},
     "output_type": "execute_result"
    }
   ],
   "source": [
    "skip_grams"
   ]
  },
  {
   "cell_type": "code",
   "execution_count": 15,
   "metadata": {},
   "outputs": [
    {
     "data": {
      "text/plain": [
       "Counter({('banana', 'apple'): 1,\n",
       "         ('banana', 'fruit'): 1,\n",
       "         ('apple', 'banana'): 1,\n",
       "         ('apple', 'fruit'): 1,\n",
       "         ('fruit', 'banana'): 1,\n",
       "         ('fruit', 'apple'): 1,\n",
       "         ('cat', 'dog'): 1,\n",
       "         ('cat', 'animal'): 1,\n",
       "         ('animal', 'cat'): 1,\n",
       "         ('animal', 'dog'): 1,\n",
       "         ('dog', 'cat'): 1,\n",
       "         ('dog', 'animal'): 1})"
      ]
     },
     "execution_count": 15,
     "metadata": {},
     "output_type": "execute_result"
    }
   ],
   "source": [
    "X_ik_skipgrams = Counter (skip_grams)\n",
    "X_ik_skipgrams"
   ]
  },
  {
   "cell_type": "markdown",
   "metadata": {},
   "source": [
    "### Weighting function\n",
    "\n",
    "GloVe includes a weighting function to scale down too frequent words.\n"
   ]
  },
  {
   "cell_type": "code",
   "execution_count": 16,
   "metadata": {},
   "outputs": [],
   "source": [
    "def weighting(w_i, w_j, X_ik):\n",
    "    \n",
    "    # check whether the co-occurences between two words: w_i and w_j is available\n",
    "    try:\n",
    "        x_ij = X_ik[(w_i, w_j)]\n",
    "        \n",
    "    # if not exist, then set to 1; \"laplace smoothing\"\n",
    "    except:\n",
    "        x_ij = 1\n",
    "        \n",
    "    # set xmax (xmax = the maximum count of co words we will accept)\n",
    "    x_max = 100\n",
    "    \n",
    "    # set alpha (f(x))\n",
    "    alpha = 0.75 \n",
    "    \n",
    "            # note all xmax and alpha number are using according to the paper glove\n",
    "    \n",
    "    # if co-occurences does not exceed xmax, then just multiply with some alpha\n",
    "    if x_ij < x_max:\n",
    "        result = (x_ij / x_max) ** alpha\n",
    "    \n",
    "    # otherwise set it to 1 (if xmax, set to 1)\n",
    "    else:\n",
    "        result = 1\n",
    "    \n",
    "    return result # return the number between 0 and 1 which is the weighting function"
   ]
  },
  {
   "cell_type": "code",
   "execution_count": 17,
   "metadata": {},
   "outputs": [
    {
     "name": "stdout",
     "output_type": "stream",
     "text": [
      "('banana', 'banana')\n",
      "('banana', 'cat')\n",
      "('banana', 'fruit')\n",
      "('banana', 'animal')\n",
      "('banana', 'apple')\n",
      "('banana', 'dog')\n",
      "('banana', '<UNK>')\n",
      "('cat', 'cat')\n",
      "('cat', 'fruit')\n",
      "('cat', 'animal')\n",
      "('cat', 'apple')\n",
      "('cat', 'dog')\n",
      "('cat', '<UNK>')\n",
      "('fruit', 'fruit')\n",
      "('fruit', 'animal')\n",
      "('fruit', 'apple')\n",
      "('fruit', 'dog')\n",
      "('fruit', '<UNK>')\n",
      "('animal', 'animal')\n",
      "('animal', 'apple')\n",
      "('animal', 'dog')\n",
      "('animal', '<UNK>')\n",
      "('apple', 'apple')\n",
      "('apple', 'dog')\n",
      "('apple', '<UNK>')\n",
      "('dog', 'dog')\n",
      "('dog', '<UNK>')\n",
      "('<UNK>', '<UNK>')\n"
     ]
    }
   ],
   "source": [
    "# co-occurences matrix\n",
    "\n",
    "from itertools import combinations_with_replacement\n",
    "\n",
    "# a dict for keeping the co-occurences\n",
    "X_ik = {}\n",
    "\n",
    "# already scale the co-occurences using the weighting function\n",
    "weighting_dic = {}\n",
    "\n",
    "for bigram in combinations_with_replacement(vocab, 2):\n",
    "    \n",
    "    # give all the possible combination of the words\n",
    "    print(bigram) \n",
    "    \n",
    "    # if the pair exists in out corpus\n",
    "    if X_ik_skipgrams.get(bigram):\n",
    "        co                           = X_ik_skipgrams[bigram]\n",
    "        X_ik[bigram]                 = co + 1 # for stability, (if no occurence we set 1, so if occurences we need to plus 1)\n",
    "        X_ik[(bigram[1], bigram[0])] = co + 1 # basically (apple, banana = banana, apple)\n",
    "    else:\n",
    "        pass\n",
    "    \n",
    "    weighting_dic[bigram]                 = weighting(bigram[0], bigram[1], X_ik)\n",
    "    weighting_dic[(bigram[1], bigram[0])] = weighting(bigram[1], bigram[0], X_ik)"
   ]
  },
  {
   "cell_type": "code",
   "execution_count": 18,
   "metadata": {},
   "outputs": [
    {
     "data": {
      "text/plain": [
       "{('banana', 'fruit'): 2,\n",
       " ('fruit', 'banana'): 2,\n",
       " ('banana', 'apple'): 2,\n",
       " ('apple', 'banana'): 2,\n",
       " ('cat', 'animal'): 2,\n",
       " ('animal', 'cat'): 2,\n",
       " ('cat', 'dog'): 2,\n",
       " ('dog', 'cat'): 2,\n",
       " ('fruit', 'apple'): 2,\n",
       " ('apple', 'fruit'): 2,\n",
       " ('animal', 'dog'): 2,\n",
       " ('dog', 'animal'): 2}"
      ]
     },
     "execution_count": 18,
     "metadata": {},
     "output_type": "execute_result"
    }
   ],
   "source": [
    "X_ik"
   ]
  },
  {
   "cell_type": "code",
   "execution_count": 19,
   "metadata": {},
   "outputs": [
    {
     "data": {
      "text/plain": [
       "{('banana', 'banana'): 0.03162277660168379,\n",
       " ('banana', 'cat'): 0.03162277660168379,\n",
       " ('cat', 'banana'): 0.03162277660168379,\n",
       " ('banana', 'fruit'): 0.053182958969449884,\n",
       " ('fruit', 'banana'): 0.053182958969449884,\n",
       " ('banana', 'animal'): 0.03162277660168379,\n",
       " ('animal', 'banana'): 0.03162277660168379,\n",
       " ('banana', 'apple'): 0.053182958969449884,\n",
       " ('apple', 'banana'): 0.053182958969449884,\n",
       " ('banana', 'dog'): 0.03162277660168379,\n",
       " ('dog', 'banana'): 0.03162277660168379,\n",
       " ('banana', '<UNK>'): 0.03162277660168379,\n",
       " ('<UNK>', 'banana'): 0.03162277660168379,\n",
       " ('cat', 'cat'): 0.03162277660168379,\n",
       " ('cat', 'fruit'): 0.03162277660168379,\n",
       " ('fruit', 'cat'): 0.03162277660168379,\n",
       " ('cat', 'animal'): 0.053182958969449884,\n",
       " ('animal', 'cat'): 0.053182958969449884,\n",
       " ('cat', 'apple'): 0.03162277660168379,\n",
       " ('apple', 'cat'): 0.03162277660168379,\n",
       " ('cat', 'dog'): 0.053182958969449884,\n",
       " ('dog', 'cat'): 0.053182958969449884,\n",
       " ('cat', '<UNK>'): 0.03162277660168379,\n",
       " ('<UNK>', 'cat'): 0.03162277660168379,\n",
       " ('fruit', 'fruit'): 0.03162277660168379,\n",
       " ('fruit', 'animal'): 0.03162277660168379,\n",
       " ('animal', 'fruit'): 0.03162277660168379,\n",
       " ('fruit', 'apple'): 0.053182958969449884,\n",
       " ('apple', 'fruit'): 0.053182958969449884,\n",
       " ('fruit', 'dog'): 0.03162277660168379,\n",
       " ('dog', 'fruit'): 0.03162277660168379,\n",
       " ('fruit', '<UNK>'): 0.03162277660168379,\n",
       " ('<UNK>', 'fruit'): 0.03162277660168379,\n",
       " ('animal', 'animal'): 0.03162277660168379,\n",
       " ('animal', 'apple'): 0.03162277660168379,\n",
       " ('apple', 'animal'): 0.03162277660168379,\n",
       " ('animal', 'dog'): 0.053182958969449884,\n",
       " ('dog', 'animal'): 0.053182958969449884,\n",
       " ('animal', '<UNK>'): 0.03162277660168379,\n",
       " ('<UNK>', 'animal'): 0.03162277660168379,\n",
       " ('apple', 'apple'): 0.03162277660168379,\n",
       " ('apple', 'dog'): 0.03162277660168379,\n",
       " ('dog', 'apple'): 0.03162277660168379,\n",
       " ('apple', '<UNK>'): 0.03162277660168379,\n",
       " ('<UNK>', 'apple'): 0.03162277660168379,\n",
       " ('dog', 'dog'): 0.03162277660168379,\n",
       " ('dog', '<UNK>'): 0.03162277660168379,\n",
       " ('<UNK>', 'dog'): 0.03162277660168379,\n",
       " ('<UNK>', '<UNK>'): 0.03162277660168379}"
      ]
     },
     "execution_count": 19,
     "metadata": {},
     "output_type": "execute_result"
    }
   ],
   "source": [
    "weighting_dic"
   ]
  },
  {
   "cell_type": "markdown",
   "metadata": {},
   "source": [
    "## 3. Prepare train data"
   ]
  },
  {
   "cell_type": "code",
   "execution_count": 20,
   "metadata": {},
   "outputs": [],
   "source": [
    "import math"
   ]
  },
  {
   "cell_type": "code",
   "execution_count": 21,
   "metadata": {},
   "outputs": [
    {
     "data": {
      "text/plain": [
       "[('banana', 'apple'),\n",
       " ('banana', 'fruit'),\n",
       " ('apple', 'banana'),\n",
       " ('apple', 'fruit'),\n",
       " ('fruit', 'banana'),\n",
       " ('fruit', 'apple'),\n",
       " ('cat', 'dog'),\n",
       " ('cat', 'animal'),\n",
       " ('animal', 'cat'),\n",
       " ('animal', 'dog'),\n",
       " ('dog', 'cat'),\n",
       " ('dog', 'animal')]"
      ]
     },
     "execution_count": 21,
     "metadata": {},
     "output_type": "execute_result"
    }
   ],
   "source": [
    "skip_grams"
   ]
  },
  {
   "cell_type": "code",
   "execution_count": 22,
   "metadata": {},
   "outputs": [],
   "source": [
    "def random_batch(batch_size, word_sequence, skip_grams, X_ik, weighting_dic):\n",
    "    \n",
    "    random_inputs, random_labels, random_coos, random_weightings = [], [], [], []\n",
    "    \n",
    "    # convert our skipgrams to id using word2index\n",
    "    skip_grams_id = [(word2index[skipgram[0]], word2index[skipgram[1]]) for skipgram in skip_grams]\n",
    "    # print(skip_grams_id)\n",
    "    \n",
    "    # randomly choose indexes based on batch_size\n",
    "    random_index = np.random.choice(range(len(skip_grams_id)), batch_size, replace = False)\n",
    "    \n",
    "    # get the random input and labels\n",
    "    for index in random_index:\n",
    "        random_inputs.append([skip_grams_id[index][0]]) # center word, x\n",
    "        random_labels.append([skip_grams_id[index][1]]) # outside word, y\n",
    "    \n",
    "        # co occerences\n",
    "        pair = skip_grams[index] #('banana','fruit')\n",
    "        \n",
    "        try:\n",
    "            cooc = X_ik[pair]   \n",
    "        except:\n",
    "            cooc = 1\n",
    "            \n",
    "        random_coos.append([math.log(cooc)])\n",
    "    \n",
    "        # weightings\n",
    "        weighting = weighting_dic[pair]\n",
    "        random_weightings.append([weighting])\n",
    "            \n",
    "    return np.array(random_inputs), np.array(random_labels), np.array(random_coos), np.array(random_weightings)"
   ]
  },
  {
   "cell_type": "markdown",
   "metadata": {},
   "source": [
    "#### test"
   ]
  },
  {
   "cell_type": "code",
   "execution_count": 23,
   "metadata": {},
   "outputs": [],
   "source": [
    "batch_size = 2\n",
    "x, y, cooc, weighting = random_batch(batch_size, corpus, skip_grams, X_ik, weighting_dic)"
   ]
  },
  {
   "cell_type": "code",
   "execution_count": 24,
   "metadata": {},
   "outputs": [
    {
     "data": {
      "text/plain": [
       "array([[5],\n",
       "       [0]])"
      ]
     },
     "execution_count": 24,
     "metadata": {},
     "output_type": "execute_result"
    }
   ],
   "source": [
    "x # center word"
   ]
  },
  {
   "cell_type": "code",
   "execution_count": 25,
   "metadata": {},
   "outputs": [
    {
     "data": {
      "text/plain": [
       "array([[3],\n",
       "       [2]])"
      ]
     },
     "execution_count": 25,
     "metadata": {},
     "output_type": "execute_result"
    }
   ],
   "source": [
    "y # outside word"
   ]
  },
  {
   "cell_type": "code",
   "execution_count": 26,
   "metadata": {},
   "outputs": [
    {
     "data": {
      "text/plain": [
       "('banana', 'apple')"
      ]
     },
     "execution_count": 26,
     "metadata": {},
     "output_type": "execute_result"
    }
   ],
   "source": [
    "index2word[0], index2word[4]"
   ]
  },
  {
   "cell_type": "code",
   "execution_count": 27,
   "metadata": {},
   "outputs": [
    {
     "data": {
      "text/plain": [
       "('cat', 'fruit')"
      ]
     },
     "execution_count": 27,
     "metadata": {},
     "output_type": "execute_result"
    }
   ],
   "source": [
    "index2word[1], index2word[2]"
   ]
  },
  {
   "cell_type": "code",
   "execution_count": 28,
   "metadata": {},
   "outputs": [
    {
     "data": {
      "text/plain": [
       "array([[0.69314718],\n",
       "       [0.69314718]])"
      ]
     },
     "execution_count": 28,
     "metadata": {},
     "output_type": "execute_result"
    }
   ],
   "source": [
    "cooc #co-occurences"
   ]
  },
  {
   "cell_type": "code",
   "execution_count": 29,
   "metadata": {},
   "outputs": [
    {
     "data": {
      "text/plain": [
       "array([[0.05318296],\n",
       "       [0.05318296]])"
      ]
     },
     "execution_count": 29,
     "metadata": {},
     "output_type": "execute_result"
    }
   ],
   "source": [
    "weighting "
   ]
  },
  {
   "cell_type": "markdown",
   "metadata": {},
   "source": [
    "## 4. Model"
   ]
  },
  {
   "cell_type": "markdown",
   "metadata": {},
   "source": [
    "loss funciton:\n",
    "\n",
    "$$ J = \\sum_{i,j=1}^{V} (f(X_{ij})) (w_{i}^{T}w_{j} + b_{i} + b_{j} - \\log X_{ij})^{2}"
   ]
  },
  {
   "cell_type": "code",
   "execution_count": 30,
   "metadata": {},
   "outputs": [],
   "source": [
    "class Glove(nn.Module):\n",
    "    \n",
    "    def __init__(self, voc_size, emb_size):\n",
    "        super(Glove, self).__init__()\n",
    "        self.center_embedding  = nn.Embedding(voc_size, emb_size)\n",
    "        self.outside_embedding = nn.Embedding(voc_size, emb_size)\n",
    "        \n",
    "        self.center_bias       = nn.Embedding(voc_size, 1)\n",
    "        self.outside_bias      = nn.Embedding(voc_size, 1) \n",
    "        \n",
    "    def forward(self, center, outside, cooc, weighting):\n",
    "        center_embeds  = self.center_embedding(center)   # (batch_size, 1, embed_size)\n",
    "        outside_embeds = self.outside_embedding(outside) # (batch_size, 1, embed_size)\n",
    "        \n",
    "        center_bias    = self.center_bias(center).squeeze(1) # (batch_size, voc_size)\n",
    "        target_bias    = self.outside_bias(outside).squeeze(1)\n",
    "        \n",
    "        inner_product = outside_embeds.bmm(center_embeds.transpose(1,2)).squeeze(2)\n",
    "        # (batch_size, 1, emb_size) @ (batch_size, emb_size, 1) = (batch_size, 1, 1) = (batch_size, 1)\n",
    "        \n",
    "        loss = weighting * torch.pow(inner_product + center_bias + target_bias - cooc, 2)\n",
    "        \n",
    "        return torch.sum(loss)"
   ]
  },
  {
   "cell_type": "code",
   "execution_count": 31,
   "metadata": {},
   "outputs": [],
   "source": [
    "# test out system\n",
    "\n",
    "voc_size   = len(vocab)\n",
    "emb_size = 2\n",
    "model = Glove(voc_size, emb_size)"
   ]
  },
  {
   "cell_type": "code",
   "execution_count": 32,
   "metadata": {},
   "outputs": [],
   "source": [
    "#convert numpy array to Tensor\n",
    "\n",
    "x_tensor         = torch.LongTensor(x)\n",
    "y_tensor         = torch.LongTensor(y)\n",
    "cooc_tensor      = torch.FloatTensor(cooc)\n",
    "weighting_tensor = torch.FloatTensor(weighting)"
   ]
  },
  {
   "cell_type": "code",
   "execution_count": 33,
   "metadata": {},
   "outputs": [],
   "source": [
    "loss = model(x_tensor, y_tensor,  cooc_tensor, weighting_tensor)"
   ]
  },
  {
   "cell_type": "code",
   "execution_count": 34,
   "metadata": {},
   "outputs": [
    {
     "data": {
      "text/plain": [
       "tensor(0.0863, grad_fn=<SumBackward0>)"
      ]
     },
     "execution_count": 34,
     "metadata": {},
     "output_type": "execute_result"
    }
   ],
   "source": [
    "loss"
   ]
  },
  {
   "cell_type": "markdown",
   "metadata": {},
   "source": [
    "## 5. Training"
   ]
  },
  {
   "cell_type": "code",
   "execution_count": 36,
   "metadata": {},
   "outputs": [],
   "source": [
    "batch_size     = 10 # mini-batch size\n",
    "embedding_size = 2 # so we can later plot\n",
    "\n",
    "model          = Glove(voc_size, embedding_size)\n",
    "\n",
    "criterion = nn.CrossEntropyLoss()\n",
    "optimizer = optim.Adam(model.parameters(), lr = 0.001)"
   ]
  },
  {
   "cell_type": "code",
   "execution_count": 38,
   "metadata": {},
   "outputs": [],
   "source": [
    "# time estimation\n",
    "def epoch_time(start_time, end_time):\n",
    "    elapsed_time = end_time - start_time\n",
    "    elapsed_mins = int(elapsed_time / 60)\n",
    "    elapsed_secs = int(elapsed_time - (elapsed_mins * 60))\n",
    "    return elapsed_mins, elapsed_secs"
   ]
  },
  {
   "cell_type": "code",
   "execution_count": 40,
   "metadata": {},
   "outputs": [
    {
     "name": "stdout",
     "output_type": "stream",
     "text": [
      "Epoch:   1000 | cost: 0.000000 | time: 0m 0s\n",
      "Epoch:   2000 | cost: 0.000000 | time: 0m 0s\n",
      "Epoch:   3000 | cost: 0.000000 | time: 0m 0s\n",
      "Epoch:   4000 | cost: 0.000000 | time: 0m 0s\n",
      "Epoch:   5000 | cost: 0.000000 | time: 0m 0s\n"
     ]
    }
   ],
   "source": [
    "import time\n",
    "\n",
    "# Training\n",
    "\n",
    "num_epochs = 5000\n",
    "\n",
    "for epoch in range(num_epochs):\n",
    "    \n",
    "    # record the starting time for each epoch\n",
    "    start = time.time()\n",
    "    \n",
    "    input_batch, target_batch, cooc_batch, weighting_batch = random_batch(batch_size, corpus, skip_grams, X_ik, weighting_dic)\n",
    "    input_batch     = torch.LongTensor(input_batch) #[batch_size, 1]\n",
    "    target_batch    = torch.LongTensor(target_batch) #[batch_size, 1]\n",
    "    cooc_batch      = torch.FloatTensor(cooc_batch) #[batch_size, 1]\n",
    "    weighting_batch = torch.FloatTensor(weighting_batch) #[batch_size, 1]\n",
    "    \n",
    "    optimizer.zero_grad()\n",
    "    loss = model(input_batch, target_batch, cooc_batch, weighting_batch)\n",
    "    \n",
    "    loss.backward()\n",
    "    optimizer.step()\n",
    "    \n",
    "    # record the ending time for each epoch\n",
    "    end = time.time()\n",
    "    \n",
    "    # cal training time for each epoch\n",
    "    epoch_mins, epoch_secs = epoch_time(start,end)\n",
    "    \n",
    "    if(epoch+1) % 1000 == 0:\n",
    "        print(f\"Epoch: {epoch+1:6.0f} | cost: {loss:.6f} | time: {epoch_mins}m {epoch_secs}s\")\n",
    "    "
   ]
  },
  {
   "cell_type": "markdown",
   "metadata": {},
   "source": [
    "## 6. Plotting the embeddings"
   ]
  },
  {
   "cell_type": "code",
   "execution_count": 41,
   "metadata": {},
   "outputs": [
    {
     "data": {
      "text/plain": [
       "['banana', 'cat', 'fruit', 'animal', 'apple', 'dog', '<UNK>']"
      ]
     },
     "execution_count": 41,
     "metadata": {},
     "output_type": "execute_result"
    }
   ],
   "source": [
    "# list of vocabs\n",
    "vocab[:10]"
   ]
  },
  {
   "cell_type": "code",
   "execution_count": 43,
   "metadata": {},
   "outputs": [
    {
     "data": {
      "text/plain": [
       "'banana'"
      ]
     },
     "execution_count": 43,
     "metadata": {},
     "output_type": "execute_result"
    }
   ],
   "source": [
    "word = vocab[0]\n",
    "word"
   ]
  },
  {
   "cell_type": "code",
   "execution_count": 44,
   "metadata": {},
   "outputs": [
    {
     "data": {
      "text/plain": [
       "0"
      ]
     },
     "execution_count": 44,
     "metadata": {},
     "output_type": "execute_result"
    }
   ],
   "source": [
    "# numericalization\n",
    "id = word2index[word]\n",
    "id"
   ]
  },
  {
   "cell_type": "code",
   "execution_count": 46,
   "metadata": {},
   "outputs": [
    {
     "data": {
      "text/plain": [
       "tensor([0])"
      ]
     },
     "execution_count": 46,
     "metadata": {},
     "output_type": "execute_result"
    }
   ],
   "source": [
    "id_tensor = torch.LongTensor([id])\n",
    "id_tensor"
   ]
  },
  {
   "cell_type": "code",
   "execution_count": 47,
   "metadata": {},
   "outputs": [
    {
     "data": {
      "text/plain": [
       "(tensor([[1.0354, 0.0588]], grad_fn=<EmbeddingBackward0>),\n",
       " tensor([[ 1.4599, -0.6691]], grad_fn=<EmbeddingBackward0>))"
      ]
     },
     "execution_count": 47,
     "metadata": {},
     "output_type": "execute_result"
    }
   ],
   "source": [
    "# get the embedding by averaging\n",
    "v_embed = model.center_embedding(id_tensor)\n",
    "u_embed = model.outside_embedding(id_tensor)\n",
    "\n",
    "v_embed, u_embed"
   ]
  },
  {
   "cell_type": "code",
   "execution_count": 48,
   "metadata": {},
   "outputs": [
    {
     "data": {
      "text/plain": [
       "tensor([[ 1.2477, -0.3052]], grad_fn=<DivBackward0>)"
      ]
     },
     "execution_count": 48,
     "metadata": {},
     "output_type": "execute_result"
    }
   ],
   "source": [
    "# average to get the word embedding\n",
    "word_embed = (v_embed + u_embed) / 2\n",
    "word_embed "
   ]
  },
  {
   "cell_type": "code",
   "execution_count": 49,
   "metadata": {},
   "outputs": [
    {
     "data": {
      "text/plain": [
       "tensor(-0.3052, grad_fn=<SelectBackward0>)"
      ]
     },
     "execution_count": 49,
     "metadata": {},
     "output_type": "execute_result"
    }
   ],
   "source": [
    "word_embed[0][1]"
   ]
  },
  {
   "cell_type": "code",
   "execution_count": 50,
   "metadata": {},
   "outputs": [],
   "source": [
    "# let's write a function to get embedding given a word\n",
    "def get_embed(word):\n",
    "    id_tensor  = torch.LongTensor([word2index[word]])\n",
    "    v_embed    = model.center_embedding(id_tensor)\n",
    "    u_embed    = model.outside_embedding(id_tensor)\n",
    "    word_embed = (v_embed + u_embed) / 2\n",
    "    x, y       = word_embed[0][0].item(), word_embed[0][1].item()\n",
    "    \n",
    "    return x,y"
   ]
  },
  {
   "cell_type": "code",
   "execution_count": 51,
   "metadata": {},
   "outputs": [
    {
     "data": {
      "image/png": "[encoded data removed]",
      "text/plain": [
       "<Figure size 600x300 with 1 Axes>"
      ]
     },
     "metadata": {},
     "output_type": "display_data"
    }
   ],
   "source": [
    "# plot the point\n",
    "\n",
    "plt.figure(figsize=(6,3))\n",
    "for i, word in enumerate(vocab[:20]): # loop each unique vocab\n",
    "    x,y = get_embed(word)\n",
    "    plt.scatter(x,y)\n",
    "    plt.annotate(word, xy = (x,y), xytext=(5,2), textcoords='offset points')\n",
    "plt.show()"
   ]
  },
  {
   "cell_type": "markdown",
   "metadata": {},
   "source": [
    "## 7. Cosine similarity\n",
    "\n",
    "Formally the Cosine Similarity s between two vectors p and q is defined as:\n",
    "\n",
    "$$ s = \\frac {p.q} {||p|| ||q|| }, where \\space s \\in [-1,1] $$\n",
    "\n",
    "if p and q is super similar, the result is 1. Otherwise, 0."
   ]
  },
  {
   "cell_type": "code",
   "execution_count": 54,
   "metadata": {},
   "outputs": [
    {
     "data": {
      "text/plain": [
       "['banana', 'cat', 'fruit', 'animal', 'apple', 'dog', '<UNK>']"
      ]
     },
     "execution_count": 54,
     "metadata": {},
     "output_type": "execute_result"
    }
   ],
   "source": [
    "vocab"
   ]
  },
  {
   "cell_type": "code",
   "execution_count": 55,
   "metadata": {},
   "outputs": [],
   "source": [
    "# let's try similarity between first and second, and second and third\n",
    "\n",
    "cat    = get_embed('cat')\n",
    "fruit  = get_embed('fruit')\n",
    "animal = get_embed('animal')"
   ]
  },
  {
   "cell_type": "code",
   "execution_count": 56,
   "metadata": {},
   "outputs": [
    {
     "name": "stdout",
     "output_type": "stream",
     "text": [
      "cat vs. fruit:  0.5621693913348489\n",
      "cat vs. animal:  0.9880440631499581\n",
      "cat vs. cat:  1.0\n"
     ]
    }
   ],
   "source": [
    "# numpy version\n",
    "\n",
    "from numpy import dot\n",
    "from numpy.linalg import norm\n",
    "\n",
    "def cos_sim(a,b):\n",
    "    cos_sim = dot(a,b) / (norm(a) * norm(b))\n",
    "    return cos_sim\n",
    "\n",
    "print(f\"cat vs. fruit: \", cos_sim(cat,fruit))\n",
    "print(f\"cat vs. animal: \", cos_sim(cat,animal))\n",
    "print(f\"cat vs. cat: \", cos_sim(cat,cat))"
   ]
  },
  {
   "cell_type": "code",
   "execution_count": 57,
   "metadata": {},
   "outputs": [
    {
     "name": "stdout",
     "output_type": "stream",
     "text": [
      "cat vs. fruit:  0.562169391334849\n",
      "cat vs. animal:  0.9880440631499582\n",
      "cat vs. cat:  1\n"
     ]
    }
   ],
   "source": [
    "# spicy version\n",
    "\n",
    "from scipy import spatial\n",
    "\n",
    "def cos_sim(a,b):\n",
    "    cos_sim = 1 - spatial.distance.cosine(a,b) \n",
    "    # distance = 1 - similarity , because scipy only gives distances\n",
    "    return cos_sim\n",
    "\n",
    "print(f\"cat vs. fruit: \", cos_sim(cat,fruit))\n",
    "print(f\"cat vs. animal: \", cos_sim(cat,animal))\n",
    "print(f\"cat vs. cat: \", cos_sim(cat,cat))"
   ]
  },
  {
   "cell_type": "code",
   "execution_count": null,
   "metadata": {},
   "outputs": [],
   "source": []
  }
 ],
 "metadata": {
  "kernelspec": {
   "display_name": "Python 3",
   "language": "python",
   "name": "python3"
  },
  "language_info": {
   "codemirror_mode": {
    "name": "ipython",
    "version": 3
   },
   "file_extension": ".py",
   "mimetype": "text/x-python",
   "name": "python",
   "nbconvert_exporter": "python",
   "pygments_lexer": "ipython3",
   "version": "3.11.4"
  }
 },
 "nbformat": 4,
 "nbformat_minor": 2
}
