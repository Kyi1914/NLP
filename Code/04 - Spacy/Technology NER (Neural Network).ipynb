{
 "cells": [
  {
   "cell_type": "markdown",
   "metadata": {
    "tags": []
   },
   "source": [
    "# Technology NER (Neural Network)\n",
    "\n",
    "Here we gonna teach our model to learn to label technology stuff.\n",
    "\n",
    "We gonna go through the whole process from labeling to training, so you understand how to do it.  The idea is:\n",
    "\n",
    "1. Grab some raw text containing technological stuffs\n",
    "2. Grab another text containing terms about technology\n",
    "3. Use 2 to annotate 1\n",
    "4. Then train the NER model with the annotated 1\n",
    "\n",
    "First, let us grab the raw text containing technology related stuffs.  We grab these raw texts from patent\n",
    "\n",
    "This is edited from https://github.com/kinivi/patent_ner_linking"
   ]
  },
  {
   "cell_type": "markdown",
   "metadata": {},
   "source": [
    "## 1. Loading data"
   ]
  },
  {
   "cell_type": "code",
   "execution_count": 1,
   "metadata": {},
   "outputs": [
    {
     "data": {
      "text/plain": [
       "'BACKGROUND OF THE INVENTION\\n[0001]\\n1. Field of the Invention\\n[0002]\\nThe present invention relates to a wireless communication terminal with an RFID (Radio-Frequency Identification) module, a wireless communication system, a wireless communication method, and a device storing a program.\\n[0003]\\nPriority is claimed on Japanese Patent Application No. 2013-154951, filed Jul. 25, 2013, the content of which is incorporated herein by reference.\\n[0004]\\n2. Description of Related Art\\n[0005]\\nA method of usi'"
      ]
     },
     "execution_count": 1,
     "metadata": {},
     "output_type": "execute_result"
    }
   ],
   "source": [
    "# if you've already unzipped the file\n",
    "# this is a text I grab from \n",
    "#https://www.google.com/patents/sitemap/en/Sitemap/G06/G06K.html\n",
    "patent_data = open('data/G06K.txt').read().strip()\n",
    "patent_data[:500]"
   ]
  },
  {
   "cell_type": "markdown",
   "metadata": {},
   "source": [
    "Since when we train NER, we need to give many samples, each sample as a `Doc`, we gonna split our `patent_data` into many samples.  One doc per one patent.  Looking closely, they are splitted by `\\n\\n`"
   ]
  },
  {
   "cell_type": "code",
   "execution_count": 2,
   "metadata": {},
   "outputs": [
    {
     "name": "stdout",
     "output_type": "stream",
     "text": [
      "Length:  427\n",
      "First patent:  BACKGROUND OF THE INVENTION\n",
      "Second patent:  [0001]\n"
     ]
    }
   ],
   "source": [
    "# split into patents texts | 1 entry = 1 patent\n",
    "patent_texts = patent_data.split('\\n')\n",
    "print(\"Length: \", len(patent_texts))\n",
    "print(\"First patent: \",  patent_texts[0][:50])\n",
    "print(\"Second patent: \", patent_texts[1][:50])"
   ]
  },
  {
   "cell_type": "code",
   "execution_count": 20,
   "metadata": {},
   "outputs": [
    {
     "data": {
      "text/plain": [
       "'BACKGROUND OF THE INVENTION'"
      ]
     },
     "execution_count": 20,
     "metadata": {},
     "output_type": "execute_result"
    }
   ],
   "source": [
    "patent_texts[0]"
   ]
  },
  {
   "cell_type": "markdown",
   "metadata": {},
   "source": [
    "Next, let's grab some technological terms from another text file.  To extract relevant terms from the text, we can use `CountVectorizer` from scikit-learn. In such way, we can remove less frequent terms than some threshold."
   ]
  },
  {
   "cell_type": "code",
   "execution_count": 12,
   "metadata": {},
   "outputs": [
    {
     "name": "stdout",
     "output_type": "stream",
     "text": [
      "[]\n",
      "66 terms\n"
     ]
    }
   ],
   "source": [
    "# here are the potential terms\n",
    "terms = open('data/manyterms.lower.txt').read().lower().strip().split('\\n')\n",
    "print(terms[44444:44456])\n",
    "print(len(terms), 'terms')"
   ]
  },
  {
   "cell_type": "markdown",
   "metadata": {},
   "source": [
    "As you can see, we got a lot of irrelevant terms.  Let's filter only the top 25 for now."
   ]
  },
  {
   "cell_type": "code",
   "execution_count": 11,
   "metadata": {},
   "outputs": [],
   "source": [
    "unique_terms = list(set(terms))"
   ]
  },
  {
   "cell_type": "code",
   "execution_count": 14,
   "metadata": {},
   "outputs": [],
   "source": [
    "from sklearn.feature_extraction.text import CountVectorizer\n",
    "\n",
    "# Here lowercase=False option is used to keep the original case of the terms, since we possibly could have term abbreviations. Like API, CAT, etc.\n",
    "cvectorizer = CountVectorizer(ngram_range=(\n",
    "    1, 4), stop_words=\"english\", vocabulary=unique_terms, lowercase=True)\n",
    "X = cvectorizer.fit_transform(patent_texts)"
   ]
  },
  {
   "cell_type": "markdown",
   "metadata": {},
   "source": [
    "Let's take a look at the results of the counting"
   ]
  },
  {
   "cell_type": "code",
   "execution_count": 15,
   "metadata": {},
   "outputs": [
    {
     "data": {
      "text/plain": [
       "(427, 59)"
      ]
     },
     "execution_count": 15,
     "metadata": {},
     "output_type": "execute_result"
    }
   ],
   "source": [
    "#row = patents\n",
    "#columns = terms\n",
    "#value  = counts\n",
    "X.toarray().shape"
   ]
  },
  {
   "cell_type": "markdown",
   "metadata": {},
   "source": [
    "Let's sum the row for each column (to get each term frequency), sort them, and map to actual vocab"
   ]
  },
  {
   "cell_type": "code",
   "execution_count": 16,
   "metadata": {},
   "outputs": [
    {
     "data": {
      "text/plain": [
       "(1, 59)"
      ]
     },
     "execution_count": 16,
     "metadata": {},
     "output_type": "execute_result"
    }
   ],
   "source": [
    "import numpy as np\n",
    "\n",
    "#sum them across all documents\n",
    "counts = np.sum(X, axis=0)\n",
    "counts.shape"
   ]
  },
  {
   "cell_type": "code",
   "execution_count": 17,
   "metadata": {},
   "outputs": [
    {
     "data": {
      "text/plain": [
       "array(['wherein the power supply control unit detects residual electric power supply of the power supply unit when the signal to instruct the electric power supply to the wireless communication module is input from the rfid module,',\n",
       "       'a control unit configured to perform control such that parameters of the layer higher than the data link layer is set to parameters of the wireless communication module;',\n",
       "       'a tag reading unit configured to transmit the read request to the rfid module, and receives the wireless communication setting information transmitted in response to the read request, and',\n",
       "       'wherein the power supply unit does not perform the electric power supply to the rfid module.',\n",
       "       'wherein, when information designating a condition of the transmission target data is acquired from the external terminal, the rfid module determines whether or not there is transmission target data satisfying the condition, and wirelessly transmits the wireless communication setting information when it is determined that there is transmission target data satisfying the condition.',\n",
       "       'wherein the power supply control unit detects the residual electric power supply of the power supply unit when the signal to instruct t the electric power supply to the wireless communication module is input from the rfid module, controls the power supply unit such that the electric power supply is not performed to the display unit but performed to the wireless communication unit when the residual electric power supply is equal to or larger than a second threshold value which is lower than the first threshold value, and controls the power supply unit such that the electric power supply is not performed to the wireless communication unit and the display unit when the residual electric power supply is equal to or less than the second threshold value.',\n",
       "       'the external terminal comprises:',\n",
       "       '3. the wireless communication terminal with the rfid module according to claim 2, further comprising:',\n",
       "       'an rfid module configured to store wireless communication setting information which is used for the external terminal to perform wireless communication with the wireless communication module and data presence/absence information indicating presence/absence of the transmission target data, the rfid module detecting a read request to read the wireless communication setting information transmitted from the external terminal, the rfid module wirelessly transmitting the wireless communication setting information to the external terminal that has transmitted the read request in response to the read request when the read request is detected; and',\n",
       "       'a generating unit configured to generate the data presence/absence information based on the metadata.'],\n",
       "      dtype=object)"
      ]
     },
     "execution_count": 17,
     "metadata": {},
     "output_type": "execute_result"
    }
   ],
   "source": [
    "#we can get the actual vocab name\n",
    "vocabs = cvectorizer.get_feature_names_out()\n",
    "cvectorizer.get_feature_names_out()[:10]"
   ]
  },
  {
   "cell_type": "code",
   "execution_count": 18,
   "metadata": {},
   "outputs": [
    {
     "data": {
      "text/html": [
       "<div>\n",
       "<style scoped>\n",
       "    .dataframe tbody tr th:only-of-type {\n",
       "        vertical-align: middle;\n",
       "    }\n",
       "\n",
       "    .dataframe tbody tr th {\n",
       "        vertical-align: top;\n",
       "    }\n",
       "\n",
       "    .dataframe thead th {\n",
       "        text-align: right;\n",
       "    }\n",
       "</style>\n",
       "<table border=\"1\" class=\"dataframe\">\n",
       "  <thead>\n",
       "    <tr style=\"text-align: right;\">\n",
       "      <th></th>\n",
       "      <th>0</th>\n",
       "    </tr>\n",
       "  </thead>\n",
       "  <tbody>\n",
       "    <tr>\n",
       "      <th>wherein the power supply control unit detects residual electric power supply of the power supply unit when the signal to instruct the electric power supply to the wireless communication module is input from the rfid module,</th>\n",
       "      <td>0</td>\n",
       "    </tr>\n",
       "    <tr>\n",
       "      <th>1. a wireless communication terminal with an rfid module, comprising:</th>\n",
       "      <td>0</td>\n",
       "    </tr>\n",
       "    <tr>\n",
       "      <th>13. a wireless communication system, comprising:</th>\n",
       "      <td>0</td>\n",
       "    </tr>\n",
       "    <tr>\n",
       "      <th>4. the wireless communication terminal with the rfid module according to claim 3,</th>\n",
       "      <td>0</td>\n",
       "    </tr>\n",
       "    <tr>\n",
       "      <th>wherein the rfid module stores the data presence/absence information for each external terminal, and</th>\n",
       "      <td>0</td>\n",
       "    </tr>\n",
       "  </tbody>\n",
       "</table>\n",
       "</div>"
      ],
      "text/plain": [
       "                                                    0\n",
       "wherein the power supply control unit detects r...  0\n",
       "1. a wireless communication terminal with an rf...  0\n",
       "13. a wireless communication system, comprising:    0\n",
       "4. the wireless communication terminal with the...  0\n",
       "wherein the rfid module stores the data presenc...  0"
      ]
     },
     "execution_count": 18,
     "metadata": {},
     "output_type": "execute_result"
    }
   ],
   "source": [
    "import pandas as pd\n",
    "\n",
    "#put in the dataframe nicely for viewing\n",
    "#.T to transpose columns to rows\n",
    "df = pd.DataFrame(counts, columns = vocabs).T.sort_values(by=0, ascending=False)\n",
    "df.head()"
   ]
  },
  {
   "cell_type": "markdown",
   "metadata": {},
   "source": [
    "## 2. SpaCy NER\n",
    "\n",
    "Let's start from the original model, and try to see how it looks."
   ]
  },
  {
   "cell_type": "code",
   "execution_count": 19,
   "metadata": {},
   "outputs": [
    {
     "name": "stderr",
     "output_type": "stream",
     "text": [
      "/Library/Frameworks/Python.framework/Versions/3.11/lib/python3.11/site-packages/spacy/displacy/__init__.py:213: UserWarning: [W006] No entities to visualize found in Doc object. If this is surprising to you, make sure the Doc was processed using a model that supports named entity recognition, and check the `doc.ents` property manually if necessary.\n",
      "  warnings.warn(Warnings.W006)\n"
     ]
    },
    {
     "data": {
      "text/html": [
       "<span class=\"tex2jax_ignore\"><div class=\"entities\" style=\"line-height: 2.5; direction: ltr\"></div></span>"
      ],
      "text/plain": [
       "<IPython.core.display.HTML object>"
      ]
     },
     "metadata": {},
     "output_type": "display_data"
    }
   ],
   "source": [
    "import spacy\n",
    "from spacy import displacy\n",
    "\n",
    "nlp = spacy.load(\"en_core_web_sm\")\n",
    "doc = nlp(patent_texts[0][18000:20000])\n",
    "displacy.render(doc, style=\"ent\", jupyter=True)"
   ]
  },
  {
   "cell_type": "markdown",
   "metadata": {},
   "source": [
    "Looks great!  But what we want is to further enhance the model so it can tag some technological stuffs\n",
    "\n",
    "First thing is the create a proper dataset that is compatible with spaCy 3.0 to train a NER model\n",
    "\n",
    "### 2.1 Create Dataset\n",
    "\n",
    "Here we used the library’s `PhraseMatcher` class to find the entities from the pre-defined Wiki list."
   ]
  },
  {
   "cell_type": "code",
   "execution_count": 21,
   "metadata": {},
   "outputs": [
    {
     "data": {
      "text/plain": [
       "Index(['wherein the power supply control unit detects residual electric power supply of the power supply unit when the signal to instruct the electric power supply to the wireless communication module is input from the rfid module,',\n",
       "       '1. a wireless communication terminal with an rfid module, comprising:',\n",
       "       '13. a wireless communication system, comprising:',\n",
       "       '4. the wireless communication terminal with the rfid module according to claim 3,',\n",
       "       'wherein the rfid module stores the data presence/absence information for each external terminal, and',\n",
       "       'wherein the power supply unit performs the electric power supply to the wireless communication module, and',\n",
       "       'a power supply control step of controlling power supply of a power supply unit configured to perform the electric power supply to the wireless communication module;',\n",
       "       'a storage unit configured to store metadata of the transmission target data; and',\n",
       "       'wherein the rfid module outputs a signal to one of the control unit and the power supply control unit when the read request is detected and the data presence/absence information indicating the presence of the transmission target data is stored while the wireless communication module is operating in the second state, the signal causing a state of the wireless communication module to transition from the second state to the first state.',\n",
       "       'the rfid module outputs a signal to instruct the electric power supply to the wireless communication module to the power supply control unit as the signal causing transition from the second state to the first state.',\n",
       "       '9. the wireless communication terminal with the rfid module according to claim 1,',\n",
       "       'the data update unit updates the data presence/absence information for each external terminal.',\n",
       "       '8. the wireless communication terminal with the rfid module according to claim 1,',\n",
       "       'a control step of setting parameters of the layer higher than the data link layer to parameters of the wireless communication module;',\n",
       "       'a power supply control unit configured to perform power supply control of the power supply unit;',\n",
       "       'a control unit configured to set parameters of the layer higher than the data link layer to parameters of the wireless communication module;',\n",
       "       'the second state is a state in which the electric power supply is not performed from the power supply unit to the wireless communication module,',\n",
       "       'wherein the rfid module stores a list of the transmission target data as the data presence/absence information, and transmits the list to the external terminal.',\n",
       "       'a step of outputting a signal by the rfid module to one of the control unit and the power supply control unit when the read request is detected and the data presence/absence information indicating the presence of the transmission target data is stored while the wireless communication module is operating in the second state, the signal causing a state of the wireless communication module to transition from the second state to the first state.',\n",
       "       'a wireless communication step of wirelessly transmitting transmission target data when a wireless communication module operates in a first state, the wireless communication module being configured to operate in one of a first state in which wireless communication with an external terminal is performed through a layer higher than a data link layer and a second state in which the wireless communication with the external terminal is not performed through the layer higher than the data link layer or electric power supply used to perform wireless communication with the external terminal through the data link layer is not performed;',\n",
       "       '14. a wireless communication method, comprising:',\n",
       "       'the power supply control unit controls the electric power supply to the wireless communication module, and',\n",
       "       'the power supply control unit controls the power supply unit such that electric power supply is performed to the display unit and the wireless communication unit when the residual electric power supply is equal to or larger than a first threshold value, and',\n",
       "       'an external terminal,',\n",
       "       'the first state is a state in which the electric power supply is performed from the power supply unit to the wireless communication module,'],\n",
       "      dtype='object')"
      ]
     },
     "execution_count": 21,
     "metadata": {},
     "output_type": "execute_result"
    }
   ],
   "source": [
    "df.index[:25]"
   ]
  },
  {
   "cell_type": "code",
   "execution_count": 22,
   "metadata": {},
   "outputs": [
    {
     "name": "stdout",
     "output_type": "stream",
     "text": [
      "patterns: wherein the power supply control unit detects residual electric power supply of the power supply unit when the signal to instruct the electric power supply to the wireless communication module is input from the rfid module,\n",
      "type:     <class 'spacy.tokens.doc.Doc'>\n"
     ]
    }
   ],
   "source": [
    "from spacy.matcher import PhraseMatcher\n",
    "\n",
    "nlp = spacy.blank(\"en\")\n",
    "\n",
    "# Creating matcher to label enitites in text\n",
    "matcher = PhraseMatcher(nlp.vocab)\n",
    "\n",
    "# Create an efficient stream of data\n",
    "# nlp.pipe gives you docs\n",
    "patterns = list(nlp.pipe(df.index[:25]))\n",
    "print(\"patterns:\", patterns[0])\n",
    "print(\"type:    \", type(patterns[0]))\n",
    "matcher.add(\"TECH\", patterns) #expect list of docs"
   ]
  },
  {
   "cell_type": "code",
   "execution_count": 23,
   "metadata": {},
   "outputs": [
    {
     "name": "stdout",
     "output_type": "stream",
     "text": [
      "[]\n",
      "[]\n"
     ]
    }
   ],
   "source": [
    "#let's test our matcher\n",
    "text = [\"electronic device is very expensive\", \n",
    "        \"facial expression is the future\"]\n",
    "for doc in nlp.pipe(text):\n",
    "    matches = matcher(doc)\n",
    "    print(matches)\n",
    "    for match_id, start, end in matches:\n",
    "        print(match_id, doc[start:end])"
   ]
  },
  {
   "cell_type": "markdown",
   "metadata": {},
   "source": [
    "Next, we can create training and dev dataset, where each sample is simply each sentence."
   ]
  },
  {
   "cell_type": "code",
   "execution_count": 24,
   "metadata": {},
   "outputs": [],
   "source": [
    "from spacy.tokens import DocBin, Span\n",
    "from spacy.util import filter_spans #fix overlapping\n",
    "\n",
    "def create_dataset(text):\n",
    "    #text is each sentence.\n",
    "    docs = []\n",
    "    for doc in nlp.pipe(text):\n",
    "        matches = matcher(doc)\n",
    "        spans = [Span(doc, start, end, label=match_id) for match_id, start, end in matches]\n",
    "        filtered_ents = filter_spans(spans)\n",
    "        doc.ents = filtered_ents\n",
    "        \n",
    "        docs.append(doc)\n",
    "        \n",
    "    train_size = int(len(docs) * 0.8)\n",
    "        \n",
    "    train_docs = docs[:train_size]\n",
    "    dev_docs   = docs[train_size:]\n",
    "\n",
    "    train_doc_bin = DocBin(docs=train_docs)\n",
    "    train_doc_bin.to_disk(\"docs/train.spacy\")\n",
    "\n",
    "    dev_doc_bin = DocBin(docs=dev_docs)\n",
    "    dev_doc_bin.to_disk(\"docs/dev.spacy\")"
   ]
  },
  {
   "cell_type": "markdown",
   "metadata": {},
   "source": [
    "Split `patent_texts` into sentences, and create the dataset"
   ]
  },
  {
   "cell_type": "code",
   "execution_count": 25,
   "metadata": {},
   "outputs": [
    {
     "name": "stdout",
     "output_type": "stream",
     "text": [
      "427\n"
     ]
    },
    {
     "data": {
      "text/plain": [
       "'1. Field of the Invention'"
      ]
     },
     "execution_count": 25,
     "metadata": {},
     "output_type": "execute_result"
    }
   ],
   "source": [
    "# split each patent into chunks based on end line\n",
    "patent_lines = patent_data.split('\\n')\n",
    "print(len(patent_lines))\n",
    "patent_lines[2] #example"
   ]
  },
  {
   "cell_type": "markdown",
   "metadata": {},
   "source": [
    "Since we have 280k+ chunks, it will take too much time, let's just grab 10000 chunks for now for training and dev."
   ]
  },
  {
   "cell_type": "code",
   "execution_count": 26,
   "metadata": {},
   "outputs": [],
   "source": [
    "create_dataset(patent_lines[:10000])"
   ]
  },
  {
   "cell_type": "markdown",
   "metadata": {},
   "source": [
    "### 2.2 Generate config"
   ]
  },
  {
   "cell_type": "code",
   "execution_count": 27,
   "metadata": {},
   "outputs": [
    {
     "name": "stdout",
     "output_type": "stream",
     "text": [
      "\u001b[38;5;3m⚠ To generate a more effective transformer-based config (GPU-only),\n",
      "install the spacy-transformers package and re-run this command. The config\n",
      "generated now does not use transformers.\u001b[0m\n",
      "\u001b[38;5;4mℹ Generated config template specific for your use case\u001b[0m\n",
      "- Language: en\n",
      "- Pipeline: ner\n",
      "- Optimize for: efficiency\n",
      "- Hardware: CPU\n",
      "- Transformer: None\n",
      "\u001b[38;5;2m✔ Auto-filled config with all values\u001b[0m\n",
      "\u001b[38;5;2m✔ Saved config\u001b[0m\n",
      "configs/tech-config.cfg\n",
      "You can now add your data and train your pipeline:\n",
      "python -m spacy train tech-config.cfg --paths.train ./train.spacy --paths.dev ./dev.spacy\n"
     ]
    }
   ],
   "source": [
    "!python3 -m spacy init config --force configs/tech-config.cfg --lang en --pipeline ner"
   ]
  },
  {
   "cell_type": "markdown",
   "metadata": {},
   "source": [
    "### 2.3 Training"
   ]
  },
  {
   "cell_type": "code",
   "execution_count": 28,
   "metadata": {},
   "outputs": [
    {
     "data": {
      "text/plain": [
       "True"
      ]
     },
     "execution_count": 28,
     "metadata": {},
     "output_type": "execute_result"
    }
   ],
   "source": [
    "gpu = spacy.require_gpu()\n",
    "gpu"
   ]
  },
  {
   "cell_type": "code",
   "execution_count": 29,
   "metadata": {},
   "outputs": [
    {
     "name": "stdout",
     "output_type": "stream",
     "text": [
      "\u001b[38;5;4mℹ Saving to output directory: output\u001b[0m\n",
      "\u001b[38;5;4mℹ Using GPU: 0\u001b[0m\n",
      "\u001b[1m\n",
      "=========================== Initializing pipeline ===========================\u001b[0m\n",
      "\u001b[38;5;2m✔ Initialized pipeline\u001b[0m\n",
      "\u001b[1m\n",
      "============================= Training pipeline =============================\u001b[0m\n",
      "\u001b[38;5;4mℹ Pipeline: ['tok2vec', 'ner']\u001b[0m\n",
      "\u001b[38;5;4mℹ Initial learn rate: 0.001\u001b[0m\n",
      "E    #       LOSS TOK2VEC  LOSS NER  ENTS_F  ENTS_P  ENTS_R  SCORE \n",
      "---  ------  ------------  --------  ------  ------  ------  ------\n",
      "  0       0          0.00     19.00    0.00    0.00    0.00    0.00\n",
      "  1     200          0.11    178.84    0.00    0.00    0.00    0.00\n",
      "  3     400          0.00      0.00    0.00    0.00    0.00    0.00\n",
      "  4     600          0.00      0.00    0.00    0.00    0.00    0.00\n",
      "  7     800          0.00      0.00    0.00    0.00    0.00    0.00\n",
      "  9    1000          0.00      0.00    0.00    0.00    0.00    0.00\n",
      " 13    1200          0.00      0.00    0.00    0.00    0.00    0.00\n",
      " 17    1400          0.00      0.00    0.00    0.00    0.00    0.00\n",
      " 22    1600          0.00      0.00    0.00    0.00    0.00    0.00\n",
      "\u001b[38;5;2m✔ Saved pipeline to output directory\u001b[0m\n",
      "output/model-last\n"
     ]
    }
   ],
   "source": [
    "!python3 -m spacy train configs/tech-config.cfg --output ./output --paths.train docs/train.spacy --paths.dev docs/dev.spacy --gpu-id 0"
   ]
  },
  {
   "cell_type": "markdown",
   "metadata": {},
   "source": [
    "### 2.4 Loading and Testing"
   ]
  },
  {
   "cell_type": "code",
   "execution_count": 32,
   "metadata": {},
   "outputs": [
    {
     "name": "stdout",
     "output_type": "stream",
     "text": [
      "()\n"
     ]
    },
    {
     "data": {
      "text/html": [
       "<span class=\"tex2jax_ignore\"><div class=\"entities\" style=\"line-height: 2.5; direction: ltr\">a power supply unit configured to perform the electric power supply to the wireless communication module;</div></span>"
      ],
      "text/plain": [
       "<IPython.core.display.HTML object>"
      ]
     },
     "metadata": {},
     "output_type": "display_data"
    }
   ],
   "source": [
    "import spacy\n",
    "\n",
    "nlp = spacy.load(\"output/model-best\")\n",
    "doc = nlp(\"a power supply unit configured to perform the electric power supply to the wireless communication module;\")\n",
    "\n",
    "colors = {\"TECH\": \"#F67DE3\"}\n",
    "options = {\"colors\": colors}\n",
    "\n",
    "print(doc.ents)\n",
    "\n",
    "# to visualize the named entities in the processed text.\n",
    "spacy.displacy.render(doc, style=\"ent\", options=options, jupyter=True)"
   ]
  },
  {
   "cell_type": "code",
   "execution_count": null,
   "metadata": {},
   "outputs": [],
   "source": [
    "# Load spaCy model: The code loads a spaCy language model from a custom path. The path is specified as \"output/model-best\".\n",
    "\n",
    "# Process the text: The model (nlp) is used to process a given text, in this case, the text \"iPhone is an electronic device. The control unit is made in China.\"\n",
    "\n",
    "# Define entity colors: The colors dictionary associates entity types with specific colors. In this example, the entity type \"TECH\" is associated with the color \"#F67DE3\".\n",
    "\n",
    "# Define rendering options: The options dictionary includes rendering options for spaCy's displacy.render function. It specifies the colors for entities using the previously defined colors dictionary.\n",
    "\n",
    "# Print recognized entities: The doc.ents attribute contains the recognized entities in the processed text. This information is printed to the console.\n",
    "\n",
    "# Render named entities: The spacy.displacy.render function is used to visualize the named entities in the processed text. The rendering style is set to \"ent\" (entities), and the specified rendering options, including entity colors, are passed using the options parameter.\n",
    "\n",
    "# This code is useful for visualizing and customizing the rendering of named entities in a text using spaCy. It provides a clear and colorful representation of the identified entities in the specified text."
   ]
  }
 ],
 "metadata": {
  "kernelspec": {
   "display_name": "Python 3 (ipykernel)",
   "language": "python",
   "name": "python3"
  },
  "language_info": {
   "codemirror_mode": {
    "name": "ipython",
    "version": 3
   },
   "file_extension": ".py",
   "mimetype": "text/x-python",
   "name": "python",
   "nbconvert_exporter": "python",
   "pygments_lexer": "ipython3",
   "version": "3.11.4"
  },
  "vscode": {
   "interpreter": {
    "hash": "becc4c8e5ad229b2591d820334d85e3db0111492344629bf57f272470dce75a5"
   }
  }
 },
 "nbformat": 4,
 "nbformat_minor": 4
}
